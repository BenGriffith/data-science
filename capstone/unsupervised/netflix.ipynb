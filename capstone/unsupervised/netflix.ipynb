{
 "cells": [
  {
   "cell_type": "markdown",
   "metadata": {},
   "source": [
    "Netflix wants to identify similar movies based on movie characteristics.\n",
    "\n",
    "https://www.kaggle.com/shivamb/netflix-shows"
   ]
  },
  {
   "cell_type": "code",
   "execution_count": 100,
   "metadata": {},
   "outputs": [],
   "source": [
    "# Import libraries\n",
    "import pandas as pd\n",
    "import numpy as np\n",
    "import matplotlib.pyplot as plt\n",
    "import seaborn as sns\n",
    "import warnings\n",
    "from wordcloud import WordCloud\n",
    "\n",
    "# Display preference\n",
    "warnings.filterwarnings('ignore')\n",
    "pd.set_option('Display.max_columns', 100)\n",
    "pd.set_option('Display.max_rows', 10000)"
   ]
  },
  {
   "cell_type": "code",
   "execution_count": 118,
   "metadata": {},
   "outputs": [],
   "source": [
    "netflix = pd.read_csv('../../data/netflix_titles.csv')"
   ]
  },
  {
   "cell_type": "code",
   "execution_count": 119,
   "metadata": {},
   "outputs": [
    {
     "name": "stdout",
     "output_type": "stream",
     "text": [
      "<class 'pandas.core.frame.DataFrame'>\n",
      "RangeIndex: 6234 entries, 0 to 6233\n",
      "Data columns (total 12 columns):\n",
      "show_id         6234 non-null int64\n",
      "type            6234 non-null object\n",
      "title           6234 non-null object\n",
      "director        4265 non-null object\n",
      "cast            5664 non-null object\n",
      "country         5758 non-null object\n",
      "date_added      6223 non-null object\n",
      "release_year    6234 non-null int64\n",
      "rating          6224 non-null object\n",
      "duration        6234 non-null object\n",
      "listed_in       6234 non-null object\n",
      "description     6234 non-null object\n",
      "dtypes: int64(2), object(10)\n",
      "memory usage: 584.6+ KB\n"
     ]
    }
   ],
   "source": [
    "netflix.info()"
   ]
  },
  {
   "cell_type": "code",
   "execution_count": 120,
   "metadata": {},
   "outputs": [],
   "source": [
    "netflix = netflix.drop(['director'], axis=1)\n",
    "netflix = netflix.dropna(subset=['cast', 'date_added'])\n",
    "netflix['country'] = netflix['country'].fillna('Unknown')\n",
    "netflix['rating'] = netflix['rating'].fillna('Unknown')"
   ]
  },
  {
   "cell_type": "code",
   "execution_count": 121,
   "metadata": {},
   "outputs": [
    {
     "name": "stdout",
     "output_type": "stream",
     "text": [
      "<class 'pandas.core.frame.DataFrame'>\n",
      "Int64Index: 5654 entries, 0 to 6222\n",
      "Data columns (total 11 columns):\n",
      "show_id         5654 non-null int64\n",
      "type            5654 non-null object\n",
      "title           5654 non-null object\n",
      "cast            5654 non-null object\n",
      "country         5654 non-null object\n",
      "date_added      5654 non-null object\n",
      "release_year    5654 non-null int64\n",
      "rating          5654 non-null object\n",
      "duration        5654 non-null object\n",
      "listed_in       5654 non-null object\n",
      "description     5654 non-null object\n",
      "dtypes: int64(2), object(9)\n",
      "memory usage: 530.1+ KB\n"
     ]
    }
   ],
   "source": [
    "netflix.info()"
   ]
  },
  {
   "cell_type": "code",
   "execution_count": 53,
   "metadata": {},
   "outputs": [],
   "source": [
    "# Create netflix column labels for show categories\n",
    "show_categories = set()\n",
    "\n",
    "for show_category in netflix['listed_in']:\n",
    "    \n",
    "    # Create list of show categories\n",
    "    categories = show_category.split(',')\n",
    "    \n",
    "    # Add category to set\n",
    "    for category in categories:\n",
    "        show_categories.add(category.strip().lower())"
   ]
  },
  {
   "cell_type": "code",
   "execution_count": 54,
   "metadata": {},
   "outputs": [],
   "source": [
    "# Create new netflix column labels\n",
    "for show_category in sorted(show_categories):\n",
    "    \n",
    "    # Assign initial value\n",
    "    netflix[show_category] = False"
   ]
  },
  {
   "cell_type": "code",
   "execution_count": 55,
   "metadata": {},
   "outputs": [],
   "source": [
    "# Retrieve index for description column\n",
    "description_index = netflix.columns.tolist().index('description')\n",
    "tv_thriller_index = netflix.columns.tolist().index('tv thrillers')"
   ]
  },
  {
   "cell_type": "code",
   "execution_count": 56,
   "metadata": {},
   "outputs": [],
   "source": [
    "for show_category in enumerate(netflix['listed_in'], 0):\n",
    "    \n",
    "    # Create list of show categories\n",
    "    categories = show_category[1].split(',')\n",
    "    \n",
    "    for category in categories:\n",
    "        \n",
    "        # Remove whitespace and set to lowercase\n",
    "        category = category.strip().lower()\n",
    "        \n",
    "        # Show category in netflix columns\n",
    "        if category in netflix.columns[(description_index + 1):(tv_thriller_index + 1)]:\n",
    "            \n",
    "            # Update show category value to True\n",
    "            netflix[category][show_category[0]] = True"
   ]
  },
  {
   "cell_type": "code",
   "execution_count": 135,
   "metadata": {},
   "outputs": [],
   "source": [
    "# Create netflix column labels for countries\n",
    "countries = set()\n",
    "\n",
    "for country in netflix['country']:\n",
    "    \n",
    "    show_countries = country.split(',')\n",
    "\n",
    "    if '' in show_countries:\n",
    "        show_countries.remove('')\n",
    "    \n",
    "    for show_country in show_countries:\n",
    "        countries.add(show_country.strip().lower())"
   ]
  },
  {
   "cell_type": "code",
   "execution_count": null,
   "metadata": {},
   "outputs": [],
   "source": [
    "for country in countries:\n",
    "    netflix[country] = False"
   ]
  },
  {
   "cell_type": "code",
   "execution_count": 96,
   "metadata": {},
   "outputs": [],
   "source": [
    "def lead_role(cast):\n",
    "    show_cast = cast.split(',')\n",
    "    return show_cast[0].strip()"
   ]
  },
  {
   "cell_type": "code",
   "execution_count": 97,
   "metadata": {},
   "outputs": [],
   "source": [
    "netflix['lead_role'] = netflix['cast'].apply(lead_role)"
   ]
  }
 ],
 "metadata": {
  "kernelspec": {
   "display_name": "Python 3",
   "language": "python",
   "name": "python3"
  },
  "language_info": {
   "codemirror_mode": {
    "name": "ipython",
    "version": 3
   },
   "file_extension": ".py",
   "mimetype": "text/x-python",
   "name": "python",
   "nbconvert_exporter": "python",
   "pygments_lexer": "ipython3",
   "version": "3.7.4"
  }
 },
 "nbformat": 4,
 "nbformat_minor": 2
}
