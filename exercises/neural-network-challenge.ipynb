{
 "cells": [
  {
   "cell_type": "code",
   "execution_count": 1,
   "metadata": {},
   "outputs": [],
   "source": [
    "# Import libraries\n",
    "import numpy as np\n",
    "import pandas as pd\n",
    "import matplotlib.pyplot as plt\n",
    "import warnings\n",
    "from sklearn.model_selection import train_test_split, GridSearchCV\n",
    "from sklearn.ensemble import RandomForestClassifier\n",
    "from sklearn.neural_network import MLPClassifier\n",
    "from sklearn.metrics import accuracy_score\n",
    "\n",
    "# Display preference\n",
    "warnings.filterwarnings('ignore')"
   ]
  },
  {
   "cell_type": "code",
   "execution_count": 2,
   "metadata": {},
   "outputs": [],
   "source": [
    "surgery = pd.read_csv('../data/Surgical-deepnet.csv')"
   ]
  },
  {
   "cell_type": "code",
   "execution_count": 3,
   "metadata": {},
   "outputs": [
    {
     "name": "stdout",
     "output_type": "stream",
     "text": [
      "<class 'pandas.core.frame.DataFrame'>\n",
      "RangeIndex: 14635 entries, 0 to 14634\n",
      "Data columns (total 25 columns):\n",
      " #   Column               Non-Null Count  Dtype  \n",
      "---  ------               --------------  -----  \n",
      " 0   bmi                  14635 non-null  float64\n",
      " 1   Age                  14635 non-null  float64\n",
      " 2   asa_status           14635 non-null  int64  \n",
      " 3   baseline_cancer      14635 non-null  int64  \n",
      " 4   baseline_charlson    14635 non-null  int64  \n",
      " 5   baseline_cvd         14635 non-null  int64  \n",
      " 6   baseline_dementia    14635 non-null  int64  \n",
      " 7   baseline_diabetes    14635 non-null  int64  \n",
      " 8   baseline_digestive   14635 non-null  int64  \n",
      " 9   baseline_osteoart    14635 non-null  int64  \n",
      " 10  baseline_psych       14635 non-null  int64  \n",
      " 11  baseline_pulmonary   14635 non-null  int64  \n",
      " 12  ahrq_ccs             14635 non-null  int64  \n",
      " 13  ccsComplicationRate  14635 non-null  float64\n",
      " 14  ccsMort30Rate        14635 non-null  float64\n",
      " 15  complication_rsi     14635 non-null  float64\n",
      " 16  dow                  14635 non-null  int64  \n",
      " 17  gender               14635 non-null  int64  \n",
      " 18  hour                 14635 non-null  float64\n",
      " 19  month                14635 non-null  int64  \n",
      " 20  moonphase            14635 non-null  int64  \n",
      " 21  mort30               14635 non-null  int64  \n",
      " 22  mortality_rsi        14635 non-null  float64\n",
      " 23  race                 14635 non-null  int64  \n",
      " 24  complication         14635 non-null  int64  \n",
      "dtypes: float64(7), int64(18)\n",
      "memory usage: 2.8 MB\n"
     ]
    }
   ],
   "source": [
    "surgery.info()"
   ]
  },
  {
   "cell_type": "code",
   "execution_count": 4,
   "metadata": {},
   "outputs": [
    {
     "data": {
      "text/html": [
       "<div>\n",
       "<style scoped>\n",
       "    .dataframe tbody tr th:only-of-type {\n",
       "        vertical-align: middle;\n",
       "    }\n",
       "\n",
       "    .dataframe tbody tr th {\n",
       "        vertical-align: top;\n",
       "    }\n",
       "\n",
       "    .dataframe thead th {\n",
       "        text-align: right;\n",
       "    }\n",
       "</style>\n",
       "<table border=\"1\" class=\"dataframe\">\n",
       "  <thead>\n",
       "    <tr style=\"text-align: right;\">\n",
       "      <th></th>\n",
       "      <th>bmi</th>\n",
       "      <th>Age</th>\n",
       "      <th>asa_status</th>\n",
       "      <th>baseline_cancer</th>\n",
       "      <th>baseline_charlson</th>\n",
       "      <th>baseline_cvd</th>\n",
       "      <th>baseline_dementia</th>\n",
       "      <th>baseline_diabetes</th>\n",
       "      <th>baseline_digestive</th>\n",
       "      <th>baseline_osteoart</th>\n",
       "      <th>...</th>\n",
       "      <th>complication_rsi</th>\n",
       "      <th>dow</th>\n",
       "      <th>gender</th>\n",
       "      <th>hour</th>\n",
       "      <th>month</th>\n",
       "      <th>moonphase</th>\n",
       "      <th>mort30</th>\n",
       "      <th>mortality_rsi</th>\n",
       "      <th>race</th>\n",
       "      <th>complication</th>\n",
       "    </tr>\n",
       "  </thead>\n",
       "  <tbody>\n",
       "    <tr>\n",
       "      <th>0</th>\n",
       "      <td>19.31</td>\n",
       "      <td>59.2</td>\n",
       "      <td>1</td>\n",
       "      <td>1</td>\n",
       "      <td>0</td>\n",
       "      <td>0</td>\n",
       "      <td>0</td>\n",
       "      <td>0</td>\n",
       "      <td>0</td>\n",
       "      <td>0</td>\n",
       "      <td>...</td>\n",
       "      <td>-0.57</td>\n",
       "      <td>3</td>\n",
       "      <td>0</td>\n",
       "      <td>7.63</td>\n",
       "      <td>6</td>\n",
       "      <td>1</td>\n",
       "      <td>0</td>\n",
       "      <td>-0.43</td>\n",
       "      <td>1</td>\n",
       "      <td>0</td>\n",
       "    </tr>\n",
       "    <tr>\n",
       "      <th>1</th>\n",
       "      <td>18.73</td>\n",
       "      <td>59.1</td>\n",
       "      <td>0</td>\n",
       "      <td>0</td>\n",
       "      <td>0</td>\n",
       "      <td>0</td>\n",
       "      <td>0</td>\n",
       "      <td>0</td>\n",
       "      <td>0</td>\n",
       "      <td>0</td>\n",
       "      <td>...</td>\n",
       "      <td>0.21</td>\n",
       "      <td>0</td>\n",
       "      <td>0</td>\n",
       "      <td>12.93</td>\n",
       "      <td>0</td>\n",
       "      <td>1</td>\n",
       "      <td>0</td>\n",
       "      <td>-0.41</td>\n",
       "      <td>1</td>\n",
       "      <td>0</td>\n",
       "    </tr>\n",
       "    <tr>\n",
       "      <th>2</th>\n",
       "      <td>21.85</td>\n",
       "      <td>59.0</td>\n",
       "      <td>0</td>\n",
       "      <td>0</td>\n",
       "      <td>0</td>\n",
       "      <td>0</td>\n",
       "      <td>0</td>\n",
       "      <td>0</td>\n",
       "      <td>0</td>\n",
       "      <td>0</td>\n",
       "      <td>...</td>\n",
       "      <td>0.00</td>\n",
       "      <td>2</td>\n",
       "      <td>0</td>\n",
       "      <td>7.68</td>\n",
       "      <td>5</td>\n",
       "      <td>3</td>\n",
       "      <td>0</td>\n",
       "      <td>0.08</td>\n",
       "      <td>1</td>\n",
       "      <td>0</td>\n",
       "    </tr>\n",
       "    <tr>\n",
       "      <th>3</th>\n",
       "      <td>18.49</td>\n",
       "      <td>59.0</td>\n",
       "      <td>1</td>\n",
       "      <td>0</td>\n",
       "      <td>1</td>\n",
       "      <td>0</td>\n",
       "      <td>0</td>\n",
       "      <td>1</td>\n",
       "      <td>1</td>\n",
       "      <td>0</td>\n",
       "      <td>...</td>\n",
       "      <td>-0.65</td>\n",
       "      <td>2</td>\n",
       "      <td>1</td>\n",
       "      <td>7.58</td>\n",
       "      <td>4</td>\n",
       "      <td>3</td>\n",
       "      <td>0</td>\n",
       "      <td>-0.32</td>\n",
       "      <td>1</td>\n",
       "      <td>0</td>\n",
       "    </tr>\n",
       "    <tr>\n",
       "      <th>4</th>\n",
       "      <td>19.70</td>\n",
       "      <td>59.0</td>\n",
       "      <td>1</td>\n",
       "      <td>0</td>\n",
       "      <td>0</td>\n",
       "      <td>0</td>\n",
       "      <td>0</td>\n",
       "      <td>0</td>\n",
       "      <td>0</td>\n",
       "      <td>0</td>\n",
       "      <td>...</td>\n",
       "      <td>0.00</td>\n",
       "      <td>0</td>\n",
       "      <td>0</td>\n",
       "      <td>7.88</td>\n",
       "      <td>11</td>\n",
       "      <td>0</td>\n",
       "      <td>0</td>\n",
       "      <td>0.00</td>\n",
       "      <td>1</td>\n",
       "      <td>0</td>\n",
       "    </tr>\n",
       "  </tbody>\n",
       "</table>\n",
       "<p>5 rows × 25 columns</p>\n",
       "</div>"
      ],
      "text/plain": [
       "     bmi   Age  asa_status  baseline_cancer  baseline_charlson  baseline_cvd  \\\n",
       "0  19.31  59.2           1                1                  0             0   \n",
       "1  18.73  59.1           0                0                  0             0   \n",
       "2  21.85  59.0           0                0                  0             0   \n",
       "3  18.49  59.0           1                0                  1             0   \n",
       "4  19.70  59.0           1                0                  0             0   \n",
       "\n",
       "   baseline_dementia  baseline_diabetes  baseline_digestive  \\\n",
       "0                  0                  0                   0   \n",
       "1                  0                  0                   0   \n",
       "2                  0                  0                   0   \n",
       "3                  0                  1                   1   \n",
       "4                  0                  0                   0   \n",
       "\n",
       "   baseline_osteoart  ...  complication_rsi  dow  gender   hour  month  \\\n",
       "0                  0  ...             -0.57    3       0   7.63      6   \n",
       "1                  0  ...              0.21    0       0  12.93      0   \n",
       "2                  0  ...              0.00    2       0   7.68      5   \n",
       "3                  0  ...             -0.65    2       1   7.58      4   \n",
       "4                  0  ...              0.00    0       0   7.88     11   \n",
       "\n",
       "   moonphase  mort30  mortality_rsi  race  complication  \n",
       "0          1       0          -0.43     1             0  \n",
       "1          1       0          -0.41     1             0  \n",
       "2          3       0           0.08     1             0  \n",
       "3          3       0          -0.32     1             0  \n",
       "4          0       0           0.00     1             0  \n",
       "\n",
       "[5 rows x 25 columns]"
      ]
     },
     "execution_count": 4,
     "metadata": {},
     "output_type": "execute_result"
    }
   ],
   "source": [
    "surgery.head()"
   ]
  },
  {
   "cell_type": "code",
   "execution_count": 5,
   "metadata": {},
   "outputs": [],
   "source": [
    "# Create independent and dependent variables\n",
    "X = surgery.drop(['complication'], axis=1)\n",
    "y = surgery.complication"
   ]
  },
  {
   "cell_type": "code",
   "execution_count": 6,
   "metadata": {},
   "outputs": [],
   "source": [
    "# Create training and test sets\n",
    "X_train, X_test, y_train, y_test = train_test_split(X, y, test_size=0.20, random_state=465)"
   ]
  },
  {
   "cell_type": "code",
   "execution_count": 7,
   "metadata": {},
   "outputs": [
    {
     "name": "stdout",
     "output_type": "stream",
     "text": [
      "GridSearchCV(cv=None, error_score=nan,\n",
      "             estimator=MLPClassifier(activation='relu', alpha=0.0001,\n",
      "                                     batch_size='auto', beta_1=0.9,\n",
      "                                     beta_2=0.999, early_stopping=False,\n",
      "                                     epsilon=1e-08,\n",
      "                                     hidden_layer_sizes=(1000, 500, 250, 125,\n",
      "                                                         100, 50, 25, 2),\n",
      "                                     learning_rate='constant',\n",
      "                                     learning_rate_init=0.001, max_fun=15000,\n",
      "                                     max_iter=200, momentum=0.9,\n",
      "                                     n_iter_no_change=10,\n",
      "                                     nesterovs_momentum=True, power_t=0.5,\n",
      "                                     random_state=None, shuffle=True,\n",
      "                                     solver='adam', tol=0.0001,\n",
      "                                     validation_fraction=0.1, verbose=False,\n",
      "                                     warm_start=False),\n",
      "             iid='deprecated', n_jobs=None,\n",
      "             param_grid={'activation': ['logistic', 'relu'],\n",
      "                         'alpha': [0.0001, 0.001, 0.01]},\n",
      "             pre_dispatch='2*n_jobs', refit=True, return_train_score=False,\n",
      "             scoring=None, verbose=0)\n",
      "0.7631532868762428\n",
      "relu\n",
      "0.01\n"
     ]
    }
   ],
   "source": [
    "# Neural network\n",
    "activations = ['logistic', 'relu']\n",
    "alphas = [0.0001, 0.001, 0.01]\n",
    "mlp = MLPClassifier(hidden_layer_sizes = (1000, 500, 250, 125, 100, 50, 25, 2))\n",
    "grid = GridSearchCV(estimator=mlp, param_grid=dict(activation=activations, alpha=alphas))\n",
    "grid.fit(X_train, y_train)\n",
    "print(grid)\n",
    "print(grid.best_score_)\n",
    "print(grid.best_estimator_.activation)\n",
    "print(grid.best_estimator_.alpha)"
   ]
  },
  {
   "cell_type": "code",
   "execution_count": 8,
   "metadata": {},
   "outputs": [
    {
     "data": {
      "text/plain": [
       "MLPClassifier(activation='relu', alpha=0.01, batch_size='auto', beta_1=0.9,\n",
       "              beta_2=0.999, early_stopping=False, epsilon=1e-08,\n",
       "              hidden_layer_sizes=(1000, 500, 250, 125, 100, 50, 25, 2),\n",
       "              learning_rate='constant', learning_rate_init=0.001, max_fun=15000,\n",
       "              max_iter=200, momentum=0.9, n_iter_no_change=10,\n",
       "              nesterovs_momentum=True, power_t=0.5, random_state=None,\n",
       "              shuffle=True, solver='adam', tol=0.0001, validation_fraction=0.1,\n",
       "              verbose=False, warm_start=False)"
      ]
     },
     "execution_count": 8,
     "metadata": {},
     "output_type": "execute_result"
    }
   ],
   "source": [
    "mlp = MLPClassifier(hidden_layer_sizes = (1000, 500, 250, 125, 100, 50, 25, 2), alpha=0.01, activation='relu')\n",
    "mlp.fit(X_train, y_train)"
   ]
  },
  {
   "cell_type": "code",
   "execution_count": 9,
   "metadata": {},
   "outputs": [],
   "source": [
    "mlp_predictions = mlp.predict(X_test)"
   ]
  },
  {
   "cell_type": "code",
   "execution_count": 10,
   "metadata": {},
   "outputs": [
    {
     "data": {
      "text/plain": [
       "RandomForestClassifier(bootstrap=True, ccp_alpha=0.0, class_weight=None,\n",
       "                       criterion='gini', max_depth=None, max_features='auto',\n",
       "                       max_leaf_nodes=None, max_samples=None,\n",
       "                       min_impurity_decrease=0.0, min_impurity_split=None,\n",
       "                       min_samples_leaf=1, min_samples_split=2,\n",
       "                       min_weight_fraction_leaf=0.0, n_estimators=100,\n",
       "                       n_jobs=None, oob_score=False, random_state=None,\n",
       "                       verbose=0, warm_start=False)"
      ]
     },
     "execution_count": 10,
     "metadata": {},
     "output_type": "execute_result"
    }
   ],
   "source": [
    "# Random forest\n",
    "rf = RandomForestClassifier()\n",
    "rf.fit(X_train, y_train)"
   ]
  },
  {
   "cell_type": "code",
   "execution_count": 11,
   "metadata": {},
   "outputs": [],
   "source": [
    "rf_predictions = rf.predict(X_test)"
   ]
  },
  {
   "cell_type": "code",
   "execution_count": 12,
   "metadata": {},
   "outputs": [
    {
     "name": "stdout",
     "output_type": "stream",
     "text": [
      "Neural Network: 0.7806627946703109\n",
      "Random Forest: 0.8674410659378203\n"
     ]
    }
   ],
   "source": [
    "print('Neural Network: {}'.format(accuracy_score(y_test, mlp_predictions)))\n",
    "print('Random Forest: {}'.format(accuracy_score(y_test, rf_predictions)))"
   ]
  }
 ],
 "metadata": {
  "kernelspec": {
   "display_name": "Python 3",
   "language": "python",
   "name": "python3"
  },
  "language_info": {
   "codemirror_mode": {
    "name": "ipython",
    "version": 3
   },
   "file_extension": ".py",
   "mimetype": "text/x-python",
   "name": "python",
   "nbconvert_exporter": "python",
   "pygments_lexer": "ipython3",
   "version": "3.7.6"
  }
 },
 "nbformat": 4,
 "nbformat_minor": 4
}
