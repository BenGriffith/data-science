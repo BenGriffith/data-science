{
  "nbformat": 4,
  "nbformat_minor": 0,
  "metadata": {
    "kernelspec": {
      "display_name": "Python 3",
      "language": "python",
      "name": "python3"
    },
    "language_info": {
      "codemirror_mode": {
        "name": "ipython",
        "version": 3
      },
      "file_extension": ".py",
      "mimetype": "text/x-python",
      "name": "python",
      "nbconvert_exporter": "python",
      "pygments_lexer": "ipython3",
      "version": "3.7.6"
    },
    "colab": {
      "name": "generative-adversarial-network.ipynb",
      "provenance": [],
      "collapsed_sections": [],
      "machine_shape": "hm"
    }
  },
  "cells": [
    {
      "cell_type": "code",
      "metadata": {
        "id": "3V8qfRfWjTSx",
        "colab_type": "code",
        "outputId": "a6f68399-75d3-451f-f5ab-c70350383c29",
        "colab": {
          "base_uri": "https://localhost:8080/",
          "height": 1000
        }
      },
      "source": [
        "!pip install selenium\n",
        "!apt-get update\n",
        "!apt install chromium-chromedriver\n",
        "!cp /usr/lib/chromium-browser/chromedriver /usr/bin"
      ],
      "execution_count": 1,
      "outputs": [
        {
          "output_type": "stream",
          "text": [
            "Collecting selenium\n",
            "\u001b[?25l  Downloading https://files.pythonhosted.org/packages/80/d6/4294f0b4bce4de0abf13e17190289f9d0613b0a44e5dd6a7f5ca98459853/selenium-3.141.0-py2.py3-none-any.whl (904kB)\n",
            "\u001b[K     |████████████████████████████████| 911kB 2.8MB/s \n",
            "\u001b[?25hRequirement already satisfied: urllib3 in /usr/local/lib/python3.6/dist-packages (from selenium) (1.24.3)\n",
            "Installing collected packages: selenium\n",
            "Successfully installed selenium-3.141.0\n",
            "Get:1 https://cloud.r-project.org/bin/linux/ubuntu bionic-cran35/ InRelease [3,626 B]\n",
            "Ign:2 https://developer.download.nvidia.com/compute/cuda/repos/ubuntu1804/x86_64  InRelease\n",
            "Ign:3 https://developer.download.nvidia.com/compute/machine-learning/repos/ubuntu1804/x86_64  InRelease\n",
            "Hit:4 https://developer.download.nvidia.com/compute/cuda/repos/ubuntu1804/x86_64  Release\n",
            "Hit:5 https://developer.download.nvidia.com/compute/machine-learning/repos/ubuntu1804/x86_64  Release\n",
            "Hit:6 http://ppa.launchpad.net/graphics-drivers/ppa/ubuntu bionic InRelease\n",
            "Get:7 http://security.ubuntu.com/ubuntu bionic-security InRelease [88.7 kB]\n",
            "Hit:9 http://archive.ubuntu.com/ubuntu bionic InRelease\n",
            "Get:11 http://archive.ubuntu.com/ubuntu bionic-updates InRelease [88.7 kB]\n",
            "Get:12 http://ppa.launchpad.net/marutter/c2d4u3.5/ubuntu bionic InRelease [15.4 kB]\n",
            "Get:13 http://security.ubuntu.com/ubuntu bionic-security/universe amd64 Packages [854 kB]\n",
            "Get:14 http://ppa.launchpad.net/marutter/c2d4u3.5/ubuntu bionic/main Sources [1,819 kB]\n",
            "Get:15 http://archive.ubuntu.com/ubuntu bionic-backports InRelease [74.6 kB]\n",
            "Get:16 http://archive.ubuntu.com/ubuntu bionic-updates/universe amd64 Packages [1,385 kB]\n",
            "Get:17 http://security.ubuntu.com/ubuntu bionic-security/main amd64 Packages [931 kB]\n",
            "Get:18 http://archive.ubuntu.com/ubuntu bionic-updates/main amd64 Packages [1,228 kB]\n",
            "Get:19 http://ppa.launchpad.net/marutter/c2d4u3.5/ubuntu bionic/main amd64 Packages [877 kB]\n",
            "Fetched 7,366 kB in 6s (1,232 kB/s)\n",
            "Reading package lists... Done\n",
            "Reading package lists... Done\n",
            "Building dependency tree       \n",
            "Reading state information... Done\n",
            "The following additional packages will be installed:\n",
            "  chromium-browser chromium-browser-l10n chromium-codecs-ffmpeg-extra\n",
            "Suggested packages:\n",
            "  webaccounts-chromium-extension unity-chromium-extension adobe-flashplugin\n",
            "The following NEW packages will be installed:\n",
            "  chromium-browser chromium-browser-l10n chromium-chromedriver\n",
            "  chromium-codecs-ffmpeg-extra\n",
            "0 upgraded, 4 newly installed, 0 to remove and 39 not upgraded.\n",
            "Need to get 77.3 MB of archives.\n",
            "After this operation, 264 MB of additional disk space will be used.\n",
            "Get:1 http://archive.ubuntu.com/ubuntu bionic-updates/universe amd64 chromium-codecs-ffmpeg-extra amd64 81.0.4044.138-0ubuntu0.18.04.1 [1,095 kB]\n",
            "Get:2 http://archive.ubuntu.com/ubuntu bionic-updates/universe amd64 chromium-browser amd64 81.0.4044.138-0ubuntu0.18.04.1 [68.9 MB]\n",
            "Get:3 http://archive.ubuntu.com/ubuntu bionic-updates/universe amd64 chromium-browser-l10n all 81.0.4044.138-0ubuntu0.18.04.1 [3,231 kB]\n",
            "Get:4 http://archive.ubuntu.com/ubuntu bionic-updates/universe amd64 chromium-chromedriver amd64 81.0.4044.138-0ubuntu0.18.04.1 [4,079 kB]\n",
            "Fetched 77.3 MB in 10s (7,930 kB/s)\n",
            "Selecting previously unselected package chromium-codecs-ffmpeg-extra.\n",
            "(Reading database ... 144439 files and directories currently installed.)\n",
            "Preparing to unpack .../chromium-codecs-ffmpeg-extra_81.0.4044.138-0ubuntu0.18.04.1_amd64.deb ...\n",
            "Unpacking chromium-codecs-ffmpeg-extra (81.0.4044.138-0ubuntu0.18.04.1) ...\n",
            "Selecting previously unselected package chromium-browser.\n",
            "Preparing to unpack .../chromium-browser_81.0.4044.138-0ubuntu0.18.04.1_amd64.deb ...\n",
            "Unpacking chromium-browser (81.0.4044.138-0ubuntu0.18.04.1) ...\n",
            "Selecting previously unselected package chromium-browser-l10n.\n",
            "Preparing to unpack .../chromium-browser-l10n_81.0.4044.138-0ubuntu0.18.04.1_all.deb ...\n",
            "Unpacking chromium-browser-l10n (81.0.4044.138-0ubuntu0.18.04.1) ...\n",
            "Selecting previously unselected package chromium-chromedriver.\n",
            "Preparing to unpack .../chromium-chromedriver_81.0.4044.138-0ubuntu0.18.04.1_amd64.deb ...\n",
            "Unpacking chromium-chromedriver (81.0.4044.138-0ubuntu0.18.04.1) ...\n",
            "Setting up chromium-codecs-ffmpeg-extra (81.0.4044.138-0ubuntu0.18.04.1) ...\n",
            "Setting up chromium-browser (81.0.4044.138-0ubuntu0.18.04.1) ...\n",
            "update-alternatives: using /usr/bin/chromium-browser to provide /usr/bin/x-www-browser (x-www-browser) in auto mode\n",
            "update-alternatives: using /usr/bin/chromium-browser to provide /usr/bin/gnome-www-browser (gnome-www-browser) in auto mode\n",
            "Setting up chromium-chromedriver (81.0.4044.138-0ubuntu0.18.04.1) ...\n",
            "Setting up chromium-browser-l10n (81.0.4044.138-0ubuntu0.18.04.1) ...\n",
            "Processing triggers for hicolor-icon-theme (0.17-2) ...\n",
            "Processing triggers for mime-support (3.60ubuntu1) ...\n",
            "Processing triggers for man-db (2.8.3-2ubuntu0.1) ...\n",
            "cp: '/usr/lib/chromium-browser/chromedriver' and '/usr/bin/chromedriver' are the same file\n"
          ],
          "name": "stdout"
        }
      ]
    },
    {
      "cell_type": "code",
      "metadata": {
        "id": "z1Yj68ahe67R",
        "colab_type": "code",
        "colab": {}
      },
      "source": [
        "# Import libraries\n",
        "import numpy as np\n",
        "import pandas as pd\n",
        "import matplotlib.pyplot as plt\n",
        "import cv2\n",
        "import os\n",
        "import requests\n",
        "import time\n",
        "import json\n",
        "import keras\n",
        "import warnings\n",
        "import random\n",
        "import sys\n",
        "import time\n",
        "from google.colab import drive\n",
        "from google.colab.patches import cv2_imshow\n",
        "from bs4 import BeautifulSoup\n",
        "from selenium import webdriver\n",
        "from sklearn.metrics import classification_report, confusion_matrix, roc_curve, roc_auc_score\n",
        "from sklearn.model_selection import train_test_split\n",
        "from keras.models import Sequential, load_model\n",
        "from keras.layers import Dense, Dropout, Flatten, Conv2D, MaxPooling2D, Activation\n",
        "from keras.optimizers import Adam\n",
        "from keras import backend as K\n",
        "\n",
        "# Display preference\n",
        "warnings.filterwarnings('ignore')"
      ],
      "execution_count": 0,
      "outputs": []
    },
    {
      "cell_type": "code",
      "metadata": {
        "id": "es9ZhyJImKWG",
        "colab_type": "code",
        "outputId": "2a968589-9392-4d9d-8f8a-c15ea52ceac1",
        "colab": {
          "base_uri": "https://localhost:8080/",
          "height": 129
        }
      },
      "source": [
        "drive.mount('/gdrive')"
      ],
      "execution_count": 3,
      "outputs": [
        {
          "output_type": "stream",
          "text": [
            "Go to this URL in a browser: https://accounts.google.com/o/oauth2/auth?client_id=947318989803-6bn6qk8qdgf4n4g3pfee6491hc0brc4i.apps.googleusercontent.com&redirect_uri=urn%3aietf%3awg%3aoauth%3a2.0%3aoob&response_type=code&scope=email%20https%3a%2f%2fwww.googleapis.com%2fauth%2fdocs.test%20https%3a%2f%2fwww.googleapis.com%2fauth%2fdrive%20https%3a%2f%2fwww.googleapis.com%2fauth%2fdrive.photos.readonly%20https%3a%2f%2fwww.googleapis.com%2fauth%2fpeopleapi.readonly\n",
            "\n",
            "Enter your authorization code:\n",
            "··········\n",
            "Mounted at /gdrive\n"
          ],
          "name": "stdout"
        }
      ]
    },
    {
      "cell_type": "code",
      "metadata": {
        "id": "Ijjx2FEqe67i",
        "colab_type": "code",
        "colab": {}
      },
      "source": [
        "def scroll(driver, timeout):\n",
        "    \n",
        "    # Get scroll height\n",
        "    last_height = driver.execute_script(\"return document.body.scrollHeight\")\n",
        "\n",
        "    while True:\n",
        "    \n",
        "        # Scroll down to bottom\n",
        "        driver.execute_script(\"window.scrollTo(0, document.body.scrollHeight);\")\n",
        "\n",
        "        # Wait\n",
        "        time.sleep(timeout)\n",
        "\n",
        "        # Calculate new scroll height and compare with last scroll height\n",
        "        new_height = driver.execute_script(\"return document.body.scrollHeight\")\n",
        "        \n",
        "        if new_height == last_height:\n",
        "            \n",
        "            break\n",
        "        \n",
        "        last_height = new_height   "
      ],
      "execution_count": 0,
      "outputs": []
    },
    {
      "cell_type": "code",
      "metadata": {
        "id": "haGA3aSLe67v",
        "colab_type": "code",
        "colab": {}
      },
      "source": [
        "chrome_options = webdriver.ChromeOptions()\n",
        "chrome_options.add_argument('--headless')\n",
        "chrome_options.add_argument('--no-sandbox')\n",
        "chrome_options.add_argument('--disable-dev-shm-usage')\n",
        "\n",
        "def all_links(url, action, gender=0):\n",
        "    \n",
        "    # Setup driver\n",
        "    driver = webdriver.Chrome('chromedriver', chrome_options=chrome_options)\n",
        "\n",
        "    # Wait before throwing an exception\n",
        "    driver.implicitly_wait(20)\n",
        "\n",
        "    # Open the page\n",
        "    driver.get(url)\n",
        "    \n",
        "    # Start scrolling\n",
        "    scroll(driver, 10)\n",
        "    \n",
        "    # Beautiful Soup parses page_source\n",
        "    soup = BeautifulSoup(driver.page_source, 'lxml')\n",
        "    \n",
        "    # Close the driver\n",
        "    driver.close()\n",
        "\n",
        "    if action == 1:\n",
        "    \n",
        "        # Empty dictionary to store m from page source\n",
        "        get_m = {}\n",
        "    \n",
        "        # Counter for get_m dictionary\n",
        "        get_m_counter = 0\n",
        "\n",
        "        # Looping through all the a elements in the page source\n",
        "        for link in soup.find_all('a', {'class': 'iusc'}):\n",
        "    \n",
        "            # Add values to dictionary\n",
        "            get_m[get_m_counter] = link.get('m')\n",
        "        \n",
        "            # Increment counter\n",
        "            get_m_counter += 1\n",
        "        \n",
        "        # Convert from string to dictionary\n",
        "        for key, value in get_m.items():\n",
        "            get_m[key] = json.loads(value)\n",
        "        \n",
        "        # Empty list to store image links\n",
        "        links = []\n",
        "    \n",
        "        # Loop through get_m dictionary and add image links to links list\n",
        "        for value in get_m.values():\n",
        "            links.append([value['murl'], gender])\n",
        "        \n",
        "        return links\n",
        "    else:\n",
        "        return soup"
      ],
      "execution_count": 0,
      "outputs": []
    },
    {
      "cell_type": "code",
      "metadata": {
        "id": "hBet4uG4e673",
        "colab_type": "code",
        "colab": {}
      },
      "source": [
        "# List of names to search\n",
        "names = []"
      ],
      "execution_count": 0,
      "outputs": []
    },
    {
      "cell_type": "code",
      "metadata": {
        "id": "ZdJh0voVe67_",
        "colab_type": "code",
        "colab": {}
      },
      "source": [
        "# Popular names url\n",
        "name_url = 'https://www.ssa.gov/oact/babynames/decades/century.html'\n",
        "\n",
        "# Beautiful Soup object\n",
        "soup_name = all_links(name_url, 0)\n",
        "\n",
        "# Get td tag\n",
        "td_tag = soup_name.select('.t-stripe > tbody > tr > td')\n",
        "\n",
        "# Add name to search names\n",
        "names += [name.get_text().lower() for name in td_tag if name.get_text().isalpha()]"
      ],
      "execution_count": 0,
      "outputs": []
    },
    {
      "cell_type": "code",
      "metadata": {
        "id": "gCdvHLEoe68G",
        "colab_type": "code",
        "colab": {}
      },
      "source": [
        "# List for male names\n",
        "male_names = []\n",
        "\n",
        "# List for female names\n",
        "female_names = []\n",
        "\n",
        "for index, name in enumerate(names, 0):\n",
        "    if index % 2 == 0:\n",
        "        male_names.append([name, 0])\n",
        "    else:\n",
        "        female_names.append([name, 1])"
      ],
      "execution_count": 0,
      "outputs": []
    },
    {
      "cell_type": "code",
      "metadata": {
        "id": "BUVnZZNqe68N",
        "colab_type": "code",
        "colab": {}
      },
      "source": [
        "# Get image links for each name\n",
        "def get_links(names):\n",
        "    \n",
        "    image_links_name = []\n",
        "    pre_image_links_count = 0\n",
        "    post_image_links_count = 0\n",
        "    \n",
        "    for index in range(len(names)):\n",
        "        \n",
        "        # Update url\n",
        "        url = 'https://www.bing.com/images/search?q=' + names[index][0] + '&qs=n&form=QBIR&qft=%20filterui%3Alicense-L2_L3_L4_L5_L6_L7%20filterui%3Aface-face&sp=-1&pq=' + names[index][0] + '&sc=8-9&sk=&cvid=8C2D8EC9A35A4948980A61669549C180'    \n",
        "    \n",
        "        # Number of image links before\n",
        "        pre_image_links_count = len(image_links_name)\n",
        "    \n",
        "        # Add image links\n",
        "        image_links_name += all_links(url, 1, names[index][1])\n",
        "        \n",
        "        # Number of image links after\n",
        "        post_image_links_count = len(image_links_name)\n",
        "        \n",
        "        # Number of image links associated with name\n",
        "        print('{} resulted in {} image links'.format(names[index][0], (post_image_links_count - pre_image_links_count)))\n",
        "        \n",
        "    return image_links_name"
      ],
      "execution_count": 0,
      "outputs": []
    },
    {
      "cell_type": "code",
      "metadata": {
        "id": "UPEVB4dze68S",
        "colab_type": "code",
        "colab": {}
      },
      "source": [
        "# List for image links\n",
        "image_links = []"
      ],
      "execution_count": 0,
      "outputs": []
    },
    {
      "cell_type": "code",
      "metadata": {
        "scrolled": true,
        "id": "GWxb_pxKe68X",
        "colab_type": "code",
        "outputId": "9617cda9-6f9d-4e59-ef2d-52aaa9827102",
        "colab": {
          "base_uri": "https://localhost:8080/",
          "height": 1000
        }
      },
      "source": [
        "# Add male name image links\n",
        "image_links += get_links(male_names)"
      ],
      "execution_count": 0,
      "outputs": [
        {
          "output_type": "stream",
          "text": [
            "james resulted in 175 image links\n",
            "john resulted in 175 image links\n",
            "robert resulted in 175 image links\n",
            "michael resulted in 175 image links\n",
            "william resulted in 175 image links\n",
            "david resulted in 175 image links\n",
            "richard resulted in 210 image links\n",
            "joseph resulted in 175 image links\n",
            "thomas resulted in 175 image links\n",
            "charles resulted in 175 image links\n",
            "christopher resulted in 175 image links\n",
            "daniel resulted in 175 image links\n",
            "matthew resulted in 175 image links\n",
            "anthony resulted in 175 image links\n",
            "donald resulted in 175 image links\n",
            "mark resulted in 210 image links\n",
            "paul resulted in 175 image links\n",
            "steven resulted in 175 image links\n",
            "andrew resulted in 175 image links\n",
            "kenneth resulted in 175 image links\n",
            "joshua resulted in 175 image links\n",
            "george resulted in 175 image links\n",
            "kevin resulted in 175 image links\n",
            "brian resulted in 175 image links\n",
            "edward resulted in 175 image links\n",
            "ronald resulted in 175 image links\n",
            "timothy resulted in 175 image links\n",
            "jason resulted in 175 image links\n",
            "jeffrey resulted in 175 image links\n",
            "ryan resulted in 175 image links\n",
            "jacob resulted in 175 image links\n",
            "gary resulted in 175 image links\n",
            "nicholas resulted in 175 image links\n",
            "eric resulted in 175 image links\n",
            "stephen resulted in 210 image links\n",
            "jonathan resulted in 175 image links\n",
            "larry resulted in 175 image links\n",
            "justin resulted in 175 image links\n",
            "scott resulted in 175 image links\n",
            "brandon resulted in 175 image links\n",
            "frank resulted in 175 image links\n",
            "benjamin resulted in 175 image links\n",
            "gregory resulted in 175 image links\n",
            "samuel resulted in 175 image links\n",
            "raymond resulted in 175 image links\n",
            "patrick resulted in 175 image links\n",
            "alexander resulted in 175 image links\n",
            "jack resulted in 175 image links\n",
            "dennis resulted in 175 image links\n",
            "jerry resulted in 175 image links\n",
            "tyler resulted in 175 image links\n",
            "aaron resulted in 175 image links\n",
            "jose resulted in 175 image links\n",
            "henry resulted in 175 image links\n",
            "douglas resulted in 175 image links\n",
            "adam resulted in 175 image links\n",
            "peter resulted in 175 image links\n",
            "nathan resulted in 175 image links\n",
            "zachary resulted in 175 image links\n",
            "walter resulted in 175 image links\n",
            "kyle resulted in 175 image links\n",
            "harold resulted in 175 image links\n",
            "carl resulted in 481 image links\n",
            "jeremy resulted in 175 image links\n",
            "keith resulted in 175 image links\n",
            "roger resulted in 175 image links\n",
            "gerald resulted in 175 image links\n",
            "ethan resulted in 175 image links\n",
            "arthur resulted in 175 image links\n",
            "terry resulted in 175 image links\n",
            "christian resulted in 175 image links\n",
            "sean resulted in 175 image links\n",
            "lawrence resulted in 175 image links\n",
            "austin resulted in 175 image links\n",
            "joe resulted in 175 image links\n",
            "noah resulted in 175 image links\n",
            "jesse resulted in 175 image links\n",
            "albert resulted in 175 image links\n",
            "bryan resulted in 175 image links\n",
            "billy resulted in 175 image links\n",
            "bruce resulted in 175 image links\n",
            "willie resulted in 210 image links\n",
            "jordan resulted in 175 image links\n",
            "dylan resulted in 175 image links\n",
            "alan resulted in 175 image links\n",
            "ralph resulted in 175 image links\n",
            "gabriel resulted in 175 image links\n",
            "roy resulted in 175 image links\n",
            "juan resulted in 175 image links\n",
            "wayne resulted in 175 image links\n",
            "eugene resulted in 175 image links\n",
            "logan resulted in 175 image links\n",
            "randy resulted in 210 image links\n",
            "louis resulted in 175 image links\n",
            "russell resulted in 175 image links\n",
            "vincent resulted in 175 image links\n",
            "philip resulted in 175 image links\n",
            "bobby resulted in 175 image links\n",
            "johnny resulted in 175 image links\n",
            "bradley resulted in 175 image links\n"
          ],
          "name": "stdout"
        }
      ]
    },
    {
      "cell_type": "code",
      "metadata": {
        "scrolled": true,
        "id": "AfG_B2DCe68e",
        "colab_type": "code",
        "outputId": "23c26992-95b9-4bb9-d575-cb2bff0adfc2",
        "colab": {
          "base_uri": "https://localhost:8080/",
          "height": 1000
        }
      },
      "source": [
        "# Add female name image links\n",
        "image_links += get_links(female_names)"
      ],
      "execution_count": 0,
      "outputs": [
        {
          "output_type": "stream",
          "text": [
            "mary resulted in 175 image links\n",
            "patricia resulted in 175 image links\n",
            "jennifer resulted in 175 image links\n",
            "linda resulted in 175 image links\n",
            "elizabeth resulted in 175 image links\n",
            "barbara resulted in 175 image links\n",
            "susan resulted in 175 image links\n",
            "jessica resulted in 175 image links\n",
            "sarah resulted in 175 image links\n",
            "karen resulted in 175 image links\n",
            "nancy resulted in 175 image links\n",
            "margaret resulted in 175 image links\n",
            "lisa resulted in 175 image links\n",
            "betty resulted in 175 image links\n",
            "dorothy resulted in 175 image links\n",
            "sandra resulted in 567 image links\n",
            "ashley resulted in 175 image links\n",
            "kimberly resulted in 175 image links\n",
            "donna resulted in 175 image links\n",
            "emily resulted in 175 image links\n",
            "michelle resulted in 175 image links\n",
            "carol resulted in 175 image links\n",
            "amanda resulted in 175 image links\n",
            "melissa resulted in 175 image links\n",
            "deborah resulted in 175 image links\n",
            "stephanie resulted in 175 image links\n",
            "rebecca resulted in 175 image links\n",
            "laura resulted in 175 image links\n",
            "sharon resulted in 175 image links\n",
            "cynthia resulted in 175 image links\n",
            "kathleen resulted in 175 image links\n",
            "helen resulted in 175 image links\n",
            "amy resulted in 175 image links\n",
            "shirley resulted in 175 image links\n",
            "angela resulted in 175 image links\n",
            "anna resulted in 175 image links\n",
            "brenda resulted in 175 image links\n",
            "pamela resulted in 175 image links\n",
            "nicole resulted in 175 image links\n",
            "ruth resulted in 175 image links\n",
            "katherine resulted in 175 image links\n",
            "samantha resulted in 175 image links\n",
            "christine resulted in 175 image links\n",
            "emma resulted in 175 image links\n",
            "catherine resulted in 175 image links\n",
            "debra resulted in 175 image links\n",
            "virginia resulted in 175 image links\n",
            "rachel resulted in 175 image links\n",
            "carolyn resulted in 175 image links\n",
            "janet resulted in 175 image links\n",
            "maria resulted in 175 image links\n",
            "heather resulted in 175 image links\n",
            "diane resulted in 175 image links\n",
            "julie resulted in 175 image links\n",
            "joyce resulted in 175 image links\n",
            "victoria resulted in 175 image links\n",
            "kelly resulted in 6 image links\n",
            "christina resulted in 175 image links\n",
            "joan resulted in 175 image links\n",
            "evelyn resulted in 175 image links\n",
            "lauren resulted in 175 image links\n",
            "judith resulted in 175 image links\n",
            "olivia resulted in 210 image links\n",
            "frances resulted in 175 image links\n",
            "martha resulted in 175 image links\n",
            "cheryl resulted in 175 image links\n",
            "megan resulted in 175 image links\n",
            "andrea resulted in 175 image links\n",
            "hannah resulted in 175 image links\n",
            "jacqueline resulted in 175 image links\n",
            "ann resulted in 175 image links\n",
            "jean resulted in 175 image links\n",
            "alice resulted in 175 image links\n",
            "kathryn resulted in 175 image links\n",
            "gloria resulted in 175 image links\n",
            "teresa resulted in 175 image links\n",
            "doris resulted in 175 image links\n",
            "sara resulted in 175 image links\n",
            "janice resulted in 175 image links\n",
            "julia resulted in 175 image links\n",
            "marie resulted in 175 image links\n",
            "madison resulted in 175 image links\n",
            "grace resulted in 175 image links\n",
            "judy resulted in 175 image links\n",
            "theresa resulted in 175 image links\n",
            "beverly resulted in 175 image links\n",
            "denise resulted in 210 image links\n",
            "marilyn resulted in 175 image links\n",
            "amber resulted in 175 image links\n",
            "danielle resulted in 175 image links\n",
            "abigail resulted in 175 image links\n",
            "brittany resulted in 175 image links\n",
            "rose resulted in 175 image links\n",
            "diana resulted in 175 image links\n",
            "natalie resulted in 175 image links\n",
            "sophia resulted in 175 image links\n",
            "alexis resulted in 175 image links\n",
            "lori resulted in 175 image links\n",
            "kayla resulted in 175 image links\n",
            "jane resulted in 175 image links\n"
          ],
          "name": "stdout"
        }
      ]
    },
    {
      "cell_type": "code",
      "metadata": {
        "id": "vN6QeN25e68l",
        "colab_type": "code",
        "outputId": "5a841531-5dbd-476c-93dd-b3de89f6fcae",
        "colab": {
          "base_uri": "https://localhost:8080/",
          "height": 34
        }
      },
      "source": [
        "print('There are {} image links'.format(len(image_links)))"
      ],
      "execution_count": 0,
      "outputs": [
        {
          "output_type": "stream",
          "text": [
            "There are 35774 image links\n"
          ],
          "name": "stdout"
        }
      ]
    },
    {
      "cell_type": "code",
      "metadata": {
        "scrolled": true,
        "id": "5yqzsfVIe68r",
        "colab_type": "code",
        "outputId": "62cf7395-45ef-4fa7-8b27-f2e300e0bb81",
        "colab": {
          "base_uri": "https://localhost:8080/",
          "height": 34
        }
      },
      "source": [
        "# Header to accompany get request\n",
        "headers = {'user-agent': 'scraper - school project (bengriffith@outlook.com)'}\n",
        "\n",
        "# Counter to be used in image file name\n",
        "image_counter = 0\n",
        "\n",
        "# Counter for exceptions occurred\n",
        "exception_counter = 0\n",
        "\n",
        "# Write images to disk\n",
        "for image_link in image_links:\n",
        "    with open('../gdrive/My Drive/colab/gan/images/face_' + str(image_counter) + '_' + str(image_link[1]) + '.png', 'wb') as f:\n",
        "        try:\n",
        "            response = requests.get(image_link[0], headers=headers)\n",
        "            \n",
        "            if response.ok:\n",
        "                f.write(response.content)\n",
        "        except:\n",
        "            exception_counter += 1\n",
        "            continue\n",
        "    image_counter += 1\n",
        "    \n",
        "print('There were {} files removed due to a Request / Response Exception'.format(exception_counter))"
      ],
      "execution_count": 0,
      "outputs": [
        {
          "output_type": "stream",
          "text": [
            "There were 76 files removed due to a Request / Response Exception\n"
          ],
          "name": "stdout"
        }
      ]
    },
    {
      "cell_type": "code",
      "metadata": {
        "id": "GsTcyZFze68x",
        "colab_type": "code",
        "colab": {}
      },
      "source": [
        "images_directory = '../gdrive/My Drive/colab/gan/images/'\n",
        "images_cropped_directory = '../gdrive/My Drive/colab/gan/images_cropped_stage/'\n",
        "images_cropped_separated = '../gdrive/My Drive/colab/gan/images_cropped_'"
      ],
      "execution_count": 0,
      "outputs": []
    },
    {
      "cell_type": "code",
      "metadata": {
        "id": "6yxfSYhYe683",
        "colab_type": "code",
        "outputId": "47633c52-df30-4e38-b7d8-304cafddfe22",
        "colab": {
          "base_uri": "https://localhost:8080/",
          "height": 34
        }
      },
      "source": [
        "# Remove images that create AttributeError\n",
        "files_removed = 0\n",
        "\n",
        "for filename in sorted(os.listdir(images_directory))[1:]:\n",
        "    \n",
        "    try:\n",
        "        image = cv2.imread(images_directory + filename)\n",
        "        (h, w) = image.shape[:2]\n",
        "    except AttributeError:\n",
        "        files_removed += 1\n",
        "        os.remove(images_directory + filename)\n",
        "        \n",
        "print('There were {} files removed due to AttributeError'.format(files_removed))"
      ],
      "execution_count": 0,
      "outputs": [
        {
          "output_type": "stream",
          "text": [
            "There were 0 files removed due to AttributeError\n"
          ],
          "name": "stdout"
        }
      ]
    },
    {
      "cell_type": "code",
      "metadata": {
        "id": "KdjA62hYe689",
        "colab_type": "code",
        "colab": {}
      },
      "source": [
        "prototxt = '../gdrive/My Drive/colab/gan/supporting/deploy.prototxt'\n",
        "model = '../gdrive/My Drive/colab/gan/supporting/res10_300x300_ssd_iter_140000.caffemodel'"
      ],
      "execution_count": 0,
      "outputs": []
    },
    {
      "cell_type": "code",
      "metadata": {
        "id": "3e-mDf1Ge69D",
        "colab_type": "code",
        "outputId": "dcc299af-8463-4121-a227-7682f283add2",
        "colab": {
          "base_uri": "https://localhost:8080/",
          "height": 232
        }
      },
      "source": [
        "file_counter = 0\n",
        "\n",
        "for filename in sorted(os.listdir(images_directory))[1:]:\n",
        "\n",
        "    # Image path\n",
        "    image_path = images_directory + filename\n",
        "    \n",
        "    # Load model\n",
        "    net = cv2.dnn.readNetFromCaffe(prototxt, model)\n",
        "\n",
        "    # Load image\n",
        "    image = cv2.imread(image_path)\n",
        "    (h, w) = image.shape[:2]\n",
        "    \n",
        "    # Blob for the image\n",
        "    blob = cv2.dnn.blobFromImage(cv2.resize(image, (300, 300)), 1.0, (300, 300), (104.0, 177.0, 123.0))\n",
        "    \n",
        "    # Pass blob through network and retrieve detections / predictions\n",
        "    net.setInput(blob)\n",
        "    detections = net.forward()\n",
        "    \n",
        "    for i in range(detections.shape[2]):\n",
        "        \n",
        "        # Get confidence associated with the prediction\n",
        "        confidence = detections[0, 0, i, 2]\n",
        "    \n",
        "        if confidence > 0.98:\n",
        "            \n",
        "            # Coordinates for the bounding box\n",
        "            box = detections[0, 0, i, 3:7] * np.array([w, h, w, h])\n",
        "            (startX, startY, endX, endY) = box.astype('int')\n",
        "        \n",
        "            # Coordinates for face\n",
        "            face = image[startY:endY, startX:endX]\n",
        "        \n",
        "            # Save face image \n",
        "            cv2.imwrite(images_cropped_directory + filename, face)\n",
        "\n",
        "            file_counter += 1\n",
        "        \n",
        "print('There were {} face images added to images_cropped_stage directory'.format(file_counter))"
      ],
      "execution_count": 0,
      "outputs": [
        {
          "output_type": "error",
          "ename": "KeyboardInterrupt",
          "evalue": "ignored",
          "traceback": [
            "\u001b[0;31m---------------------------------------------------------------------------\u001b[0m",
            "\u001b[0;31mKeyboardInterrupt\u001b[0m                         Traceback (most recent call last)",
            "\u001b[0;32m<ipython-input-28-ee1897f3423e>\u001b[0m in \u001b[0;36m<module>\u001b[0;34m()\u001b[0m\n\u001b[1;32m     10\u001b[0m \u001b[0;34m\u001b[0m\u001b[0m\n\u001b[1;32m     11\u001b[0m     \u001b[0;31m# Load image\u001b[0m\u001b[0;34m\u001b[0m\u001b[0;34m\u001b[0m\u001b[0;34m\u001b[0m\u001b[0m\n\u001b[0;32m---> 12\u001b[0;31m     \u001b[0mimage\u001b[0m \u001b[0;34m=\u001b[0m \u001b[0mcv2\u001b[0m\u001b[0;34m.\u001b[0m\u001b[0mimread\u001b[0m\u001b[0;34m(\u001b[0m\u001b[0mimage_path\u001b[0m\u001b[0;34m)\u001b[0m\u001b[0;34m\u001b[0m\u001b[0;34m\u001b[0m\u001b[0m\n\u001b[0m\u001b[1;32m     13\u001b[0m     \u001b[0;34m(\u001b[0m\u001b[0mh\u001b[0m\u001b[0;34m,\u001b[0m \u001b[0mw\u001b[0m\u001b[0;34m)\u001b[0m \u001b[0;34m=\u001b[0m \u001b[0mimage\u001b[0m\u001b[0;34m.\u001b[0m\u001b[0mshape\u001b[0m\u001b[0;34m[\u001b[0m\u001b[0;34m:\u001b[0m\u001b[0;36m2\u001b[0m\u001b[0;34m]\u001b[0m\u001b[0;34m\u001b[0m\u001b[0;34m\u001b[0m\u001b[0m\n\u001b[1;32m     14\u001b[0m \u001b[0;34m\u001b[0m\u001b[0m\n",
            "\u001b[0;31mKeyboardInterrupt\u001b[0m: "
          ]
        }
      ]
    },
    {
      "cell_type": "code",
      "metadata": {
        "id": "B_GUSHtFe69I",
        "colab_type": "code",
        "colab": {}
      },
      "source": [
        "# List for image data\n",
        "#image_data = []\n",
        "\n",
        "# List to store detected face\n",
        "data = []\n",
        "\n",
        "# List to store labels\n",
        "labels = []"
      ],
      "execution_count": 0,
      "outputs": []
    },
    {
      "cell_type": "code",
      "metadata": {
        "id": "MQVDgkROe69Q",
        "colab_type": "code",
        "outputId": "08265fbd-5bad-4e87-a453-2a17e4908ac9",
        "colab": {
          "base_uri": "https://localhost:8080/",
          "height": 127
        }
      },
      "source": [
        "for folder in range(1, 7): \n",
        "\n",
        "    # Counter\n",
        "    images_processed = 0\n",
        "\n",
        "    # Populate image_data list\n",
        "    for filename in sorted(os.listdir(images_cropped_separated + str(folder) + '/')):\n",
        "        image_path = images_cropped_separated + str(folder) + '/' + filename\n",
        "        image = cv2.imread(image_path)\n",
        "        image = cv2.resize(image, (64, 64))\n",
        "        image_data.append([image, int(filename[filename.find('.') - 1])])\n",
        "        images_processed += 1\n",
        "\n",
        "    print('{} images processed from Folder {}'.format(images_processed, folder))"
      ],
      "execution_count": 14,
      "outputs": [
        {
          "output_type": "stream",
          "text": [
            "3682 images processed from Folder 1\n",
            "4725 images processed from Folder 2\n",
            "4254 images processed from Folder 3\n",
            "5566 images processed from Folder 4\n",
            "4938 images processed from Folder 5\n",
            "5391 images processed from Folder 6\n"
          ],
          "name": "stdout"
        }
      ]
    },
    {
      "cell_type": "code",
      "metadata": {
        "id": "ve00OqZJe69Y",
        "colab_type": "code",
        "colab": {}
      },
      "source": [
        "# Separate image data into data list and labels list\n",
        "for image in image_data:\n",
        "    data.append(image[0])\n",
        "    labels.append(image[1])"
      ],
      "execution_count": 0,
      "outputs": []
    },
    {
      "cell_type": "code",
      "metadata": {
        "id": "O5g8Fje6e69f",
        "colab_type": "code",
        "colab": {}
      },
      "source": [
        "# Numpy arrays\n",
        "data = np.array(data, dtype='float') / 255.0\n",
        "labels = np.array(labels)"
      ],
      "execution_count": 0,
      "outputs": []
    },
    {
      "cell_type": "code",
      "metadata": {
        "id": "2mTez3Rle69j",
        "colab_type": "code",
        "colab": {}
      },
      "source": [
        "# Split into train and test datasets\n",
        "X_train, X_test, y_train, y_test = train_test_split(data, labels, test_size=0.20)"
      ],
      "execution_count": 0,
      "outputs": []
    },
    {
      "cell_type": "code",
      "metadata": {
        "id": "S9rAEKcQ039H",
        "colab_type": "code",
        "outputId": "42067515-3cd7-43ef-9478-128f0596aa58",
        "colab": {
          "base_uri": "https://localhost:8080/",
          "height": 54
        }
      },
      "source": [
        "print('There are {} records in the train dataset'.format(X_train.shape[0]))\n",
        "print('There are {} records in the test dataset'.format(X_test.shape[0]))"
      ],
      "execution_count": 72,
      "outputs": [
        {
          "output_type": "stream",
          "text": [
            "There are 22844 records in the train dataset\n",
            "There are 5712 records in the test dataset\n"
          ],
          "name": "stdout"
        }
      ]
    },
    {
      "cell_type": "code",
      "metadata": {
        "id": "DVOCPv-be69n",
        "colab_type": "code",
        "colab": {}
      },
      "source": [
        "def model(height, width, depth, num_classes):\n",
        "    model = Sequential()\n",
        "    input_shape = (height, width, depth)\n",
        "    channel_dimension = -1\n",
        "    \n",
        "    model.add(Conv2D(32, kernel_size=(3, 3), activation='relu', input_shape=input_shape))\n",
        "    model.add(Conv2D(64, (3, 3), activation='relu'))\n",
        "    model.add(MaxPooling2D(pool_size=(2, 2)))\n",
        "    model.add(Dropout(0.25))\n",
        "    model.add(Flatten())\n",
        "    model.add(Dense(128, activation='relu'))\n",
        "    model.add(Dropout(0.5))\n",
        "    model.add(Dense(num_classes, activation='sigmoid'))\n",
        "    \n",
        "    return model"
      ],
      "execution_count": 0,
      "outputs": []
    },
    {
      "cell_type": "code",
      "metadata": {
        "id": "Vs21-WXye69s",
        "colab_type": "code",
        "colab": {}
      },
      "source": [
        "epochs = 15\n",
        "batch_size = 32\n",
        "image_dimensions = (64, 64, 3)"
      ],
      "execution_count": 0,
      "outputs": []
    },
    {
      "cell_type": "code",
      "metadata": {
        "id": "brRieXBpe69v",
        "colab_type": "code",
        "colab": {}
      },
      "source": [
        "gender_model = model(image_dimensions[0], image_dimensions[1], image_dimensions[2], 1)"
      ],
      "execution_count": 0,
      "outputs": []
    },
    {
      "cell_type": "code",
      "metadata": {
        "id": "lblXrjJCe69z",
        "colab_type": "code",
        "colab": {}
      },
      "source": [
        "gender_model.compile(loss='binary_crossentropy', optimizer=Adam(), metrics=['accuracy'])"
      ],
      "execution_count": 0,
      "outputs": []
    },
    {
      "cell_type": "code",
      "metadata": {
        "scrolled": true,
        "id": "eX7NnSB9e693",
        "colab_type": "code",
        "outputId": "75b6b721-dfaf-4cbb-d683-e31ec2b8e792",
        "colab": {
          "base_uri": "https://localhost:8080/",
          "height": 586
        }
      },
      "source": [
        "gender = gender_model.fit(X_train, y_train, batch_size=batch_size, \n",
        "                          validation_data=(X_test, y_test), \n",
        "                          epochs=epochs, \n",
        "                          verbose=1)"
      ],
      "execution_count": 77,
      "outputs": [
        {
          "output_type": "stream",
          "text": [
            "Train on 22844 samples, validate on 5712 samples\n",
            "Epoch 1/15\n",
            "22844/22844 [==============================] - 243s 11ms/step - loss: 0.4131 - accuracy: 0.8219 - val_loss: 0.3124 - val_accuracy: 0.8762\n",
            "Epoch 2/15\n",
            "22844/22844 [==============================] - 244s 11ms/step - loss: 0.3126 - accuracy: 0.8801 - val_loss: 0.2953 - val_accuracy: 0.8895\n",
            "Epoch 3/15\n",
            "22844/22844 [==============================] - 244s 11ms/step - loss: 0.2727 - accuracy: 0.8968 - val_loss: 0.2621 - val_accuracy: 0.9062\n",
            "Epoch 4/15\n",
            "22844/22844 [==============================] - 244s 11ms/step - loss: 0.2272 - accuracy: 0.9176 - val_loss: 0.2695 - val_accuracy: 0.9046\n",
            "Epoch 5/15\n",
            "22844/22844 [==============================] - 241s 11ms/step - loss: 0.1883 - accuracy: 0.9307 - val_loss: 0.2623 - val_accuracy: 0.9100\n",
            "Epoch 6/15\n",
            "22844/22844 [==============================] - 236s 10ms/step - loss: 0.1580 - accuracy: 0.9431 - val_loss: 0.2531 - val_accuracy: 0.9181\n",
            "Epoch 7/15\n",
            "22844/22844 [==============================] - 236s 10ms/step - loss: 0.1281 - accuracy: 0.9555 - val_loss: 0.2669 - val_accuracy: 0.9217\n",
            "Epoch 8/15\n",
            "22844/22844 [==============================] - 238s 10ms/step - loss: 0.1090 - accuracy: 0.9610 - val_loss: 0.3080 - val_accuracy: 0.9133\n",
            "Epoch 9/15\n",
            "22844/22844 [==============================] - 236s 10ms/step - loss: 0.0969 - accuracy: 0.9647 - val_loss: 0.3112 - val_accuracy: 0.9230\n",
            "Epoch 10/15\n",
            "22844/22844 [==============================] - 237s 10ms/step - loss: 0.0862 - accuracy: 0.9688 - val_loss: 0.3408 - val_accuracy: 0.9209\n",
            "Epoch 11/15\n",
            "22844/22844 [==============================] - 238s 10ms/step - loss: 0.0724 - accuracy: 0.9738 - val_loss: 0.3605 - val_accuracy: 0.9130\n",
            "Epoch 12/15\n",
            "22844/22844 [==============================] - 236s 10ms/step - loss: 0.0671 - accuracy: 0.9765 - val_loss: 0.3403 - val_accuracy: 0.9263\n",
            "Epoch 13/15\n",
            "22844/22844 [==============================] - 239s 10ms/step - loss: 0.0582 - accuracy: 0.9795 - val_loss: 0.3672 - val_accuracy: 0.9244\n",
            "Epoch 14/15\n",
            "22844/22844 [==============================] - 237s 10ms/step - loss: 0.0549 - accuracy: 0.9805 - val_loss: 0.4003 - val_accuracy: 0.9240\n",
            "Epoch 15/15\n",
            "22844/22844 [==============================] - 238s 10ms/step - loss: 0.0518 - accuracy: 0.9821 - val_loss: 0.4170 - val_accuracy: 0.9244\n"
          ],
          "name": "stdout"
        }
      ]
    },
    {
      "cell_type": "code",
      "metadata": {
        "id": "brOfk3G6EUNK",
        "colab_type": "code",
        "colab": {}
      },
      "source": [
        "# Save gender_model to disk\n",
        "gender_model.save('../gdrive/My Drive/colab/gan/supporting/gender_model.h5')"
      ],
      "execution_count": 0,
      "outputs": []
    },
    {
      "cell_type": "code",
      "metadata": {
        "id": "KQ4CVlXBPc70",
        "colab_type": "code",
        "colab": {}
      },
      "source": [
        "gender_model_1 = load_model('../gdrive/My Drive/colab/gan/supporting/gender_model.h5')"
      ],
      "execution_count": 0,
      "outputs": []
    },
    {
      "cell_type": "code",
      "metadata": {
        "id": "NsTBQy0SQfFp",
        "colab_type": "code",
        "colab": {
          "base_uri": "https://localhost:8080/",
          "height": 458
        },
        "outputId": "5db4555d-b799-41c5-b9bf-3d2c1bb2df86"
      },
      "source": [
        "gender_model_1.summary()"
      ],
      "execution_count": 92,
      "outputs": [
        {
          "output_type": "stream",
          "text": [
            "Model: \"sequential_6\"\n",
            "_________________________________________________________________\n",
            "Layer (type)                 Output Shape              Param #   \n",
            "=================================================================\n",
            "conv2d_11 (Conv2D)           (None, 62, 62, 32)        896       \n",
            "_________________________________________________________________\n",
            "conv2d_12 (Conv2D)           (None, 60, 60, 64)        18496     \n",
            "_________________________________________________________________\n",
            "max_pooling2d_6 (MaxPooling2 (None, 30, 30, 64)        0         \n",
            "_________________________________________________________________\n",
            "dropout_11 (Dropout)         (None, 30, 30, 64)        0         \n",
            "_________________________________________________________________\n",
            "flatten_6 (Flatten)          (None, 57600)             0         \n",
            "_________________________________________________________________\n",
            "dense_11 (Dense)             (None, 128)               7372928   \n",
            "_________________________________________________________________\n",
            "dropout_12 (Dropout)         (None, 128)               0         \n",
            "_________________________________________________________________\n",
            "dense_12 (Dense)             (None, 1)                 129       \n",
            "=================================================================\n",
            "Total params: 7,392,449\n",
            "Trainable params: 7,392,449\n",
            "Non-trainable params: 0\n",
            "_________________________________________________________________\n"
          ],
          "name": "stdout"
        }
      ]
    },
    {
      "cell_type": "code",
      "metadata": {
        "id": "zS3VnYSXwOJV",
        "colab_type": "code",
        "colab": {}
      },
      "source": [
        "# CNN predictions\n",
        "predictions = gender_model.predict_classes(X_test, batch_size=32)"
      ],
      "execution_count": 0,
      "outputs": []
    },
    {
      "cell_type": "code",
      "metadata": {
        "id": "pr9tfZBlvH5a",
        "colab_type": "code",
        "colab": {
          "base_uri": "https://localhost:8080/",
          "height": 35
        },
        "outputId": "c9079e83-c21b-46ee-a4f6-a74d851c351d"
      },
      "source": [
        "# Sample CNN label and prediction\n",
        "print(y_test[0], predictions[0])"
      ],
      "execution_count": 82,
      "outputs": [
        {
          "output_type": "stream",
          "text": [
            "1 [1]\n"
          ],
          "name": "stdout"
        }
      ]
    },
    {
      "cell_type": "code",
      "metadata": {
        "id": "4jQhV8VyqFg-",
        "colab_type": "code",
        "colab": {
          "base_uri": "https://localhost:8080/",
          "height": 182
        },
        "outputId": "7de7b340-e4ca-4eb2-8651-9128434f3252"
      },
      "source": [
        "# CNN classification report\n",
        "print(classification_report(y_test, predictions))"
      ],
      "execution_count": 83,
      "outputs": [
        {
          "output_type": "stream",
          "text": [
            "              precision    recall  f1-score   support\n",
            "\n",
            "           0       0.91      0.90      0.91      2343\n",
            "           1       0.93      0.94      0.94      3369\n",
            "\n",
            "    accuracy                           0.92      5712\n",
            "   macro avg       0.92      0.92      0.92      5712\n",
            "weighted avg       0.92      0.92      0.92      5712\n",
            "\n"
          ],
          "name": "stdout"
        }
      ]
    },
    {
      "cell_type": "code",
      "metadata": {
        "id": "cL_YP9Z5qKQi",
        "colab_type": "code",
        "colab": {
          "base_uri": "https://localhost:8080/",
          "height": 54
        },
        "outputId": "f1dd4393-843f-4be7-c673-b4ee01c5a05b"
      },
      "source": [
        "# CNN confusion matrix\n",
        "print(confusion_matrix(y_test, predictions))"
      ],
      "execution_count": 84,
      "outputs": [
        {
          "output_type": "stream",
          "text": [
            "[[2120  223]\n",
            " [ 209 3160]]\n"
          ],
          "name": "stdout"
        }
      ]
    },
    {
      "cell_type": "code",
      "metadata": {
        "id": "Os9r7gnwqO1e",
        "colab_type": "code",
        "colab": {
          "base_uri": "https://localhost:8080/",
          "height": 35
        },
        "outputId": "724507ab-1a53-44e0-ec57-003ade1a40a0"
      },
      "source": [
        "# CNN area under the curve\n",
        "print(roc_auc_score(y_test, predictions))"
      ],
      "execution_count": 85,
      "outputs": [
        {
          "output_type": "stream",
          "text": [
            "0.9213933320639454\n"
          ],
          "name": "stdout"
        }
      ]
    },
    {
      "cell_type": "code",
      "metadata": {
        "id": "tt-Sh38zD0IL",
        "colab_type": "code",
        "colab": {
          "base_uri": "https://localhost:8080/",
          "height": 295
        },
        "outputId": "c9b55abc-a737-4ef2-b7b3-1c06e1ad4dbd"
      },
      "source": [
        "# Plot loss and accuracy\n",
        "epoch_range = np.arange(0, epochs)\n",
        "plt.figure()\n",
        "plt.plot(epoch_range, gender.history['loss'], label='train loss')\n",
        "plt.plot(epoch_range, gender.history['val_loss'], label='val loss')\n",
        "plt.plot(epoch_range, gender.history['accuracy'], label='train accuracy')\n",
        "plt.plot(epoch_range, gender.history['val_accuracy'], label='val accuracy')\n",
        "plt.title('Loss and Accuracy')\n",
        "plt.xlabel('Number of Epochs')\n",
        "plt.ylabel('Loss and Accuracy')\n",
        "plt.legend()\n",
        "plt.show()"
      ],
      "execution_count": 86,
      "outputs": [
        {
          "output_type": "display_data",
          "data": {
            "image/png": "[encoded data removed]",
            "text/plain": [
              "<Figure size 432x288 with 1 Axes>"
            ]
          },
          "metadata": {
            "tags": [],
            "needs_background": "light"
          }
        }
      ]
    },
    {
      "cell_type": "code",
      "metadata": {
        "id": "l7Xs6U-pe697",
        "colab_type": "code",
        "colab": {}
      },
      "source": [
        "# Train neural network to recognize whether male or female\n",
        "\n",
        "# If female then choose female GAN\n",
        "\n",
        "# If male then choose male GAN\n",
        "\n",
        "# Will need to create / train female and male GANs"
      ],
      "execution_count": 0,
      "outputs": []
    }
  ]
}