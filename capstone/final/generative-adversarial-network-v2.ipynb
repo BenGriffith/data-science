{
 "cells": [
  {
   "cell_type": "markdown",
   "metadata": {
    "colab_type": "text",
    "id": "O-OJ08cLHuxm"
   },
   "source": [
    "# Final Capstone - Generative Adversarial Network (GAN)\n",
    "\n",
    "The problem I am attempting to solve is the privacy concern a user might have when wanting to upload an image of himself or herself to the Internet, but the image includes other individuals.\n",
    "\n",
    "I am proposing to use artificial human faces to replace real human faces in a user's picture before uploading it to the Internet. A few of the potential benefits:\n",
    "- Removes / limits privacy concern a user might have about using images of himself or herself with other individuals.\n",
    "- In addition to manual image manipulation, it provides an automated option for manipulating images.\n",
    "- After the image has undergone a transformation, the user could use the image for a profile picture on social networking platforms or the image could be used on a platform where users are looking to meet new people. If the user selected all faces in the image to be replaced, it could be used as a family avatar or an avatar for a special group of friends or as a profile picture for a platform where the user wants to remain anonymous.\n",
    "\n",
    "Potential application:\n",
    "- Profile picture on social networking platforms.\n",
    "- Profile picture on platform where the user wants to remain anonymous.\n",
    "- Platform where users are looking to meet new people.\n",
    "- Could be used by groups of friends or family members to generate amusing and entertaining avatars.\n",
    "\n",
    "My dataset will contain images of faces retrieved by scraping https://thispersondoesnotexist.com. Each image will have an associated label: 0 for male and 1 for female.\n",
    "\n",
    "I then plan to use these labeled images to train a Convolutional Neural Network to identify / classify gender in images and depending on the outcome of this CNN either a GAN that generates female faces will be used or a GAN that generates male faces will be used."
   ]
  },
  {
   "cell_type": "code",
   "execution_count": null,
   "metadata": {
    "colab": {
     "base_uri": "https://localhost:8080/",
     "height": 1000
    },
    "colab_type": "code",
    "id": "3V8qfRfWjTSx",
    "outputId": "e88e0937-aabb-4e7b-b42a-ecb5837fa9bd"
   },
   "outputs": [
    {
     "name": "stdout",
     "output_type": "stream",
     "text": [
      "Collecting selenium\n",
      "\u001b[?25l  Downloading https://files.pythonhosted.org/packages/80/d6/4294f0b4bce4de0abf13e17190289f9d0613b0a44e5dd6a7f5ca98459853/selenium-3.141.0-py2.py3-none-any.whl (904kB)\n",
      "\u001b[K     |████████████████████████████████| 911kB 4.5MB/s \n",
      "\u001b[?25hRequirement already satisfied: urllib3 in /usr/local/lib/python3.6/dist-packages (from selenium) (1.24.3)\n",
      "Installing collected packages: selenium\n",
      "Successfully installed selenium-3.141.0\n",
      "Ign:1 https://developer.download.nvidia.com/compute/cuda/repos/ubuntu1804/x86_64  InRelease\n",
      "Get:2 https://cloud.r-project.org/bin/linux/ubuntu bionic-cran35/ InRelease [3,626 B]\n",
      "Ign:3 https://developer.download.nvidia.com/compute/machine-learning/repos/ubuntu1804/x86_64  InRelease\n",
      "Hit:4 https://developer.download.nvidia.com/compute/cuda/repos/ubuntu1804/x86_64  Release\n",
      "Get:5 https://developer.download.nvidia.com/compute/machine-learning/repos/ubuntu1804/x86_64  Release [564 B]\n",
      "Get:6 https://developer.download.nvidia.com/compute/machine-learning/repos/ubuntu1804/x86_64  Release.gpg [833 B]\n",
      "Get:7 http://security.ubuntu.com/ubuntu bionic-security InRelease [88.7 kB]\n",
      "Hit:8 http://archive.ubuntu.com/ubuntu bionic InRelease\n",
      "Hit:9 http://ppa.launchpad.net/graphics-drivers/ppa/ubuntu bionic InRelease\n",
      "Get:10 https://cloud.r-project.org/bin/linux/ubuntu bionic-cran35/ Packages [93.7 kB]\n",
      "Get:11 http://archive.ubuntu.com/ubuntu bionic-updates InRelease [88.7 kB]\n",
      "Get:13 http://ppa.launchpad.net/marutter/c2d4u3.5/ubuntu bionic InRelease [15.4 kB]\n",
      "Get:14 https://developer.download.nvidia.com/compute/machine-learning/repos/ubuntu1804/x86_64  Packages [40.0 kB]\n",
      "Get:15 http://archive.ubuntu.com/ubuntu bionic-backports InRelease [74.6 kB]\n",
      "Get:16 http://security.ubuntu.com/ubuntu bionic-security/main amd64 Packages [977 kB]\n",
      "Get:17 http://security.ubuntu.com/ubuntu bionic-security/universe amd64 Packages [863 kB]\n",
      "Get:18 http://ppa.launchpad.net/marutter/c2d4u3.5/ubuntu bionic/main Sources [1,842 kB]\n",
      "Get:19 http://archive.ubuntu.com/ubuntu bionic-updates/main amd64 Packages [1,292 kB]\n",
      "Get:20 http://archive.ubuntu.com/ubuntu bionic-updates/multiverse amd64 Packages [13.6 kB]\n",
      "Get:21 http://archive.ubuntu.com/ubuntu bionic-updates/restricted amd64 Packages [101 kB]\n",
      "Get:22 http://archive.ubuntu.com/ubuntu bionic-updates/universe amd64 Packages [1,403 kB]\n",
      "Get:23 http://ppa.launchpad.net/marutter/c2d4u3.5/ubuntu bionic/main amd64 Packages [889 kB]\n",
      "Fetched 7,786 kB in 4s (2,086 kB/s)\n",
      "Reading package lists... Done\n",
      "Reading package lists... Done\n",
      "Building dependency tree       \n",
      "Reading state information... Done\n",
      "The following package was automatically installed and is no longer required:\n",
      "  libnvidia-common-440\n",
      "Use 'apt autoremove' to remove it.\n",
      "The following additional packages will be installed:\n",
      "  chromium-browser chromium-browser-l10n chromium-codecs-ffmpeg-extra\n",
      "Suggested packages:\n",
      "  webaccounts-chromium-extension unity-chromium-extension adobe-flashplugin\n",
      "The following NEW packages will be installed:\n",
      "  chromium-browser chromium-browser-l10n chromium-chromedriver\n",
      "  chromium-codecs-ffmpeg-extra\n",
      "0 upgraded, 4 newly installed, 0 to remove and 43 not upgraded.\n",
      "Need to get 75.5 MB of archives.\n",
      "After this operation, 256 MB of additional disk space will be used.\n",
      "Get:1 http://archive.ubuntu.com/ubuntu bionic-updates/universe amd64 chromium-codecs-ffmpeg-extra amd64 83.0.4103.61-0ubuntu0.18.04.1 [1,119 kB]\n",
      "Get:2 http://archive.ubuntu.com/ubuntu bionic-updates/universe amd64 chromium-browser amd64 83.0.4103.61-0ubuntu0.18.04.1 [66.7 MB]\n",
      "Get:3 http://archive.ubuntu.com/ubuntu bionic-updates/universe amd64 chromium-browser-l10n all 83.0.4103.61-0ubuntu0.18.04.1 [3,378 kB]\n",
      "Get:4 http://archive.ubuntu.com/ubuntu bionic-updates/universe amd64 chromium-chromedriver amd64 83.0.4103.61-0ubuntu0.18.04.1 [4,294 kB]\n",
      "Fetched 75.5 MB in 5s (15.4 MB/s)\n",
      "Selecting previously unselected package chromium-codecs-ffmpeg-extra.\n",
      "(Reading database ... 144379 files and directories currently installed.)\n",
      "Preparing to unpack .../chromium-codecs-ffmpeg-extra_83.0.4103.61-0ubuntu0.18.04.1_amd64.deb ...\n",
      "Unpacking chromium-codecs-ffmpeg-extra (83.0.4103.61-0ubuntu0.18.04.1) ...\n",
      "Selecting previously unselected package chromium-browser.\n",
      "Preparing to unpack .../chromium-browser_83.0.4103.61-0ubuntu0.18.04.1_amd64.deb ...\n",
      "Unpacking chromium-browser (83.0.4103.61-0ubuntu0.18.04.1) ...\n",
      "Selecting previously unselected package chromium-browser-l10n.\n",
      "Preparing to unpack .../chromium-browser-l10n_83.0.4103.61-0ubuntu0.18.04.1_all.deb ...\n",
      "Unpacking chromium-browser-l10n (83.0.4103.61-0ubuntu0.18.04.1) ...\n",
      "Selecting previously unselected package chromium-chromedriver.\n",
      "Preparing to unpack .../chromium-chromedriver_83.0.4103.61-0ubuntu0.18.04.1_amd64.deb ...\n",
      "Unpacking chromium-chromedriver (83.0.4103.61-0ubuntu0.18.04.1) ...\n",
      "Setting up chromium-codecs-ffmpeg-extra (83.0.4103.61-0ubuntu0.18.04.1) ...\n",
      "Setting up chromium-browser (83.0.4103.61-0ubuntu0.18.04.1) ...\n",
      "update-alternatives: using /usr/bin/chromium-browser to provide /usr/bin/x-www-browser (x-www-browser) in auto mode\n",
      "update-alternatives: using /usr/bin/chromium-browser to provide /usr/bin/gnome-www-browser (gnome-www-browser) in auto mode\n",
      "Setting up chromium-chromedriver (83.0.4103.61-0ubuntu0.18.04.1) ...\n",
      "Setting up chromium-browser-l10n (83.0.4103.61-0ubuntu0.18.04.1) ...\n",
      "Processing triggers for hicolor-icon-theme (0.17-2) ...\n",
      "Processing triggers for mime-support (3.60ubuntu1) ...\n",
      "Processing triggers for man-db (2.8.3-2ubuntu0.1) ...\n",
      "cp: '/usr/lib/chromium-browser/chromedriver' and '/usr/bin/chromedriver' are the same file\n"
     ]
    }
   ],
   "source": [
    "# Install selenium and chromedriver for web scraping\n",
    "!pip install selenium\n",
    "!apt-get update\n",
    "!apt install chromium-chromedriver\n",
    "!cp /usr/lib/chromium-browser/chromedriver /usr/bin"
   ]
  },
  {
   "cell_type": "code",
   "execution_count": null,
   "metadata": {
    "colab": {
     "base_uri": "https://localhost:8080/",
     "height": 35
    },
    "colab_type": "code",
    "id": "z1Yj68ahe67R",
    "outputId": "0c4ed263-edd8-41c2-8b27-646e6d78aad0"
   },
   "outputs": [
    {
     "name": "stderr",
     "output_type": "stream",
     "text": [
      "Using TensorFlow backend.\n"
     ]
    }
   ],
   "source": [
    "# Import libraries\n",
    "import numpy as np\n",
    "import pandas as pd\n",
    "import matplotlib.pyplot as plt\n",
    "import tensorflow as tf\n",
    "import keras\n",
    "import cv2\n",
    "import json\n",
    "import requests\n",
    "import os\n",
    "import sys\n",
    "import time\n",
    "import random\n",
    "import warnings\n",
    "import itertools\n",
    "from google.colab import drive\n",
    "from google.colab.patches import cv2_imshow\n",
    "from bs4 import BeautifulSoup\n",
    "from selenium import webdriver\n",
    "from sklearn.metrics import classification_report, confusion_matrix, roc_curve, roc_auc_score\n",
    "from sklearn.model_selection import train_test_split\n",
    "from tensorflow.keras import layers\n",
    "from keras.optimizers import Adam\n",
    "from keras import backend as K\n",
    "from IPython import display\n",
    "\n",
    "# Display preference\n",
    "%matplotlib inline\n",
    "warnings.filterwarnings('ignore')"
   ]
  },
  {
   "cell_type": "markdown",
   "metadata": {
    "colab_type": "text",
    "id": "su3k5wOhphto"
   },
   "source": [
    "## Web Scraper"
   ]
  },
  {
   "cell_type": "code",
   "execution_count": null,
   "metadata": {
    "colab": {},
    "colab_type": "code",
    "id": "Ipgjq_vjtn2d"
   },
   "outputs": [],
   "source": [
    "thispersondoesnotexist_directory = '../gdrive/My Drive/colab/gan/thispersondoesnotexist/'"
   ]
  },
  {
   "cell_type": "code",
   "execution_count": null,
   "metadata": {
    "colab": {},
    "colab_type": "code",
    "id": "dP3Ig5t7p7tE"
   },
   "outputs": [],
   "source": [
    "# Header to accompany get request\n",
    "headers = {'user-agent': 'scraper - school project (bengriffith@outlook.com)'}\n",
    "\n",
    "# Retrieve faces\n",
    "for i in range(1, 3001):\n",
    "    with open(thispersondoesnotexist_directory + str(i) + '.png', 'wb') as f:\n",
    "        response = requests.get('https://thispersondoesnotexist.com/image', headers=headers, timeout=15).content            \n",
    "        f.write(response)\n",
    "\n",
    "    time.sleep(5)"
   ]
  },
  {
   "cell_type": "markdown",
   "metadata": {
    "colab_type": "text",
    "id": "qB4fduBAphv2"
   },
   "source": [
    "## Gender Convolutional Neural Network (CNN)"
   ]
  },
  {
   "cell_type": "code",
   "execution_count": null,
   "metadata": {
    "colab": {},
    "colab_type": "code",
    "id": "ocllR0dxphwF"
   },
   "outputs": [],
   "source": [
    "# List for image data\n",
    "image_data = []\n",
    "\n",
    "# List to store detected face\n",
    "data = []\n",
    "\n",
    "# List to store labels\n",
    "labels = []"
   ]
  },
  {
   "cell_type": "code",
   "execution_count": null,
   "metadata": {
    "colab": {
     "base_uri": "https://localhost:8080/",
     "height": 35
    },
    "colab_type": "code",
    "id": "jmU09gQ9phwN",
    "outputId": "11285c71-b1d0-4509-f9e2-c42cbb74fed1"
   },
   "outputs": [
    {
     "name": "stdout",
     "output_type": "stream",
     "text": [
      "There were 2810 images processed\n"
     ]
    }
   ],
   "source": [
    "# Counter\n",
    "images_processed = 0\n",
    "\n",
    "# Populate image_data list\n",
    "for filename in sorted(os.listdir(thispersondoesnotexist_directory)):\n",
    "    image_path = thispersondoesnotexist_directory + filename\n",
    "    image = cv2.imread(image_path)[:,:,::-1] # Convert to RGB\n",
    "    image = cv2.resize(image, (64, 64))\n",
    "    image_data.append([image, int(filename[filename.find('.') - 1])]) \n",
    "    images_processed += 1\n",
    "\n",
    "print('There were {} images processed'.format(images_processed))"
   ]
  },
  {
   "cell_type": "code",
   "execution_count": null,
   "metadata": {
    "colab": {
     "base_uri": "https://localhost:8080/",
     "height": 54
    },
    "colab_type": "code",
    "id": "CjyW2hAzphwT",
    "outputId": "b23c757f-a378-4e9f-e6dc-328402f9a426"
   },
   "outputs": [
    {
     "name": "stdout",
     "output_type": "stream",
     "text": [
      "There are 2810 elements in data\n",
      "There are 2810 elements in labels\n"
     ]
    }
   ],
   "source": [
    "# Separate image data into data list and labels list\n",
    "for image in image_data:\n",
    "    data.append(image[0])\n",
    "    labels.append(image[1])\n",
    "\n",
    "print('There are {} elements in data'.format(len(data)))\n",
    "print('There are {} elements in labels'.format(len(labels)))"
   ]
  },
  {
   "cell_type": "code",
   "execution_count": null,
   "metadata": {
    "colab": {},
    "colab_type": "code",
    "id": "Ia-uZk7Mphwb"
   },
   "outputs": [],
   "source": [
    "# Convert data and labels lists to numpy arrays\n",
    "data = np.array(data, dtype='float') / 255.0 # Normalize images from 0 to 1\n",
    "labels = np.array(labels)"
   ]
  },
  {
   "cell_type": "code",
   "execution_count": null,
   "metadata": {
    "colab": {},
    "colab_type": "code",
    "id": "Tyz9aC9gphwj"
   },
   "outputs": [],
   "source": [
    "# Split into train and test datasets\n",
    "X_train, X_test, y_train, y_test = train_test_split(data, labels, test_size=0.20)"
   ]
  },
  {
   "cell_type": "code",
   "execution_count": null,
   "metadata": {
    "colab": {
     "base_uri": "https://localhost:8080/",
     "height": 54
    },
    "colab_type": "code",
    "id": "6t9nxvMYphwp",
    "outputId": "a58c0be4-d2e3-426c-fcfc-4462ace0508b"
   },
   "outputs": [
    {
     "name": "stdout",
     "output_type": "stream",
     "text": [
      "There are 2248 records in the train dataset\n",
      "There are 562 records in the test dataset\n"
     ]
    }
   ],
   "source": [
    "print('There are {} records in the train dataset'.format(X_train.shape[0]))\n",
    "print('There are {} records in the test dataset'.format(X_test.shape[0]))"
   ]
  },
  {
   "cell_type": "markdown",
   "metadata": {
    "colab_type": "text",
    "id": "IUqOPBQdpLkv"
   },
   "source": [
    "### Gender CNN Model Selection"
   ]
  },
  {
   "cell_type": "markdown",
   "metadata": {
    "colab_type": "text",
    "id": "j0F4UXTLphwu"
   },
   "source": [
    "```model_1``` , ```model_2```, ```model_3```, ```model_4``` and ```model_5``` functions are used to create different CNN models to be compared."
   ]
  },
  {
   "cell_type": "code",
   "execution_count": null,
   "metadata": {
    "colab": {},
    "colab_type": "code",
    "id": "kTkAb1ZhqQlY"
   },
   "outputs": [],
   "source": [
    "def model_1(height, width, depth, num_classes):\n",
    "    model = tf.keras.Sequential()\n",
    "    input_shape = (height, width, depth)\n",
    "    \n",
    "    model.add(layers.Conv2D(32, (3, 3), activation='relu', input_shape=input_shape))\n",
    "    model.add(layers.Conv2D(64, (3, 3), activation='relu'))\n",
    "    model.add(layers.MaxPooling2D(pool_size=(2, 2)))\n",
    "    model.add(layers.Dropout(0.25))\n",
    "    model.add(layers.Flatten())\n",
    "    model.add(layers.Dense(128, activation='relu'))\n",
    "    model.add(layers.Dropout(0.5))\n",
    "    model.add(layers.Dense(num_classes, activation='sigmoid'))\n",
    "    \n",
    "    return model"
   ]
  },
  {
   "cell_type": "code",
   "execution_count": null,
   "metadata": {
    "colab": {},
    "colab_type": "code",
    "id": "8maHoibDbHta"
   },
   "outputs": [],
   "source": [
    "def model_2(height, width, depth, num_classes):\n",
    "    model = tf.keras.Sequential()\n",
    "    input_shape = (height, width, depth)\n",
    "    \n",
    "    model.add(layers.Conv2D(32, (3, 3), activation='relu', input_shape=input_shape))\n",
    "    model.add(layers.MaxPooling2D(pool_size=(3, 3)))\n",
    "    model.add(layers.Conv2D(64, (3, 3), activation='relu'))\n",
    "    model.add(layers.MaxPooling2D(pool_size=(2, 2)))\n",
    "    model.add(layers.Dropout(0.25))\n",
    "    model.add(layers.Conv2D(128, (3, 3), activation='relu'))\n",
    "    model.add(layers.Flatten())\n",
    "    model.add(layers.Dense(128, activation='relu'))\n",
    "    model.add(layers.Dropout(0.5))\n",
    "    model.add(layers.Dense(num_classes, activation='sigmoid'))\n",
    "\n",
    "    return model"
   ]
  },
  {
   "cell_type": "code",
   "execution_count": null,
   "metadata": {
    "colab": {},
    "colab_type": "code",
    "id": "S1HotRnrcdzK"
   },
   "outputs": [],
   "source": [
    "def model_3(height, width, depth, num_classes):\n",
    "    model = tf.keras.Sequential()\n",
    "    input_shape = (height, width, depth)\n",
    "\n",
    "    model.add(layers.Conv2D(32, (3, 3), activation='relu', input_shape=input_shape))\n",
    "    model.add(layers.BatchNormalization())\n",
    "    model.add(layers.Dropout(0.30))\n",
    "    model.add(layers.Conv2D(32, (3, 3), activation='relu'))\n",
    "    model.add(layers.BatchNormalization())\n",
    "    model.add(layers.Conv2D(64, (3, 3), activation='relu'))\n",
    "    model.add(layers.BatchNormalization())\n",
    "    model.add(layers.Dropout(0.30))\n",
    "    model.add(layers.Conv2D(64, (3, 3), activation='relu'))\n",
    "    model.add(layers.BatchNormalization())\n",
    "    model.add(layers.MaxPooling2D(pool_size=(2, 2)))\n",
    "    model.add(layers.Dropout(0.25))\n",
    "    model.add(layers.Conv2D(128, (3, 3), activation='relu'))\n",
    "    model.add(layers.Flatten())\n",
    "    model.add(layers.Dense(128, activation='relu'))\n",
    "    model.add(layers.Dropout(0.5))\n",
    "    model.add(layers.Dense(num_classes, activation='sigmoid'))\n",
    "\n",
    "    return model"
   ]
  },
  {
   "cell_type": "code",
   "execution_count": null,
   "metadata": {
    "colab": {},
    "colab_type": "code",
    "id": "ERjRtrv7bHfy"
   },
   "outputs": [],
   "source": [
    "def model_4(height, width, depth, num_classes):\n",
    "    model = tf.keras.Sequential()\n",
    "    input_shape = (height, width, depth)\n",
    "\n",
    "    model.add(layers.Conv2D(32, (3, 3), activation='relu', input_shape=input_shape))\n",
    "    model.add(layers.BatchNormalization())\n",
    "    model.add(layers.MaxPooling2D(pool_size=(3, 3)))\n",
    "    model.add(layers.Dropout(0.25))\n",
    "    model.add(layers.Conv2D(64, (3, 3), activation='relu'))\n",
    "    model.add(layers.BatchNormalization())\n",
    "    model.add(layers.Conv2D(64, (3, 3), activation='relu'))\n",
    "    model.add(layers.BatchNormalization())\n",
    "    model.add(layers.MaxPooling2D(pool_size=(2, 2)))\n",
    "    model.add(layers.Dropout(0.25))\n",
    "    model.add(layers.Conv2D(128, (3, 3), activation='relu'))\n",
    "    model.add(layers.BatchNormalization())\n",
    "    model.add(layers.Conv2D(128, (3, 3), activation='relu'))\n",
    "    model.add(layers.BatchNormalization())\n",
    "    model.add(layers.MaxPooling2D(pool_size=(2, 2)))\n",
    "    model.add(layers.Dropout(0.25))\n",
    "    model.add(layers.Flatten())\n",
    "    model.add(layers.Dense(1024, activation='relu'))\n",
    "    model.add(layers.BatchNormalization())\n",
    "    model.add(layers.Dropout(0.5))\n",
    "    model.add(layers.Dense(num_classes, activation='sigmoid'))\n",
    "\n",
    "    return model"
   ]
  },
  {
   "cell_type": "code",
   "execution_count": null,
   "metadata": {
    "colab": {},
    "colab_type": "code",
    "id": "SmuPellibHF2"
   },
   "outputs": [],
   "source": [
    "def model_5(height, width, depth, num_classes):\n",
    "    model = tf.keras.Sequential()\n",
    "    input_shape = (height, width, depth)\n",
    "\n",
    "    model.add(layers.Conv2D(32, (3, 3), activation='relu', input_shape=input_shape))\n",
    "    model.add(layers.BatchNormalization())\n",
    "    model.add(layers.Conv2D(32, (3, 3), activation='relu'))\n",
    "    model.add(layers.BatchNormalization())\n",
    "    model.add(layers.Dropout(0.25))\n",
    "    model.add(layers.Conv2D(64, (3, 3), activation='relu'))\n",
    "    model.add(layers.BatchNormalization())\n",
    "    model.add(layers.Conv2D(64, (3, 3), activation='relu'))\n",
    "    model.add(layers.MaxPooling2D(pool_size=(2, 2)))\n",
    "    model.add(layers.BatchNormalization())\n",
    "    model.add(layers.Conv2D(128, (3, 3), activation='relu'))\n",
    "    model.add(layers.MaxPooling2D(pool_size=(2, 2)))\n",
    "    model.add(layers.BatchNormalization())\n",
    "    model.add(layers.Dropout(0.25))\n",
    "    model.add(layers.Flatten())\n",
    "    model.add(layers.Dense(1024, activation='relu'))\n",
    "    model.add(layers.Dropout(0.25))\n",
    "    model.add(layers.Dense(512, activation='relu'))\n",
    "    model.add(layers.Dropout(0.5))\n",
    "    model.add(layers.Dense(num_classes, activation='sigmoid'))\n",
    "\n",
    "    return model"
   ]
  },
  {
   "cell_type": "markdown",
   "metadata": {
    "colab_type": "text",
    "id": "yBJRmI4Kphw1"
   },
   "source": [
    "For CNN, define ```epochs```, ```batch_size```, ```patience``` and ```image_dimensions```."
   ]
  },
  {
   "cell_type": "code",
   "execution_count": null,
   "metadata": {
    "colab": {},
    "colab_type": "code",
    "id": "_ugtZqbAphw2"
   },
   "outputs": [],
   "source": [
    "epochs = 100\n",
    "batch_size = 32\n",
    "patience = 25\n",
    "image_dimensions = (64, 64, 3)"
   ]
  },
  {
   "cell_type": "markdown",
   "metadata": {
    "colab_type": "text",
    "id": "9C1pnsm3B8EN"
   },
   "source": [
    "#### Model 1"
   ]
  },
  {
   "cell_type": "markdown",
   "metadata": {
    "colab_type": "text",
    "id": "ETxayS_hphw-"
   },
   "source": [
    "Initialize, compile and train ```gender_model_1```."
   ]
  },
  {
   "cell_type": "code",
   "execution_count": null,
   "metadata": {
    "colab": {},
    "colab_type": "code",
    "id": "Hy53CavEphw_"
   },
   "outputs": [],
   "source": [
    "gender_model_1 = model_1(image_dimensions[0], image_dimensions[1], image_dimensions[2], 1)"
   ]
  },
  {
   "cell_type": "code",
   "execution_count": null,
   "metadata": {
    "colab": {},
    "colab_type": "code",
    "id": "xBtlKZtlphxE"
   },
   "outputs": [],
   "source": [
    "gender_model_1.compile(loss='binary_crossentropy', optimizer=tf.keras.optimizers.Adam(), metrics=['accuracy'])"
   ]
  },
  {
   "cell_type": "code",
   "execution_count": null,
   "metadata": {
    "colab": {},
    "colab_type": "code",
    "id": "qGgFmIzgG4m_"
   },
   "outputs": [],
   "source": [
    "es_1 = tf.keras.callbacks.EarlyStopping(monitor='val_loss', mode='min', verbose=1, patience=patience)\n",
    "mc_1 = tf.keras.callbacks.ModelCheckpoint('../gdrive/My Drive/colab/gan/supporting/gender_model1.h5', \n",
    "                                          monitor='val_loss', \n",
    "                                          mode='min', verbose=1, save_best_only=True)"
   ]
  },
  {
   "cell_type": "code",
   "execution_count": null,
   "metadata": {
    "colab": {
     "base_uri": "https://localhost:8080/",
     "height": 1000
    },
    "colab_type": "code",
    "id": "xOso3TKcphxI",
    "outputId": "70aa3654-137f-453e-8495-377d00872281",
    "scrolled": true
   },
   "outputs": [
    {
     "name": "stdout",
     "output_type": "stream",
     "text": [
      "\n",
      "Epoch 00001: val_loss improved from inf to 0.37224, saving model to ../gdrive/My Drive/colab/gan/supporting/gender_model1.h5\n",
      "\n",
      "Epoch 00002: val_loss improved from 0.37224 to 0.34535, saving model to ../gdrive/My Drive/colab/gan/supporting/gender_model1.h5\n",
      "\n",
      "Epoch 00003: val_loss improved from 0.34535 to 0.33310, saving model to ../gdrive/My Drive/colab/gan/supporting/gender_model1.h5\n",
      "\n",
      "Epoch 00004: val_loss improved from 0.33310 to 0.30213, saving model to ../gdrive/My Drive/colab/gan/supporting/gender_model1.h5\n",
      "\n",
      "Epoch 00005: val_loss did not improve from 0.30213\n",
      "\n",
      "Epoch 00006: val_loss did not improve from 0.30213\n",
      "\n",
      "Epoch 00007: val_loss did not improve from 0.30213\n",
      "\n",
      "Epoch 00008: val_loss did not improve from 0.30213\n",
      "\n",
      "Epoch 00009: val_loss did not improve from 0.30213\n",
      "\n",
      "Epoch 00010: val_loss did not improve from 0.30213\n",
      "\n",
      "Epoch 00011: val_loss did not improve from 0.30213\n",
      "\n",
      "Epoch 00012: val_loss did not improve from 0.30213\n",
      "\n",
      "Epoch 00013: val_loss did not improve from 0.30213\n",
      "\n",
      "Epoch 00014: val_loss did not improve from 0.30213\n",
      "\n",
      "Epoch 00015: val_loss did not improve from 0.30213\n",
      "\n",
      "Epoch 00016: val_loss did not improve from 0.30213\n",
      "\n",
      "Epoch 00017: val_loss did not improve from 0.30213\n",
      "\n",
      "Epoch 00018: val_loss did not improve from 0.30213\n",
      "\n",
      "Epoch 00019: val_loss did not improve from 0.30213\n",
      "\n",
      "Epoch 00020: val_loss did not improve from 0.30213\n",
      "\n",
      "Epoch 00021: val_loss did not improve from 0.30213\n",
      "\n",
      "Epoch 00022: val_loss did not improve from 0.30213\n",
      "\n",
      "Epoch 00023: val_loss did not improve from 0.30213\n",
      "\n",
      "Epoch 00024: val_loss did not improve from 0.30213\n",
      "\n",
      "Epoch 00025: val_loss did not improve from 0.30213\n",
      "\n",
      "Epoch 00026: val_loss did not improve from 0.30213\n",
      "\n",
      "Epoch 00027: val_loss did not improve from 0.30213\n",
      "\n",
      "Epoch 00028: val_loss did not improve from 0.30213\n",
      "\n",
      "Epoch 00029: val_loss did not improve from 0.30213\n",
      "Epoch 00029: early stopping\n"
     ]
    }
   ],
   "source": [
    "gender_1 = gender_model_1.fit(X_train, y_train, batch_size=batch_size, \n",
    "                              validation_data=(X_test, y_test), \n",
    "                              epochs=epochs, \n",
    "                              verbose=0,\n",
    "                              callbacks=[es_1, mc_1])"
   ]
  },
  {
   "cell_type": "code",
   "execution_count": null,
   "metadata": {
    "colab": {
     "base_uri": "https://localhost:8080/",
     "height": 35
    },
    "colab_type": "code",
    "id": "r-pMJbSNphxM",
    "outputId": "2be94092-ce7a-4d87-e723-995f1682ac9a"
   },
   "outputs": [
    {
     "name": "stdout",
     "output_type": "stream",
     "text": [
      "Test accuracy: 0.8896797299385071\n"
     ]
    }
   ],
   "source": [
    "best_gender_model_1 = tf.keras.models.load_model('../gdrive/My Drive/colab/gan/supporting/gender_model1.h5')\n",
    "score_1 = best_gender_model_1.evaluate(X_test, y_test, verbose=0)\n",
    "print('Test accuracy:', score_1[1])"
   ]
  },
  {
   "cell_type": "markdown",
   "metadata": {
    "colab_type": "text",
    "id": "o8aOoVGpCErF"
   },
   "source": [
    "#### Model 2"
   ]
  },
  {
   "cell_type": "markdown",
   "metadata": {
    "colab_type": "text",
    "id": "TRnkSc3eCErM"
   },
   "source": [
    "Initialize, compile and train ```gender_model_2```."
   ]
  },
  {
   "cell_type": "code",
   "execution_count": null,
   "metadata": {
    "colab": {},
    "colab_type": "code",
    "id": "-YbbBra5CErQ"
   },
   "outputs": [],
   "source": [
    "gender_model_2 = model_2(image_dimensions[0], image_dimensions[1], image_dimensions[2], 1)"
   ]
  },
  {
   "cell_type": "code",
   "execution_count": null,
   "metadata": {
    "colab": {},
    "colab_type": "code",
    "id": "tc5B7IapCErg"
   },
   "outputs": [],
   "source": [
    "gender_model_2.compile(loss='binary_crossentropy', optimizer=tf.keras.optimizers.Adam(), metrics=['accuracy'])"
   ]
  },
  {
   "cell_type": "code",
   "execution_count": null,
   "metadata": {
    "colab": {},
    "colab_type": "code",
    "id": "YYEhMa67IYrz"
   },
   "outputs": [],
   "source": [
    "es_2 = tf.keras.callbacks.EarlyStopping(monitor='val_loss', mode='min', verbose=1, patience=patience)\n",
    "mc_2 = tf.keras.callbacks.ModelCheckpoint('../gdrive/My Drive/colab/gan/supporting/gender_model2.h5', \n",
    "                                          monitor='val_loss', \n",
    "                                          mode='min', verbose=1, save_best_only=True)"
   ]
  },
  {
   "cell_type": "code",
   "execution_count": null,
   "metadata": {
    "colab": {
     "base_uri": "https://localhost:8080/",
     "height": 1000
    },
    "colab_type": "code",
    "id": "Rd9vNf28CErt",
    "outputId": "8c088e6f-1ec3-40e6-8eb4-dcc4736299d5",
    "scrolled": true
   },
   "outputs": [
    {
     "name": "stdout",
     "output_type": "stream",
     "text": [
      "\n",
      "Epoch 00001: val_loss improved from inf to 0.49506, saving model to ../gdrive/My Drive/colab/gan/supporting/gender_model2.h5\n",
      "\n",
      "Epoch 00002: val_loss did not improve from 0.49506\n",
      "\n",
      "Epoch 00003: val_loss improved from 0.49506 to 0.38458, saving model to ../gdrive/My Drive/colab/gan/supporting/gender_model2.h5\n",
      "\n",
      "Epoch 00004: val_loss improved from 0.38458 to 0.30830, saving model to ../gdrive/My Drive/colab/gan/supporting/gender_model2.h5\n",
      "\n",
      "Epoch 00005: val_loss improved from 0.30830 to 0.30098, saving model to ../gdrive/My Drive/colab/gan/supporting/gender_model2.h5\n",
      "\n",
      "Epoch 00006: val_loss improved from 0.30098 to 0.29252, saving model to ../gdrive/My Drive/colab/gan/supporting/gender_model2.h5\n",
      "\n",
      "Epoch 00007: val_loss improved from 0.29252 to 0.27806, saving model to ../gdrive/My Drive/colab/gan/supporting/gender_model2.h5\n",
      "\n",
      "Epoch 00008: val_loss did not improve from 0.27806\n",
      "\n",
      "Epoch 00009: val_loss did not improve from 0.27806\n",
      "\n",
      "Epoch 00010: val_loss did not improve from 0.27806\n",
      "\n",
      "Epoch 00011: val_loss improved from 0.27806 to 0.26536, saving model to ../gdrive/My Drive/colab/gan/supporting/gender_model2.h5\n",
      "\n",
      "Epoch 00012: val_loss did not improve from 0.26536\n",
      "\n",
      "Epoch 00013: val_loss did not improve from 0.26536\n",
      "\n",
      "Epoch 00014: val_loss did not improve from 0.26536\n",
      "\n",
      "Epoch 00015: val_loss did not improve from 0.26536\n",
      "\n",
      "Epoch 00016: val_loss did not improve from 0.26536\n",
      "\n",
      "Epoch 00017: val_loss did not improve from 0.26536\n",
      "\n",
      "Epoch 00018: val_loss did not improve from 0.26536\n",
      "\n",
      "Epoch 00019: val_loss did not improve from 0.26536\n",
      "\n",
      "Epoch 00020: val_loss did not improve from 0.26536\n",
      "\n",
      "Epoch 00021: val_loss did not improve from 0.26536\n",
      "\n",
      "Epoch 00022: val_loss did not improve from 0.26536\n",
      "\n",
      "Epoch 00023: val_loss did not improve from 0.26536\n",
      "\n",
      "Epoch 00024: val_loss did not improve from 0.26536\n",
      "\n",
      "Epoch 00025: val_loss did not improve from 0.26536\n",
      "\n",
      "Epoch 00026: val_loss did not improve from 0.26536\n",
      "\n",
      "Epoch 00027: val_loss did not improve from 0.26536\n",
      "\n",
      "Epoch 00028: val_loss did not improve from 0.26536\n",
      "\n",
      "Epoch 00029: val_loss did not improve from 0.26536\n",
      "\n",
      "Epoch 00030: val_loss did not improve from 0.26536\n",
      "\n",
      "Epoch 00031: val_loss did not improve from 0.26536\n",
      "\n",
      "Epoch 00032: val_loss did not improve from 0.26536\n",
      "\n",
      "Epoch 00033: val_loss did not improve from 0.26536\n",
      "\n",
      "Epoch 00034: val_loss did not improve from 0.26536\n",
      "\n",
      "Epoch 00035: val_loss did not improve from 0.26536\n",
      "\n",
      "Epoch 00036: val_loss did not improve from 0.26536\n",
      "Epoch 00036: early stopping\n"
     ]
    }
   ],
   "source": [
    "gender_2 = gender_model_2.fit(X_train, y_train, batch_size=batch_size, \n",
    "                              validation_data=(X_test, y_test), \n",
    "                              epochs=epochs, \n",
    "                              verbose=0,\n",
    "                              callbacks=[es_2, mc_2])"
   ]
  },
  {
   "cell_type": "code",
   "execution_count": null,
   "metadata": {
    "colab": {
     "base_uri": "https://localhost:8080/",
     "height": 35
    },
    "colab_type": "code",
    "id": "lmN4YOQ4CEr4",
    "outputId": "d8d39cd3-99c3-44c1-9e12-1e64cd86a324"
   },
   "outputs": [
    {
     "name": "stdout",
     "output_type": "stream",
     "text": [
      "Test accuracy: 0.9039145708084106\n"
     ]
    }
   ],
   "source": [
    "best_gender_model_2 = tf.keras.models.load_model('../gdrive/My Drive/colab/gan/supporting/gender_model2.h5')\n",
    "score_2 = best_gender_model_2.evaluate(X_test, y_test, verbose=0)\n",
    "print('Test accuracy:', score_2[1])"
   ]
  },
  {
   "cell_type": "markdown",
   "metadata": {
    "colab_type": "text",
    "id": "iQX8I9rcCJL0"
   },
   "source": [
    "#### Model 3"
   ]
  },
  {
   "cell_type": "markdown",
   "metadata": {
    "colab_type": "text",
    "id": "UildD8LBCJL2"
   },
   "source": [
    "Initialize, compile and train ```gender_model_3```."
   ]
  },
  {
   "cell_type": "code",
   "execution_count": null,
   "metadata": {
    "colab": {},
    "colab_type": "code",
    "id": "U52ZGm2aCJL3"
   },
   "outputs": [],
   "source": [
    "gender_model_3 = model_3(image_dimensions[0], image_dimensions[1], image_dimensions[2], 1)"
   ]
  },
  {
   "cell_type": "code",
   "execution_count": null,
   "metadata": {
    "colab": {},
    "colab_type": "code",
    "id": "1jTlW4tvCJMA"
   },
   "outputs": [],
   "source": [
    "gender_model_3.compile(loss='binary_crossentropy', optimizer=tf.keras.optimizers.Adam(), metrics=['accuracy'])"
   ]
  },
  {
   "cell_type": "code",
   "execution_count": null,
   "metadata": {
    "colab": {},
    "colab_type": "code",
    "id": "L5jx0cBvIold"
   },
   "outputs": [],
   "source": [
    "es_3 = tf.keras.callbacks.EarlyStopping(monitor='val_loss', mode='min', verbose=1, patience=patience)\n",
    "mc_3 = tf.keras.callbacks.ModelCheckpoint('../gdrive/My Drive/colab/gan/supporting/gender_model3.h5', \n",
    "                                          monitor='val_loss', \n",
    "                                          mode='min', verbose=1, save_best_only=True)"
   ]
  },
  {
   "cell_type": "code",
   "execution_count": null,
   "metadata": {
    "colab": {
     "base_uri": "https://localhost:8080/",
     "height": 1000
    },
    "colab_type": "code",
    "id": "OVWG2MQZCJML",
    "outputId": "797b0e5d-9bc6-4b84-e712-21d54134a7c0",
    "scrolled": true
   },
   "outputs": [
    {
     "name": "stdout",
     "output_type": "stream",
     "text": [
      "\n",
      "Epoch 00001: val_loss improved from inf to 2.73644, saving model to ../gdrive/My Drive/colab/gan/supporting/gender_model3.h5\n",
      "\n",
      "Epoch 00002: val_loss improved from 2.73644 to 1.30295, saving model to ../gdrive/My Drive/colab/gan/supporting/gender_model3.h5\n",
      "\n",
      "Epoch 00003: val_loss improved from 1.30295 to 1.10295, saving model to ../gdrive/My Drive/colab/gan/supporting/gender_model3.h5\n",
      "\n",
      "Epoch 00004: val_loss improved from 1.10295 to 0.80124, saving model to ../gdrive/My Drive/colab/gan/supporting/gender_model3.h5\n",
      "\n",
      "Epoch 00005: val_loss did not improve from 0.80124\n",
      "\n",
      "Epoch 00006: val_loss improved from 0.80124 to 0.68141, saving model to ../gdrive/My Drive/colab/gan/supporting/gender_model3.h5\n",
      "\n",
      "Epoch 00007: val_loss improved from 0.68141 to 0.37707, saving model to ../gdrive/My Drive/colab/gan/supporting/gender_model3.h5\n",
      "\n",
      "Epoch 00008: val_loss did not improve from 0.37707\n",
      "\n",
      "Epoch 00009: val_loss did not improve from 0.37707\n",
      "\n",
      "Epoch 00010: val_loss did not improve from 0.37707\n",
      "\n",
      "Epoch 00011: val_loss did not improve from 0.37707\n",
      "\n",
      "Epoch 00012: val_loss did not improve from 0.37707\n",
      "\n",
      "Epoch 00013: val_loss did not improve from 0.37707\n",
      "\n",
      "Epoch 00014: val_loss did not improve from 0.37707\n",
      "\n",
      "Epoch 00015: val_loss did not improve from 0.37707\n",
      "\n",
      "Epoch 00016: val_loss did not improve from 0.37707\n",
      "\n",
      "Epoch 00017: val_loss did not improve from 0.37707\n",
      "\n",
      "Epoch 00018: val_loss did not improve from 0.37707\n",
      "\n",
      "Epoch 00019: val_loss did not improve from 0.37707\n",
      "\n",
      "Epoch 00020: val_loss did not improve from 0.37707\n",
      "\n",
      "Epoch 00021: val_loss did not improve from 0.37707\n",
      "\n",
      "Epoch 00022: val_loss did not improve from 0.37707\n",
      "\n",
      "Epoch 00023: val_loss did not improve from 0.37707\n",
      "\n",
      "Epoch 00024: val_loss did not improve from 0.37707\n",
      "\n",
      "Epoch 00025: val_loss did not improve from 0.37707\n",
      "\n",
      "Epoch 00026: val_loss did not improve from 0.37707\n",
      "\n",
      "Epoch 00027: val_loss did not improve from 0.37707\n",
      "\n",
      "Epoch 00028: val_loss did not improve from 0.37707\n",
      "\n",
      "Epoch 00029: val_loss did not improve from 0.37707\n",
      "\n",
      "Epoch 00030: val_loss did not improve from 0.37707\n",
      "\n",
      "Epoch 00031: val_loss did not improve from 0.37707\n",
      "\n",
      "Epoch 00032: val_loss did not improve from 0.37707\n",
      "Epoch 00032: early stopping\n"
     ]
    }
   ],
   "source": [
    "gender_3 = gender_model_3.fit(X_train, y_train, batch_size=batch_size, \n",
    "                              validation_data=(X_test, y_test), \n",
    "                              epochs=epochs, \n",
    "                              verbose=0,\n",
    "                              callbacks=[es_3, mc_3])"
   ]
  },
  {
   "cell_type": "code",
   "execution_count": null,
   "metadata": {
    "colab": {
     "base_uri": "https://localhost:8080/",
     "height": 35
    },
    "colab_type": "code",
    "id": "K07Lu7aICJMS",
    "outputId": "40c19f1a-dfc1-4068-bad2-0b1cb8475e42"
   },
   "outputs": [
    {
     "name": "stdout",
     "output_type": "stream",
     "text": [
      "Test accuracy: 0.8594306111335754\n"
     ]
    }
   ],
   "source": [
    "best_gender_model_3 = tf.keras.models.load_model('../gdrive/My Drive/colab/gan/supporting/gender_model3.h5')\n",
    "score_3 = best_gender_model_3.evaluate(X_test, y_test, verbose=0)\n",
    "print('Test accuracy:', score_3[1])"
   ]
  },
  {
   "cell_type": "markdown",
   "metadata": {
    "colab_type": "text",
    "id": "oxO6yhcRCNqx"
   },
   "source": [
    "#### Model 4"
   ]
  },
  {
   "cell_type": "markdown",
   "metadata": {
    "colab_type": "text",
    "id": "LNP9Cc2DCNq3"
   },
   "source": [
    "Initialize, compile and train ```gender_model_4```."
   ]
  },
  {
   "cell_type": "code",
   "execution_count": null,
   "metadata": {
    "colab": {},
    "colab_type": "code",
    "id": "yU8KbaTYCNq8"
   },
   "outputs": [],
   "source": [
    "gender_model_4 = model_4(image_dimensions[0], image_dimensions[1], image_dimensions[2], 1)"
   ]
  },
  {
   "cell_type": "code",
   "execution_count": null,
   "metadata": {
    "colab": {},
    "colab_type": "code",
    "id": "564WDelnCNrL"
   },
   "outputs": [],
   "source": [
    "gender_model_4.compile(loss='binary_crossentropy', optimizer=tf.keras.optimizers.Adam(), metrics=['accuracy'])"
   ]
  },
  {
   "cell_type": "code",
   "execution_count": null,
   "metadata": {
    "colab": {},
    "colab_type": "code",
    "id": "VJ7J7_roIyza"
   },
   "outputs": [],
   "source": [
    "es_4 = tf.keras.callbacks.EarlyStopping(monitor='val_loss', mode='min', verbose=1, patience=patience)\n",
    "mc_4 = tf.keras.callbacks.ModelCheckpoint('../gdrive/My Drive/colab/gan/supporting/gender_model4.h5', \n",
    "                                          monitor='val_loss', \n",
    "                                          mode='min', verbose=1, save_best_only=True)"
   ]
  },
  {
   "cell_type": "code",
   "execution_count": null,
   "metadata": {
    "colab": {
     "base_uri": "https://localhost:8080/",
     "height": 1000
    },
    "colab_type": "code",
    "id": "Lkea32HjCNrX",
    "outputId": "f7612b61-b0a7-4898-e71c-70a8eb53ef95",
    "scrolled": true
   },
   "outputs": [
    {
     "name": "stdout",
     "output_type": "stream",
     "text": [
      "\n",
      "Epoch 00001: val_loss improved from inf to 0.99160, saving model to ../gdrive/My Drive/colab/gan/supporting/gender_model4.h5\n",
      "\n",
      "Epoch 00002: val_loss improved from 0.99160 to 0.64040, saving model to ../gdrive/My Drive/colab/gan/supporting/gender_model4.h5\n",
      "\n",
      "Epoch 00003: val_loss improved from 0.64040 to 0.53489, saving model to ../gdrive/My Drive/colab/gan/supporting/gender_model4.h5\n",
      "\n",
      "Epoch 00004: val_loss improved from 0.53489 to 0.47184, saving model to ../gdrive/My Drive/colab/gan/supporting/gender_model4.h5\n",
      "\n",
      "Epoch 00005: val_loss did not improve from 0.47184\n",
      "\n",
      "Epoch 00006: val_loss did not improve from 0.47184\n",
      "\n",
      "Epoch 00007: val_loss did not improve from 0.47184\n",
      "\n",
      "Epoch 00008: val_loss improved from 0.47184 to 0.36072, saving model to ../gdrive/My Drive/colab/gan/supporting/gender_model4.h5\n",
      "\n",
      "Epoch 00009: val_loss improved from 0.36072 to 0.29871, saving model to ../gdrive/My Drive/colab/gan/supporting/gender_model4.h5\n",
      "\n",
      "Epoch 00010: val_loss did not improve from 0.29871\n",
      "\n",
      "Epoch 00011: val_loss did not improve from 0.29871\n",
      "\n",
      "Epoch 00012: val_loss did not improve from 0.29871\n",
      "\n",
      "Epoch 00013: val_loss did not improve from 0.29871\n",
      "\n",
      "Epoch 00014: val_loss did not improve from 0.29871\n",
      "\n",
      "Epoch 00015: val_loss did not improve from 0.29871\n",
      "\n",
      "Epoch 00016: val_loss did not improve from 0.29871\n",
      "\n",
      "Epoch 00017: val_loss did not improve from 0.29871\n",
      "\n",
      "Epoch 00018: val_loss did not improve from 0.29871\n",
      "\n",
      "Epoch 00019: val_loss did not improve from 0.29871\n",
      "\n",
      "Epoch 00020: val_loss did not improve from 0.29871\n",
      "\n",
      "Epoch 00021: val_loss did not improve from 0.29871\n",
      "\n",
      "Epoch 00022: val_loss did not improve from 0.29871\n",
      "\n",
      "Epoch 00023: val_loss did not improve from 0.29871\n",
      "\n",
      "Epoch 00024: val_loss did not improve from 0.29871\n",
      "\n",
      "Epoch 00025: val_loss did not improve from 0.29871\n",
      "\n",
      "Epoch 00026: val_loss did not improve from 0.29871\n",
      "\n",
      "Epoch 00027: val_loss did not improve from 0.29871\n",
      "\n",
      "Epoch 00028: val_loss did not improve from 0.29871\n",
      "\n",
      "Epoch 00029: val_loss did not improve from 0.29871\n",
      "\n",
      "Epoch 00030: val_loss did not improve from 0.29871\n",
      "\n",
      "Epoch 00031: val_loss did not improve from 0.29871\n",
      "\n",
      "Epoch 00032: val_loss did not improve from 0.29871\n",
      "\n",
      "Epoch 00033: val_loss did not improve from 0.29871\n",
      "\n",
      "Epoch 00034: val_loss did not improve from 0.29871\n",
      "Epoch 00034: early stopping\n"
     ]
    }
   ],
   "source": [
    "gender_4 = gender_model_4.fit(X_train, y_train, batch_size=batch_size, \n",
    "                              validation_data=(X_test, y_test), \n",
    "                              epochs=epochs, \n",
    "                              verbose=0,\n",
    "                              callbacks=[es_4, mc_4])"
   ]
  },
  {
   "cell_type": "code",
   "execution_count": null,
   "metadata": {
    "colab": {
     "base_uri": "https://localhost:8080/",
     "height": 35
    },
    "colab_type": "code",
    "id": "DQARZofHCNrj",
    "outputId": "f2374ebe-be89-4393-f352-a12b78bc43c8"
   },
   "outputs": [
    {
     "name": "stdout",
     "output_type": "stream",
     "text": [
      "Test accuracy: 0.8790035843849182\n"
     ]
    }
   ],
   "source": [
    "best_gender_model_4 = tf.keras.models.load_model('../gdrive/My Drive/colab/gan/supporting/gender_model4.h5')\n",
    "score_4 = best_gender_model_4.evaluate(X_test, y_test, verbose=0)\n",
    "print('Test accuracy:', score_4[1])"
   ]
  },
  {
   "cell_type": "markdown",
   "metadata": {
    "colab_type": "text",
    "id": "S-TWW6ztCSdv"
   },
   "source": [
    "#### Model 5"
   ]
  },
  {
   "cell_type": "markdown",
   "metadata": {
    "colab_type": "text",
    "id": "frIOGVq0CSd0"
   },
   "source": [
    "Initialize, compile and train ```gender_model_5```."
   ]
  },
  {
   "cell_type": "code",
   "execution_count": null,
   "metadata": {
    "colab": {},
    "colab_type": "code",
    "id": "ddfDOsnjCSd4"
   },
   "outputs": [],
   "source": [
    "gender_model_5 = model_5(image_dimensions[0], image_dimensions[1], image_dimensions[2], 1)"
   ]
  },
  {
   "cell_type": "code",
   "execution_count": null,
   "metadata": {
    "colab": {},
    "colab_type": "code",
    "id": "H8eYhwgoCSeG"
   },
   "outputs": [],
   "source": [
    "gender_model_5.compile(loss='binary_crossentropy', optimizer=tf.keras.optimizers.Adam(), metrics=['accuracy'])"
   ]
  },
  {
   "cell_type": "code",
   "execution_count": null,
   "metadata": {
    "colab": {},
    "colab_type": "code",
    "id": "bVq7bti9I-5w"
   },
   "outputs": [],
   "source": [
    "es_5 = tf.keras.callbacks.EarlyStopping(monitor='val_loss', mode='min', verbose=1, patience=patience)\n",
    "mc_5 = tf.keras.callbacks.ModelCheckpoint('../gdrive/My Drive/colab/gan/supporting/gender_model5.h5', \n",
    "                                          monitor='val_loss', \n",
    "                                          mode='min', verbose=1, save_best_only=True)"
   ]
  },
  {
   "cell_type": "code",
   "execution_count": null,
   "metadata": {
    "colab": {
     "base_uri": "https://localhost:8080/",
     "height": 1000
    },
    "colab_type": "code",
    "id": "9pIXSJhVCSeW",
    "outputId": "fb3974ef-3986-4d2a-9c29-d1f53a00eab8",
    "scrolled": true
   },
   "outputs": [
    {
     "name": "stdout",
     "output_type": "stream",
     "text": [
      "\n",
      "Epoch 00001: val_loss improved from inf to 1.08002, saving model to ../gdrive/My Drive/colab/gan/supporting/gender_model5.h5\n",
      "\n",
      "Epoch 00002: val_loss improved from 1.08002 to 0.95942, saving model to ../gdrive/My Drive/colab/gan/supporting/gender_model5.h5\n",
      "\n",
      "Epoch 00003: val_loss improved from 0.95942 to 0.91137, saving model to ../gdrive/My Drive/colab/gan/supporting/gender_model5.h5\n",
      "\n",
      "Epoch 00004: val_loss improved from 0.91137 to 0.81220, saving model to ../gdrive/My Drive/colab/gan/supporting/gender_model5.h5\n",
      "\n",
      "Epoch 00005: val_loss improved from 0.81220 to 0.45300, saving model to ../gdrive/My Drive/colab/gan/supporting/gender_model5.h5\n",
      "\n",
      "Epoch 00006: val_loss improved from 0.45300 to 0.34210, saving model to ../gdrive/My Drive/colab/gan/supporting/gender_model5.h5\n",
      "\n",
      "Epoch 00007: val_loss improved from 0.34210 to 0.32920, saving model to ../gdrive/My Drive/colab/gan/supporting/gender_model5.h5\n",
      "\n",
      "Epoch 00008: val_loss improved from 0.32920 to 0.32277, saving model to ../gdrive/My Drive/colab/gan/supporting/gender_model5.h5\n",
      "\n",
      "Epoch 00009: val_loss did not improve from 0.32277\n",
      "\n",
      "Epoch 00010: val_loss did not improve from 0.32277\n",
      "\n",
      "Epoch 00011: val_loss did not improve from 0.32277\n",
      "\n",
      "Epoch 00012: val_loss did not improve from 0.32277\n",
      "\n",
      "Epoch 00013: val_loss did not improve from 0.32277\n",
      "\n",
      "Epoch 00014: val_loss did not improve from 0.32277\n",
      "\n",
      "Epoch 00015: val_loss did not improve from 0.32277\n",
      "\n",
      "Epoch 00016: val_loss did not improve from 0.32277\n",
      "\n",
      "Epoch 00017: val_loss did not improve from 0.32277\n",
      "\n",
      "Epoch 00018: val_loss did not improve from 0.32277\n",
      "\n",
      "Epoch 00019: val_loss did not improve from 0.32277\n",
      "\n",
      "Epoch 00020: val_loss did not improve from 0.32277\n",
      "\n",
      "Epoch 00021: val_loss did not improve from 0.32277\n",
      "\n",
      "Epoch 00022: val_loss did not improve from 0.32277\n",
      "\n",
      "Epoch 00023: val_loss did not improve from 0.32277\n",
      "\n",
      "Epoch 00024: val_loss did not improve from 0.32277\n",
      "\n",
      "Epoch 00025: val_loss did not improve from 0.32277\n",
      "\n",
      "Epoch 00026: val_loss did not improve from 0.32277\n",
      "\n",
      "Epoch 00027: val_loss did not improve from 0.32277\n",
      "\n",
      "Epoch 00028: val_loss did not improve from 0.32277\n",
      "\n",
      "Epoch 00029: val_loss did not improve from 0.32277\n",
      "\n",
      "Epoch 00030: val_loss did not improve from 0.32277\n",
      "\n",
      "Epoch 00031: val_loss did not improve from 0.32277\n",
      "\n",
      "Epoch 00032: val_loss did not improve from 0.32277\n",
      "\n",
      "Epoch 00033: val_loss did not improve from 0.32277\n",
      "Epoch 00033: early stopping\n"
     ]
    }
   ],
   "source": [
    "gender_5 = gender_model_5.fit(X_train, y_train, batch_size=batch_size, \n",
    "                              validation_data=(X_test, y_test), \n",
    "                              epochs=epochs, \n",
    "                              verbose=0,\n",
    "                              callbacks=[es_5, mc_5])"
   ]
  },
  {
   "cell_type": "code",
   "execution_count": null,
   "metadata": {
    "colab": {
     "base_uri": "https://localhost:8080/",
     "height": 35
    },
    "colab_type": "code",
    "id": "M-070wqKCSeh",
    "outputId": "3d3114fb-2408-4efd-8cf6-2c4bac120725"
   },
   "outputs": [
    {
     "name": "stdout",
     "output_type": "stream",
     "text": [
      "Test accuracy: 0.8932384252548218\n"
     ]
    }
   ],
   "source": [
    "best_gender_model_5 = tf.keras.models.load_model('../gdrive/My Drive/colab/gan/supporting/gender_model5.h5')\n",
    "score_5 = best_gender_model_5.evaluate(X_test, y_test, verbose=0)\n",
    "print('Test accuracy:', score_5[1])"
   ]
  },
  {
   "cell_type": "markdown",
   "metadata": {
    "colab_type": "text",
    "id": "IpqHLE0kqGwU"
   },
   "source": [
    "#### Model Selection"
   ]
  },
  {
   "cell_type": "markdown",
   "metadata": {
    "colab_type": "text",
    "id": "3o-94LYyphxV"
   },
   "source": [
    "Model | Test Accuracy\n",
    "------|--------------\n",
    "```best_gender_model_1``` | 0.890\n",
    "```best_gender_model_2``` | 0.903\n",
    "```best_gender_model_3``` | 0.859\n",
    "```best_gender_model_4``` | 0.879\n",
    "```best_gender_model_5``` | 0.893\n"
   ]
  },
  {
   "cell_type": "markdown",
   "metadata": {
    "colab_type": "text",
    "id": "NIUw6No8rjMK"
   },
   "source": [
    "### Gender CNN Model Evaluation\n"
   ]
  },
  {
   "cell_type": "code",
   "execution_count": null,
   "metadata": {
    "colab": {
     "base_uri": "https://localhost:8080/",
     "height": 92
    },
    "colab_type": "code",
    "id": "zS3VnYSXwOJV",
    "outputId": "cab66636-60e2-4069-be17-e8ec08a9b210"
   },
   "outputs": [
    {
     "name": "stdout",
     "output_type": "stream",
     "text": [
      "WARNING:tensorflow:From <ipython-input-43-424248913ef4>:2: Sequential.predict_classes (from tensorflow.python.keras.engine.sequential) is deprecated and will be removed after 2021-01-01.\n",
      "Instructions for updating:\n",
      "Please use instead:* `np.argmax(model.predict(x), axis=-1)`,   if your model does multi-class classification   (e.g. if it uses a `softmax` last-layer activation).* `(model.predict(x) > 0.5).astype(\"int32\")`,   if your model does binary classification   (e.g. if it uses a `sigmoid` last-layer activation).\n"
     ]
    }
   ],
   "source": [
    "# CNN predictions\n",
    "predictions = best_gender_model_2.predict_classes(X_test, batch_size=32)"
   ]
  },
  {
   "cell_type": "markdown",
   "metadata": {
    "colab_type": "text",
    "id": "xzq2iE3yfX2w"
   },
   "source": [
    "#### Classification Report"
   ]
  },
  {
   "cell_type": "code",
   "execution_count": null,
   "metadata": {
    "colab": {
     "base_uri": "https://localhost:8080/",
     "height": 183
    },
    "colab_type": "code",
    "id": "4jQhV8VyqFg-",
    "outputId": "647681f0-3712-44b4-a8b2-af6788f1b51c"
   },
   "outputs": [
    {
     "name": "stdout",
     "output_type": "stream",
     "text": [
      "              precision    recall  f1-score   support\n",
      "\n",
      "           0       0.89      0.89      0.89       246\n",
      "           1       0.91      0.91      0.91       316\n",
      "\n",
      "    accuracy                           0.90       562\n",
      "   macro avg       0.90      0.90      0.90       562\n",
      "weighted avg       0.90      0.90      0.90       562\n",
      "\n"
     ]
    }
   ],
   "source": [
    "print(classification_report(y_test, predictions))"
   ]
  },
  {
   "cell_type": "markdown",
   "metadata": {
    "colab_type": "text",
    "id": "jPA4hotufcz4"
   },
   "source": [
    "#### Confusion Matrix"
   ]
  },
  {
   "cell_type": "markdown",
   "metadata": {
    "colab_type": "text",
    "id": "irN3RC8qdl_T"
   },
   "source": [
    "In order to generate a nice visualization for the confusion matrix, I am using the following function taken from https://www.kaggle.com/grfiv4/plot-a-confusion-matrix."
   ]
  },
  {
   "cell_type": "code",
   "execution_count": null,
   "metadata": {
    "colab": {},
    "colab_type": "code",
    "id": "bPaRT_mZbEmm"
   },
   "outputs": [],
   "source": [
    "def plot_confusion_matrix(cm,\n",
    "                          target_names,\n",
    "                          title='Confusion matrix',\n",
    "                          cmap=None,\n",
    "                          normalize=True):\n",
    "    \"\"\"\n",
    "    given a sklearn confusion matrix (cm), make a nice plot\n",
    "\n",
    "    Arguments\n",
    "    ---------\n",
    "    cm:           confusion matrix from sklearn.metrics.confusion_matrix\n",
    "\n",
    "    target_names: given classification classes such as [0, 1, 2]\n",
    "                  the class names, for example: ['high', 'medium', 'low']\n",
    "\n",
    "    title:        the text to display at the top of the matrix\n",
    "\n",
    "    cmap:         the gradient of the values displayed from matplotlib.pyplot.cm\n",
    "                  see http://matplotlib.org/examples/color/colormaps_reference.html\n",
    "                  plt.get_cmap('jet') or plt.cm.Blues\n",
    "\n",
    "    normalize:    If False, plot the raw numbers\n",
    "                  If True, plot the proportions\n",
    "\n",
    "    Usage\n",
    "    -----\n",
    "    plot_confusion_matrix(cm           = cm,                  # confusion matrix created by\n",
    "                                                              # sklearn.metrics.confusion_matrix\n",
    "                          normalize    = True,                # show proportions\n",
    "                          target_names = y_labels_vals,       # list of names of the classes\n",
    "                          title        = best_estimator_name) # title of graph\n",
    "\n",
    "    Citiation\n",
    "    ---------\n",
    "    http://scikit-learn.org/stable/auto_examples/model_selection/plot_confusion_matrix.html\n",
    "\n",
    "    \"\"\"\n",
    "\n",
    "    accuracy = np.trace(cm) / float(np.sum(cm))\n",
    "    misclass = 1 - accuracy\n",
    "\n",
    "    if cmap is None:\n",
    "        cmap = plt.get_cmap('Blues')\n",
    "\n",
    "    plt.figure(figsize=(8, 6))\n",
    "    plt.imshow(cm, interpolation='nearest', cmap=cmap)\n",
    "    plt.title(title)\n",
    "    plt.colorbar()\n",
    "\n",
    "    if target_names is not None:\n",
    "        tick_marks = np.arange(len(target_names))\n",
    "        plt.xticks(tick_marks, target_names, rotation=45)\n",
    "        plt.yticks(tick_marks, target_names)\n",
    "\n",
    "    if normalize:\n",
    "        cm = cm.astype('float') / cm.sum(axis=1)[:, np.newaxis]\n",
    "\n",
    "    thresh = cm.max() / 1.5 if normalize else cm.max() / 2\n",
    "    for i, j in itertools.product(range(cm.shape[0]), range(cm.shape[1])):\n",
    "        if normalize:\n",
    "            plt.text(j, i, \"{:0.4f}\".format(cm[i, j]),\n",
    "                     horizontalalignment=\"center\",\n",
    "                     color=\"white\" if cm[i, j] > thresh else \"black\")\n",
    "        else:\n",
    "            plt.text(j, i, \"{:,}\".format(cm[i, j]),\n",
    "                     horizontalalignment=\"center\",\n",
    "                     color=\"white\" if cm[i, j] > thresh else \"black\")\n",
    "\n",
    "    plt.tight_layout()\n",
    "    plt.ylabel('True label')\n",
    "    plt.xlabel('Predicted label\\naccuracy={:0.4f}; misclass={:0.4f}'.format(accuracy, misclass))\n",
    "    plt.show()"
   ]
  },
  {
   "cell_type": "code",
   "execution_count": null,
   "metadata": {
    "colab": {
     "base_uri": "https://localhost:8080/",
     "height": 467
    },
    "colab_type": "code",
    "id": "cL_YP9Z5qKQi",
    "outputId": "8a55566b-7d02-463a-e805-ccc84e4c3494"
   },
   "outputs": [
    {
     "data": {
      "image/png": "[encoded data removed]",
      "text/plain": [
       "<Figure size 576x432 with 2 Axes>"
      ]
     },
     "metadata": {
      "needs_background": "light",
      "tags": []
     },
     "output_type": "display_data"
    }
   ],
   "source": [
    "confusion = confusion_matrix(y_test, predictions)\n",
    "plot_confusion_matrix(cm=confusion, target_names = ['Male', 'Female'], title = 'Confusion Matrix', normalize=False)"
   ]
  },
  {
   "cell_type": "markdown",
   "metadata": {
    "colab_type": "text",
    "id": "GupjIPmnfOZz"
   },
   "source": [
    "#### Receiver Operating Characteristic Curve (ROC) and Area Under the Curve (AUC)"
   ]
  },
  {
   "cell_type": "code",
   "execution_count": null,
   "metadata": {
    "colab": {
     "base_uri": "https://localhost:8080/",
     "height": 404
    },
    "colab_type": "code",
    "id": "_kemeCLa6wvc",
    "outputId": "275ca478-ed3c-4ff8-c00d-ac87cc25e68b"
   },
   "outputs": [
    {
     "data": {
      "image/png": "[encoded data removed]",
      "text/plain": [
       "<Figure size 432x432 with 1 Axes>"
      ]
     },
     "metadata": {
      "needs_background": "light",
      "tags": []
     },
     "output_type": "display_data"
    }
   ],
   "source": [
    "fpr, tpr, thresholds = roc_curve(y_test, predictions)\n",
    "fig = plt.figure(figsize = (6, 6))\n",
    "plt.plot([0, 1], [0, 1], 'k--')\n",
    "plt.plot(fpr, tpr)\n",
    "plt.fill(fpr, tpr, 'green', alpha=0.1)\n",
    "plt.xlabel('False Positive Rate')\n",
    "plt.ylabel('True Positive Rate')\n",
    "plt.title('ROC curve for CNN Model')\n",
    "plt.show()"
   ]
  },
  {
   "cell_type": "code",
   "execution_count": null,
   "metadata": {
    "colab": {
     "base_uri": "https://localhost:8080/",
     "height": 35
    },
    "colab_type": "code",
    "id": "Os9r7gnwqO1e",
    "outputId": "2a2152cc-5239-4360-9d97-7de404ce0111"
   },
   "outputs": [
    {
     "name": "stdout",
     "output_type": "stream",
     "text": [
      "Area under the ROC curve: 0.902\n"
     ]
    }
   ],
   "source": [
    "auc = roc_auc_score(y_test, predictions)\n",
    "print('Area under the ROC curve: {:.3f}'.format(auc))"
   ]
  },
  {
   "cell_type": "markdown",
   "metadata": {
    "colab_type": "text",
    "id": "u68f9tlsgGun"
   },
   "source": [
    "#### Training / Validation Loss and Accuracy"
   ]
  },
  {
   "cell_type": "code",
   "execution_count": null,
   "metadata": {
    "colab": {
     "base_uri": "https://localhost:8080/",
     "height": 295
    },
    "colab_type": "code",
    "id": "tt-Sh38zD0IL",
    "outputId": "d4ed2bf2-7157-4dc8-fc9c-c621708abb61"
   },
   "outputs": [
    {
     "data": {
      "image/png": "[encoded data removed]",
      "text/plain": [
       "<Figure size 432x288 with 1 Axes>"
      ]
     },
     "metadata": {
      "needs_background": "light",
      "tags": []
     },
     "output_type": "display_data"
    }
   ],
   "source": [
    "# Plot loss and accuracy\n",
    "epoch_range = np.arange(0, 34)\n",
    "plt.figure()\n",
    "plt.plot(epoch_range, gender_4.history['loss'], label='train loss')\n",
    "plt.plot(epoch_range, gender_4.history['val_loss'], label='val loss')\n",
    "plt.plot(epoch_range, gender_4.history['accuracy'], label='train accuracy')\n",
    "plt.plot(epoch_range, gender_4.history['val_accuracy'], label='val accuracy')\n",
    "plt.title('Loss and Accuracy')\n",
    "plt.xlabel('Number of Epochs')\n",
    "plt.ylabel('Loss and Accuracy')\n",
    "plt.legend()\n",
    "plt.show()"
   ]
  },
  {
   "cell_type": "markdown",
   "metadata": {
    "colab_type": "text",
    "id": "IOIxmUI-_Jqj"
   },
   "source": [
    "## Generative Adversarial Network\n",
    "\n",
    "In order to replace real human faces with artificial faces in user images, a GAN will be implemented. Throughout the implementation below, I referenced the Deep Convolutional GAN tutorial from TensorFlow's website (https://www.tensorflow.org/tutorials/generative/dcgan)."
   ]
  },
  {
   "cell_type": "code",
   "execution_count": null,
   "metadata": {
    "colab": {
     "base_uri": "https://localhost:8080/",
     "height": 54
    },
    "colab_type": "code",
    "id": "pEi_h6dllH4c",
    "outputId": "d9a260f7-c744-4a69-825c-9661fd36861a"
   },
   "outputs": [
    {
     "name": "stdout",
     "output_type": "stream",
     "text": [
      "There are 1598 female images\n",
      "There are 1212 male images\n"
     ]
    }
   ],
   "source": [
    "# Female images\n",
    "image_females = []\n",
    "\n",
    "# Male images\n",
    "image_males = []\n",
    "\n",
    "# Separate into female and male\n",
    "for image in image_data:\n",
    "    if image[1] == 1:\n",
    "        image_females.append(image[0])\n",
    "    else:\n",
    "        image_males.append(image[0])\n",
    "\n",
    "print('There are {} female images'.format(len(image_females)))\n",
    "print('There are {} male images'.format(len(image_males)))"
   ]
  },
  {
   "cell_type": "code",
   "execution_count": null,
   "metadata": {
    "colab": {},
    "colab_type": "code",
    "id": "4oLwbDPV6y84"
   },
   "outputs": [],
   "source": [
    "# Convert image_females and image_males lists to numpy arrays\n",
    "image_females = np.array(image_females, dtype='float32')\n",
    "image_males = np.array(image_males, dtype='float32')"
   ]
  },
  {
   "cell_type": "code",
   "execution_count": null,
   "metadata": {
    "colab": {},
    "colab_type": "code",
    "id": "W2tQgJTH7CPS"
   },
   "outputs": [],
   "source": [
    "# Normalize images to [-1, 1]\n",
    "image_females = (image_females - 127.5) / 127.5\n",
    "image_males = (image_males - 127.5) / 127.5"
   ]
  },
  {
   "cell_type": "code",
   "execution_count": null,
   "metadata": {
    "colab": {},
    "colab_type": "code",
    "id": "C4tAEunYnfWP"
   },
   "outputs": [],
   "source": [
    "female_buffer_size = len(image_females)\n",
    "male_buffer_size = len(image_males)\n",
    "batch_size = 32"
   ]
  },
  {
   "cell_type": "code",
   "execution_count": null,
   "metadata": {
    "colab": {},
    "colab_type": "code",
    "id": "3k2bmmKeoIqn"
   },
   "outputs": [],
   "source": [
    "# Batch and shuffle the training dataset\n",
    "train_female_dataset = tf.data.Dataset.from_tensor_slices(image_females).shuffle(female_buffer_size).batch(batch_size)\n",
    "train_male_dataset = tf.data.Dataset.from_tensor_slices(image_males).shuffle(male_buffer_size).batch(batch_size)"
   ]
  },
  {
   "cell_type": "markdown",
   "metadata": {
    "colab_type": "text",
    "id": "fVM4b5OUB3Qb"
   },
   "source": [
    "```create_generator``` creates the generator model that learns to produce images that look real. The generator utilizes ```layers.Conv2DTranspose()``` layers to produce an image from random noise."
   ]
  },
  {
   "cell_type": "code",
   "execution_count": null,
   "metadata": {
    "colab": {},
    "colab_type": "code",
    "id": "yOiqPFUYjNrE"
   },
   "outputs": [],
   "source": [
    "def create_generator():\n",
    "    generator = tf.keras.Sequential()\n",
    "    init = tf.keras.initializers.RandomNormal(mean=0.0, stddev=0.2)\n",
    "    generator.add(layers.Dense(8 * 8 * 256, use_bias=False, input_shape=(100,)))\n",
    "    generator.add(layers.BatchNormalization())\n",
    "    generator.add(layers.LeakyReLU())\n",
    "\n",
    "    generator.add(layers.Reshape((8, 8, 256)))\n",
    "    assert generator.output_shape == (None, 8, 8, 256)\n",
    "\n",
    "    generator.add(layers.Conv2DTranspose(256, (5, 5), strides=(1, 1), padding='same', kernel_initializer=init, use_bias=False))\n",
    "    assert generator.output_shape == (None, 8, 8, 256)\n",
    "    generator.add(layers.BatchNormalization())\n",
    "    generator.add(layers.LeakyReLU())\n",
    "\n",
    "    generator.add(layers.Conv2DTranspose(128, (5, 5), strides=(2, 2), padding='same', kernel_initializer=init, use_bias=False))\n",
    "    assert generator.output_shape == (None, 16, 16, 128)\n",
    "    generator.add(layers.BatchNormalization())\n",
    "    generator.add(layers.LeakyReLU())\n",
    "\n",
    "    generator.add(layers.Conv2DTranspose(64, (5, 5), strides=(1, 1), padding='same', kernel_initializer=init, use_bias=False))\n",
    "    assert generator.output_shape == (None, 16, 16, 64)\n",
    "    generator.add(layers.BatchNormalization())\n",
    "    generator.add(layers.LeakyReLU())\n",
    "\n",
    "    generator.add(layers.Conv2DTranspose(32, (5, 5), strides=(2, 2), padding='same', kernel_initializer=init, use_bias=False))\n",
    "    assert generator.output_shape == (None, 32, 32, 32)\n",
    "    generator.add(layers.BatchNormalization())\n",
    "    generator.add(layers.LeakyReLU())\n",
    "\n",
    "    generator.add(layers.Conv2DTranspose(3, (5, 5), strides=(2, 2), padding='same', kernel_initializer=init, use_bias=False, activation='tanh'))\n",
    "    assert generator.output_shape == (None, 64, 64, 3)\n",
    "\n",
    "    return generator"
   ]
  },
  {
   "cell_type": "markdown",
   "metadata": {
    "colab_type": "text",
    "id": "6HE1yRRqE4ia"
   },
   "source": [
    "```create_discriminator``` creates the discriminator model that learns to tell real images apart from fakes. The discriminator is a CNN-based image classifier."
   ]
  },
  {
   "cell_type": "code",
   "execution_count": null,
   "metadata": {
    "colab": {},
    "colab_type": "code",
    "id": "l1T540mY2Ls7"
   },
   "outputs": [],
   "source": [
    "def create_discriminator():\n",
    "    discriminator = tf.keras.Sequential()\n",
    "    discriminator.add(layers.Conv2D(64, (5, 5), strides=(2, 2), padding='same', input_shape=[64, 64, 3]))\n",
    "    discriminator.add(layers.BatchNormalization())\n",
    "    discriminator.add(layers.LeakyReLU(0.2))\n",
    "    discriminator.add(layers.Dropout(0.25))\n",
    "\n",
    "    discriminator.add(layers.Conv2D(128, (5, 5), strides=(2, 2), padding='same'))\n",
    "    discriminator.add(layers.BatchNormalization())\n",
    "    discriminator.add(layers.LeakyReLU(0.2))\n",
    "    discriminator.add(layers.Dropout(0.25))\n",
    "\n",
    "    discriminator.add(layers.Conv2D(256, (5, 5), strides=(2, 2), padding='same'))\n",
    "    discriminator.add(layers.BatchNormalization())\n",
    "    discriminator.add(layers.LeakyReLU(0.2))\n",
    "    discriminator.add(layers.Dropout(0.3))\n",
    "\n",
    "    discriminator.add(layers.Flatten())\n",
    "    discriminator.add(layers.Dense(1))\n",
    "\n",
    "    return discriminator"
   ]
  },
  {
   "cell_type": "code",
   "execution_count": null,
   "metadata": {
    "colab": {},
    "colab_type": "code",
    "id": "ADDqnHB32MgE"
   },
   "outputs": [],
   "source": [
    "# Initialize generator and discriminator\n",
    "male_generator = create_generator()\n",
    "male_discriminator = create_discriminator()\n",
    "\n",
    "female_generator = create_generator()\n",
    "female_discriminator = create_discriminator()"
   ]
  },
  {
   "cell_type": "markdown",
   "metadata": {
    "colab_type": "text",
    "id": "wA2YiDBeCZhB"
   },
   "source": [
    "The generator loss quantifies how well it was able to trick the discriminator. While the discriminator loss quantifies how well it is able to distinguish real images from fakes."
   ]
  },
  {
   "cell_type": "code",
   "execution_count": null,
   "metadata": {
    "colab": {},
    "colab_type": "code",
    "id": "l1EqE9jYwQ2O"
   },
   "outputs": [],
   "source": [
    "cross_entropy = tf.keras.losses.BinaryCrossentropy(from_logits=True)\n",
    "\n",
    "def generator_loss(fake_output):\n",
    "    return cross_entropy(tf.ones_like(fake_output), fake_output)\n",
    "\n",
    "def discriminator_loss(real_output, fake_output):\n",
    "    real_loss = cross_entropy(tf.ones_like(real_output), real_output)\n",
    "    fake_loss = cross_entropy(tf.zeros_like(fake_output), fake_output)\n",
    "    total_loss = real_loss + fake_loss\n",
    "    return total_loss"
   ]
  },
  {
   "cell_type": "code",
   "execution_count": null,
   "metadata": {
    "colab": {},
    "colab_type": "code",
    "id": "m7GgtaIE1OHU"
   },
   "outputs": [],
   "source": [
    "# Define optimizers\n",
    "generator_optimizer = tf.keras.optimizers.Adam(lr=0.0002, beta_1=0.5)\n",
    "discriminator_optimizer = tf.keras.optimizers.Adam(lr=0.0002, beta_1=0.5)"
   ]
  },
  {
   "cell_type": "code",
   "execution_count": null,
   "metadata": {
    "colab": {},
    "colab_type": "code",
    "id": "RaNGxaCf2RME"
   },
   "outputs": [],
   "source": [
    "# Training\n",
    "epochs = 200\n",
    "noise_dim = 100\n",
    "number_examples_to_generate = 4\n",
    "\n",
    "seed = tf.random.normal([number_examples_to_generate, noise_dim])"
   ]
  },
  {
   "cell_type": "markdown",
   "metadata": {
    "colab_type": "text",
    "id": "rxbH-dKYG_5S"
   },
   "source": [
    "In ```train_step```, the following sequence occurs:\n",
    "1. The training loop begins with generator receiving a random seed as input, which is used to produce an image.\n",
    "2. The discriminator is used to classify real images and fake images. \n",
    "3. The loss is calculated for the generator and discriminator.\n",
    "4. The gradients are used to update the generator and discriminator."
   ]
  },
  {
   "cell_type": "code",
   "execution_count": null,
   "metadata": {
    "colab": {},
    "colab_type": "code",
    "id": "inpOwkzQlHBM"
   },
   "outputs": [],
   "source": [
    "@tf.function\n",
    "def train_step(images, generator_model, discriminator_model):\n",
    "\n",
    "    noise = tf.random.normal([batch_size, noise_dim])\n",
    "\n",
    "    with tf.GradientTape() as generator_tape, tf.GradientTape() as discriminator_tape:\n",
    "        \n",
    "        generated_images = generator_model(noise, training=True)\n",
    "\n",
    "        real_output = discriminator_model(images, training=True)\n",
    "        fake_output = discriminator_model(generated_images, training=True)\n",
    "\n",
    "        gen_loss = generator_loss(fake_output)\n",
    "        disc_loss = discriminator_loss(real_output, fake_output)\n",
    "\n",
    "    gradients_of_generator = generator_tape.gradient(gen_loss, generator_model.trainable_variables)\n",
    "    gradients_of_discriminator = discriminator_tape.gradient(disc_loss, discriminator_model.trainable_variables)\n",
    "\n",
    "    generator_optimizer.apply_gradients(zip(gradients_of_generator, generator_model.trainable_variables))\n",
    "    discriminator_optimizer.apply_gradients(zip(gradients_of_discriminator, discriminator_model.trainable_variables))"
   ]
  },
  {
   "cell_type": "code",
   "execution_count": null,
   "metadata": {
    "colab": {},
    "colab_type": "code",
    "id": "p-cCHwXPqnSE"
   },
   "outputs": [],
   "source": [
    "def train(dataset, epochs, generator_model, discriminator_model):\n",
    "\n",
    "    for epoch in range(epochs):\n",
    "\n",
    "        start = time.time()\n",
    "\n",
    "        for image_batch in dataset:\n",
    "            train_step(image_batch, generator_model, discriminator_model)\n",
    "\n",
    "        display.clear_output(wait=True)\n",
    "        generate_and_save_images(generator_model, epoch + 1, seed)\n",
    "\n",
    "        print('Time for epoch {} is {} sec'.format(epoch + 1, time.time() - start))\n",
    "\n",
    "    display.clear_output(wait=True)\n",
    "    generate_and_save_images(generator_model, epochs, seed)"
   ]
  },
  {
   "cell_type": "code",
   "execution_count": null,
   "metadata": {
    "colab": {},
    "colab_type": "code",
    "id": "jGwq7OPju59Y"
   },
   "outputs": [],
   "source": [
    "def generate_and_save_images(model, epoch, test_input):\n",
    "\n",
    "    predictions = model(test_input, training=False)\n",
    "\n",
    "    fig = plt.figure(figsize=(10, 10))\n",
    "\n",
    "    for i in range(predictions.shape[0]):\n",
    "        plt.subplot(4, 4, i + 1)\n",
    "        plt.imshow(predictions[i, :, :, 0] * 127.5 + 127.5)\n",
    "        plt.axis('off')\n",
    "    \n",
    "    plt.savefig('image_at_epoch_{:04d}.png'.format(epoch))\n",
    "    plt.show()"
   ]
  },
  {
   "cell_type": "code",
   "execution_count": null,
   "metadata": {
    "colab": {
     "base_uri": "https://localhost:8080/",
     "height": 149
    },
    "colab_type": "code",
    "id": "ymrczWYDwKGD",
    "outputId": "59939ace-5ddb-4207-83fc-64bb9909613d"
   },
   "outputs": [
    {
     "data": {
      "image/png": "[encoded data removed]",
      "text/plain": [
       "<Figure size 720x720 with 4 Axes>"
      ]
     },
     "metadata": {
      "needs_background": "light",
      "tags": []
     },
     "output_type": "display_data"
    }
   ],
   "source": [
    "# Train on male images\n",
    "train(train_male_dataset, epochs, male_generator, male_discriminator)"
   ]
  },
  {
   "cell_type": "code",
   "execution_count": null,
   "metadata": {
    "colab": {},
    "colab_type": "code",
    "id": "aJLVSWYbHpD2"
   },
   "outputs": [],
   "source": [
    "# Save male_generator to disk for future use\n",
    "male_generator.save('../gdrive/My Drive/colab/gan/supporting/male_generator_model1.h5')"
   ]
  },
  {
   "cell_type": "code",
   "execution_count": null,
   "metadata": {
    "colab": {
     "base_uri": "https://localhost:8080/",
     "height": 149
    },
    "colab_type": "code",
    "id": "uqPIgP9vMizN",
    "outputId": "12d6a811-0b77-4b34-91c7-f4e9df5358de"
   },
   "outputs": [
    {
     "data": {
      "image/png": "[encoded data removed]",
      "text/plain": [
       "<Figure size 720x720 with 4 Axes>"
      ]
     },
     "metadata": {
      "needs_background": "light",
      "tags": []
     },
     "output_type": "display_data"
    }
   ],
   "source": [
    "# Train on female images\n",
    "train(train_female_dataset, epochs, female_generator, female_discriminator)"
   ]
  },
  {
   "cell_type": "code",
   "execution_count": null,
   "metadata": {
    "colab": {},
    "colab_type": "code",
    "id": "2qe8H6eyJ75s"
   },
   "outputs": [],
   "source": [
    "# Save female_generator to disk for future use\n",
    "female_generator.save('../gdrive/My Drive/colab/gan/supporting/female_generator_model1.h5')"
   ]
  },
  {
   "cell_type": "markdown",
   "metadata": {
    "colab_type": "text",
    "id": "EZrTE3WmfQRp"
   },
   "source": [
    "## CNN and GAN Test\n",
    "- Load ```gender_model```, ```male_gan``` and ```female_gan```\n",
    "- Test with 2 images by\n",
    "  1. Predicting gender\n",
    "  2. Compare predicted gender against actual gender\n",
    "  3. Based on predicted gender, create artificial face (either male or female)"
   ]
  },
  {
   "cell_type": "code",
   "execution_count": null,
   "metadata": {
    "colab": {},
    "colab_type": "code",
    "id": "KQ4CVlXBPc70"
   },
   "outputs": [],
   "source": [
    "# Load CNN gender classifier\n",
    "gender_model = tf.keras.models.load_model('../gdrive/My Drive/colab/gan/supporting/gender_model2.h5')\n",
    "\n",
    "# Load male generator\n",
    "male_gan = tf.keras.models.load_model('../gdrive/My Drive/colab/gan/supporting/male_generator_model1.h5', compile=False)\n",
    "\n",
    "# Load female generator\n",
    "female_gan = tf.keras.models.load_model('../gdrive/My Drive/colab/gan/supporting/female_generator_model1.h5', compile=False)"
   ]
  },
  {
   "cell_type": "code",
   "execution_count": null,
   "metadata": {
    "colab": {},
    "colab_type": "code",
    "id": "Q9ZyNS2jwt9X"
   },
   "outputs": [],
   "source": [
    "# Test image path\n",
    "test_image_files = ['2152_0.png', '2199_1.png']\n",
    "test_image_path = '../gdrive/My Drive/colab/gan/thispersondoesnotexist/'\n",
    "\n",
    "plot_information = []\n",
    "\n",
    "for test_image_file in test_image_files:\n",
    "\n",
    "    # Test image path\n",
    "    temp_dir = test_image_path + test_image_file\n",
    "\n",
    "    # Load test image\n",
    "    test_image = cv2.imread(temp_dir)\n",
    "    test_image_copy = test_image.copy()\n",
    "\n",
    "    # Test face image processing\n",
    "    test_face_image = cv2.resize(test_image, (64, 64))[:,:,::-1] # Convert to RGB\n",
    "    test_face_image_copy = test_face_image.copy()\n",
    "    test_face_image = test_face_image.astype('float') / 255.0\n",
    "    test_face_image = test_face_image.reshape((1, test_face_image.shape[0], test_face_image.shape[1], test_face_image.shape[2]))\n",
    "    test_face_image_label = int(test_image_file[test_image_file.find('.') - 1])\n",
    "\n",
    "    # Generate prediction\n",
    "    test_image_prediction = gender_model.predict_classes(test_face_image)\n",
    "\n",
    "    # Seed for GAN\n",
    "    gan_seed = tf.random.normal([1, 100])\n",
    "\n",
    "    if test_image_prediction[0][0] == 0:\n",
    "        male_face = male_gan.predict(gan_seed)\n",
    "        male_face = male_face[0, :, :]\n",
    "        plot_information.append([test_face_image_label, test_image_prediction[0][0], \n",
    "                                 test_face_image_copy, male_face, test_image_copy])\n",
    "                                 \n",
    "    else:\n",
    "        female_face = female_gan.predict(gan_seed)\n",
    "        female_face = female_face[0, :, :]\n",
    "        plot_information.append([test_face_image_label, test_image_prediction[0][0], \n",
    "                                 test_face_image_copy, female_face, test_image_copy])\n",
    "                                 "
   ]
  },
  {
   "cell_type": "markdown",
   "metadata": {
    "colab_type": "text",
    "id": "6Qfdn4iWlZVf"
   },
   "source": [
    "```comparison``` is used to output Actual Value (Gender) and Predicted Value along with real face and artificial face."
   ]
  },
  {
   "cell_type": "code",
   "execution_count": null,
   "metadata": {
    "colab": {},
    "colab_type": "code",
    "id": "RKIvm-NJLtKr"
   },
   "outputs": [],
   "source": [
    "def comparison(index, sample):\n",
    "    fig, (ax1, ax2) = plt.subplots(1, 2)\n",
    "\n",
    "    print('Test {}: Actual Value {} and Predicted Value {}'.format(str(sample), plot_information[index][0], plot_information[index][1]))\n",
    "    ax1.imshow((plot_information[index][2] + 255).astype(np.uint8))\n",
    "    ax1.set_title('Real Face')\n",
    "    ax1.axis('off')\n",
    "    ax2.imshow((plot_information[index][3] * 127.5 + 127.5).astype(np.uint8))\n",
    "    ax2.set_title('Artificial Face')\n",
    "    ax2.axis('off')\n",
    "\n",
    "    plt.tight_layout()"
   ]
  },
  {
   "cell_type": "markdown",
   "metadata": {
    "colab_type": "text",
    "id": "uBC90RACl6fP"
   },
   "source": [
    "#### Test 1"
   ]
  },
  {
   "cell_type": "code",
   "execution_count": null,
   "metadata": {
    "colab": {
     "base_uri": "https://localhost:8080/",
     "height": 265
    },
    "colab_type": "code",
    "id": "wpb4QkP_ySCn",
    "outputId": "eae5a834-880e-4f39-d078-e6a45ee3f4b3"
   },
   "outputs": [
    {
     "name": "stdout",
     "output_type": "stream",
     "text": [
      "Test 1: Actual Value 0 and Predicted Value 0\n"
     ]
    },
    {
     "data": {
      "image/png": "[encoded data removed]",
      "text/plain": [
       "<Figure size 432x288 with 2 Axes>"
      ]
     },
     "metadata": {
      "needs_background": "light",
      "tags": []
     },
     "output_type": "display_data"
    }
   ],
   "source": [
    "comparison(0, 1)"
   ]
  },
  {
   "cell_type": "markdown",
   "metadata": {
    "colab_type": "text",
    "id": "QplBpXxCl_ED"
   },
   "source": [
    "#### Test 2"
   ]
  },
  {
   "cell_type": "code",
   "execution_count": null,
   "metadata": {
    "colab": {
     "base_uri": "https://localhost:8080/",
     "height": 265
    },
    "colab_type": "code",
    "id": "VzhS2fdQiHRh",
    "outputId": "4b052e26-8615-4675-81dd-c43ec8da6e1a"
   },
   "outputs": [
    {
     "name": "stdout",
     "output_type": "stream",
     "text": [
      "Test 2: Actual Value 1 and Predicted Value 1\n"
     ]
    },
    {
     "data": {
      "image/png": "[encoded data removed]",
      "text/plain": [
       "<Figure size 432x288 with 2 Axes>"
      ]
     },
     "metadata": {
      "needs_background": "light",
      "tags": []
     },
     "output_type": "display_data"
    }
   ],
   "source": [
    "comparison(1, 2)"
   ]
  },
  {
   "cell_type": "markdown",
   "metadata": {
    "colab_type": "text",
    "id": "3NCKPDGNndzo"
   },
   "source": [
    "# Final Thoughts\n",
    "\n",
    "Throughout my project, I accomplished the following:\n",
    "\n",
    "- Created a web scraper that successfully scraped images from thispersondoesnotexist.com for my dataset.\n",
    "- Created a CNN gender classifier that detects male or female with 88% accuracy.\n",
    "- Created two GANs: one for male artificial faces and one for female artificial faces.\n",
    "\n",
    "Implementing the following enhancements could possibly achieve better results:\n",
    "\n",
    "- More images would be beneficial especially for training of the GANs.\n",
    "- Removal of potential duplicate images in the dataset.\n",
    "- Implement different GAN architectures.\n",
    "- Tuning for CNN and GANs."
   ]
  }
 ],
 "metadata": {
  "accelerator": "GPU",
  "colab": {
   "collapsed_sections": [],
   "machine_shape": "hm",
   "name": "generative-adversarial-network-v2.ipynb",
   "provenance": []
  },
  "kernelspec": {
   "display_name": "Python 3",
   "language": "python",
   "name": "python3"
  },
  "language_info": {
   "codemirror_mode": {
    "name": "ipython",
    "version": 3
   },
   "file_extension": ".py",
   "mimetype": "text/x-python",
   "name": "python",
   "nbconvert_exporter": "python",
   "pygments_lexer": "ipython3",
   "version": "3.7.6"
  }
 },
 "nbformat": 4,
 "nbformat_minor": 1
}
