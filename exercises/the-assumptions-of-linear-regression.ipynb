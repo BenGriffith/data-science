{
 "cells": [
  {
   "cell_type": "code",
   "execution_count": 5,
   "metadata": {},
   "outputs": [],
   "source": [
    "# Import libraries\n",
    "import numpy as np\n",
    "import pandas as pd\n",
    "import seaborn as sns\n",
    "import matplotlib.pyplot as plt\n",
    "from sqlalchemy import create_engine\n",
    "from sklearn.linear_model import LinearRegression\n",
    "\n",
    "%matplotlib inline"
   ]
  },
  {
   "cell_type": "code",
   "execution_count": 3,
   "metadata": {},
   "outputs": [],
   "source": [
    "# Database connection information\n",
    "user = 'dsbc_student'\n",
    "pw = '7*.8G9QH21'\n",
    "host = '142.93.121.174'\n",
    "port = '5432'\n",
    "db = 'weatherinszeged'"
   ]
  },
  {
   "cell_type": "code",
   "execution_count": 4,
   "metadata": {},
   "outputs": [],
   "source": [
    "# Establish and dispose connection\n",
    "engine = create_engine('postgresql://{}:{}@{}:{}/{}'.format(user, pw, host, port, db))\n",
    "\n",
    "weather = pd.read_sql_query('select * from weatherinszeged', con=engine)\n",
    "\n",
    "engine.dispose()"
   ]
  },
  {
   "cell_type": "code",
   "execution_count": 6,
   "metadata": {},
   "outputs": [
    {
     "name": "stdout",
     "output_type": "stream",
     "text": [
      "<class 'pandas.core.frame.DataFrame'>\n",
      "RangeIndex: 96453 entries, 0 to 96452\n",
      "Data columns (total 12 columns):\n",
      "date                   96453 non-null datetime64[ns, UTC]\n",
      "summary                96453 non-null object\n",
      "preciptype             96453 non-null object\n",
      "temperature            96453 non-null float64\n",
      "apparenttemperature    96453 non-null float64\n",
      "humidity               96453 non-null float64\n",
      "windspeed              96453 non-null float64\n",
      "windbearing            96453 non-null float64\n",
      "visibility             96453 non-null float64\n",
      "loudcover              96453 non-null float64\n",
      "pressure               96453 non-null float64\n",
      "dailysummary           96453 non-null object\n",
      "dtypes: datetime64[ns, UTC](1), float64(8), object(3)\n",
      "memory usage: 8.8+ MB\n"
     ]
    }
   ],
   "source": [
    "weather.info()"
   ]
  },
  {
   "cell_type": "code",
   "execution_count": 7,
   "metadata": {},
   "outputs": [],
   "source": [
    "# Independent and dependent variables\n",
    "X = weather[['humidity', 'windspeed', 'windbearing', 'pressure']]\n",
    "Y = weather[['temperature']]"
   ]
  },
  {
   "cell_type": "code",
   "execution_count": 9,
   "metadata": {},
   "outputs": [
    {
     "name": "stdout",
     "output_type": "stream",
     "text": [
      "Coefficients: \n",
      " [[-3.24962454e+01 -2.01413742e-01  4.04836936e-03 -6.91759209e-04]]\n",
      "Intercept: \n",
      " [37.92643819]\n"
     ]
    }
   ],
   "source": [
    "# Linear Regression model\n",
    "lrm = LinearRegression()\n",
    "lrm.fit(X, Y)\n",
    "print('Coefficients: \\n', lrm.coef_)\n",
    "print('Intercept: \\n', lrm.intercept_)"
   ]
  },
  {
   "cell_type": "markdown",
   "metadata": {},
   "source": [
    "### Gauss Markov Linear Assumptions "
   ]
  }
 ],
 "metadata": {
  "kernelspec": {
   "display_name": "Python 3",
   "language": "python",
   "name": "python3"
  },
  "language_info": {
   "codemirror_mode": {
    "name": "ipython",
    "version": 3
   },
   "file_extension": ".py",
   "mimetype": "text/x-python",
   "name": "python",
   "nbconvert_exporter": "python",
   "pygments_lexer": "ipython3",
   "version": "3.7.4"
  }
 },
 "nbformat": 4,
 "nbformat_minor": 2
}
