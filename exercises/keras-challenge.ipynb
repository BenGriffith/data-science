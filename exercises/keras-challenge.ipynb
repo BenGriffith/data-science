{
 "cells": [
  {
   "cell_type": "code",
   "execution_count": 38,
   "metadata": {},
   "outputs": [],
   "source": [
    "# Import libraries\n",
    "import numpy as np\n",
    "import pandas as pd\n",
    "import matplotlib.pyplot as plt\n",
    "import cv2\n",
    "import os\n",
    "import random\n",
    "import warnings\n",
    "import keras\n",
    "from sklearn.preprocessing import LabelBinarizer\n",
    "from sklearn.metrics import classification_report\n",
    "from sklearn.model_selection import train_test_split\n",
    "from keras.models import Sequential\n",
    "from keras.layers.core import Dense\n",
    "\n",
    "# Display preference\n",
    "warnings.filterwarnings('ignore')"
   ]
  },
  {
   "cell_type": "code",
   "execution_count": 24,
   "metadata": {},
   "outputs": [],
   "source": [
    "normal_directory = '../data/chest_xray/images/NORMAL/'\n",
    "abnormal_directory = '../data/chest_xray/images/PNEUMONIA/'"
   ]
  },
  {
   "cell_type": "code",
   "execution_count": 25,
   "metadata": {},
   "outputs": [],
   "source": [
    "image_data = []\n",
    "\n",
    "# Normal\n",
    "for filename in os.listdir(normal_directory):\n",
    "    image = cv2.imread(normal_directory + filename)\n",
    "    image = cv2.resize(image, (32, 32)).flatten()\n",
    "    image_data.append((image, 0))\n",
    "    \n",
    "# Abnormal\n",
    "for filename in os.listdir(abnormal_directory):\n",
    "    image = cv2.imread(abnormal_directory + filename)\n",
    "    image = cv2.resize(image, (32, 32)).flatten()\n",
    "    image_data.append((image, 1))"
   ]
  },
  {
   "cell_type": "code",
   "execution_count": 27,
   "metadata": {},
   "outputs": [],
   "source": [
    "random.shuffle(image_data)"
   ]
  },
  {
   "cell_type": "code",
   "execution_count": 28,
   "metadata": {},
   "outputs": [],
   "source": [
    "data = []\n",
    "labels = []\n",
    "\n",
    "for i in image_data:\n",
    "    data.append(i[0])\n",
    "    labels.append(i[1])"
   ]
  },
  {
   "cell_type": "code",
   "execution_count": 29,
   "metadata": {},
   "outputs": [],
   "source": [
    "data = np.array(data, dtype='float') / 255.0\n",
    "labels = np.array(labels)"
   ]
  },
  {
   "cell_type": "code",
   "execution_count": 30,
   "metadata": {},
   "outputs": [],
   "source": [
    "X_train, X_test, y_train, y_test = train_test_split(data, labels, test_size=0.25, random_state=465)"
   ]
  },
  {
   "cell_type": "code",
   "execution_count": 33,
   "metadata": {},
   "outputs": [],
   "source": [
    "y_train = keras.utils.to_categorical(y_train, 2)\n",
    "y_test = keras.utils.to_categorical(y_test, 2)"
   ]
  },
  {
   "cell_type": "code",
   "execution_count": 41,
   "metadata": {},
   "outputs": [],
   "source": [
    "model = Sequential()\n",
    "model.add(Dense(1024, input_shape=(3072,), activation='sigmoid'))\n",
    "model.add(Dense(512, activation='sigmoid'))\n",
    "model.add(Dense(2, activation='softmax'))"
   ]
  },
  {
   "cell_type": "code",
   "execution_count": 42,
   "metadata": {},
   "outputs": [],
   "source": [
    "model.compile(loss='binary_crossentropy', optimizer='SGD', metrics=['accuracy'])"
   ]
  },
  {
   "cell_type": "code",
   "execution_count": 44,
   "metadata": {},
   "outputs": [
    {
     "name": "stdout",
     "output_type": "stream",
     "text": [
      "WARNING:tensorflow:From D:\\Users\\bengriffith\\Anaconda3\\lib\\site-packages\\tensorflow\\python\\ops\\math_ops.py:3066: to_int32 (from tensorflow.python.ops.math_ops) is deprecated and will be removed in a future version.\n",
      "Instructions for updating:\n",
      "Use tf.cast instead.\n",
      "Train on 4392 samples, validate on 1464 samples\n",
      "Epoch 1/75\n",
      "4392/4392 [==============================] - 9s 2ms/step - loss: 0.5850 - accuracy: 0.7279 - val_loss: 0.6245 - val_accuracy: 0.7172\n",
      "Epoch 2/75\n",
      "4392/4392 [==============================] - 8s 2ms/step - loss: 0.5672 - accuracy: 0.7345 - val_loss: 0.6164 - val_accuracy: 0.7172\n",
      "Epoch 3/75\n",
      "4392/4392 [==============================] - 8s 2ms/step - loss: 0.5545 - accuracy: 0.7338 - val_loss: 0.5625 - val_accuracy: 0.7172\n",
      "Epoch 4/75\n",
      "4392/4392 [==============================] - 8s 2ms/step - loss: 0.5404 - accuracy: 0.7338 - val_loss: 0.5405 - val_accuracy: 0.7172\n",
      "Epoch 5/75\n",
      "4392/4392 [==============================] - 8s 2ms/step - loss: 0.5252 - accuracy: 0.7345 - val_loss: 0.5227 - val_accuracy: 0.7172\n",
      "Epoch 6/75\n",
      "4392/4392 [==============================] - 8s 2ms/step - loss: 0.5063 - accuracy: 0.7361 - val_loss: 0.5048 - val_accuracy: 0.7404\n",
      "Epoch 7/75\n",
      "4392/4392 [==============================] - 8s 2ms/step - loss: 0.4809 - accuracy: 0.7439 - val_loss: 0.4864 - val_accuracy: 0.7172\n",
      "Epoch 8/75\n",
      "4392/4392 [==============================] - 8s 2ms/step - loss: 0.4554 - accuracy: 0.7650 - val_loss: 0.4538 - val_accuracy: 0.8593\n",
      "Epoch 9/75\n",
      "4392/4392 [==============================] - 8s 2ms/step - loss: 0.4256 - accuracy: 0.7921 - val_loss: 0.4647 - val_accuracy: 0.7193\n",
      "Epoch 10/75\n",
      "4392/4392 [==============================] - 8s 2ms/step - loss: 0.3951 - accuracy: 0.8231 - val_loss: 0.4220 - val_accuracy: 0.7500\n",
      "Epoch 11/75\n",
      "4392/4392 [==============================] - 9s 2ms/step - loss: 0.3660 - accuracy: 0.8513 - val_loss: 0.3904 - val_accuracy: 0.7801\n",
      "Epoch 12/75\n",
      "4392/4392 [==============================] - 8s 2ms/step - loss: 0.3370 - accuracy: 0.8718 - val_loss: 0.3403 - val_accuracy: 0.8422\n",
      "Epoch 13/75\n",
      "4392/4392 [==============================] - 9s 2ms/step - loss: 0.3138 - accuracy: 0.8805 - val_loss: 0.3057 - val_accuracy: 0.8852\n",
      "Epoch 14/75\n",
      "4392/4392 [==============================] - 8s 2ms/step - loss: 0.2932 - accuracy: 0.8928 - val_loss: 0.3364 - val_accuracy: 0.8292\n",
      "Epoch 15/75\n",
      "4392/4392 [==============================] - 8s 2ms/step - loss: 0.2777 - accuracy: 0.8982 - val_loss: 0.2795 - val_accuracy: 0.9030\n",
      "Epoch 16/75\n",
      "4392/4392 [==============================] - 9s 2ms/step - loss: 0.2656 - accuracy: 0.8980 - val_loss: 0.2613 - val_accuracy: 0.8969\n",
      "Epoch 17/75\n",
      "4392/4392 [==============================] - 9s 2ms/step - loss: 0.2524 - accuracy: 0.9030 - val_loss: 0.2621 - val_accuracy: 0.8893\n",
      "Epoch 18/75\n",
      "4392/4392 [==============================] - 8s 2ms/step - loss: 0.2426 - accuracy: 0.9076 - val_loss: 0.2432 - val_accuracy: 0.9010\n",
      "Epoch 19/75\n",
      "4392/4392 [==============================] - 9s 2ms/step - loss: 0.2356 - accuracy: 0.9098 - val_loss: 0.2353 - val_accuracy: 0.9078\n",
      "Epoch 20/75\n",
      "4392/4392 [==============================] - 8s 2ms/step - loss: 0.2261 - accuracy: 0.9130 - val_loss: 0.2766 - val_accuracy: 0.8887\n",
      "Epoch 21/75\n",
      "4392/4392 [==============================] - 9s 2ms/step - loss: 0.2217 - accuracy: 0.9139 - val_loss: 0.2217 - val_accuracy: 0.9133\n",
      "Epoch 22/75\n",
      "4392/4392 [==============================] - 8s 2ms/step - loss: 0.2179 - accuracy: 0.9183 - val_loss: 0.2174 - val_accuracy: 0.9146\n",
      "Epoch 23/75\n",
      "4392/4392 [==============================] - 8s 2ms/step - loss: 0.2134 - accuracy: 0.9183 - val_loss: 0.2248 - val_accuracy: 0.9133\n",
      "Epoch 24/75\n",
      "4392/4392 [==============================] - 8s 2ms/step - loss: 0.2090 - accuracy: 0.9194 - val_loss: 0.2082 - val_accuracy: 0.9153\n",
      "Epoch 25/75\n",
      "4392/4392 [==============================] - 9s 2ms/step - loss: 0.2046 - accuracy: 0.9210 - val_loss: 0.2028 - val_accuracy: 0.9160\n",
      "Epoch 26/75\n",
      "4392/4392 [==============================] - 8s 2ms/step - loss: 0.1998 - accuracy: 0.9196 - val_loss: 0.2371 - val_accuracy: 0.9003\n",
      "Epoch 27/75\n",
      "4392/4392 [==============================] - 9s 2ms/step - loss: 0.1993 - accuracy: 0.9217 - val_loss: 0.2036 - val_accuracy: 0.9146\n",
      "Epoch 28/75\n",
      "4392/4392 [==============================] - 9s 2ms/step - loss: 0.1919 - accuracy: 0.9292 - val_loss: 0.1945 - val_accuracy: 0.9187\n",
      "Epoch 29/75\n",
      "4392/4392 [==============================] - 8s 2ms/step - loss: 0.1933 - accuracy: 0.9262 - val_loss: 0.1909 - val_accuracy: 0.9201\n",
      "Epoch 30/75\n",
      "4392/4392 [==============================] - 9s 2ms/step - loss: 0.1891 - accuracy: 0.9265 - val_loss: 0.2055 - val_accuracy: 0.9194\n",
      "Epoch 31/75\n",
      "4392/4392 [==============================] - 9s 2ms/step - loss: 0.1871 - accuracy: 0.9281 - val_loss: 0.2175 - val_accuracy: 0.9092\n",
      "Epoch 32/75\n",
      "4392/4392 [==============================] - 9s 2ms/step - loss: 0.1863 - accuracy: 0.9258 - val_loss: 0.2064 - val_accuracy: 0.9208\n",
      "Epoch 33/75\n",
      "4392/4392 [==============================] - 9s 2ms/step - loss: 0.1842 - accuracy: 0.9265 - val_loss: 0.1968 - val_accuracy: 0.9214\n",
      "Epoch 34/75\n",
      "4392/4392 [==============================] - 8s 2ms/step - loss: 0.1821 - accuracy: 0.9310 - val_loss: 0.3773 - val_accuracy: 0.8374\n",
      "Epoch 35/75\n",
      "4392/4392 [==============================] - 8s 2ms/step - loss: 0.1826 - accuracy: 0.9303 - val_loss: 0.2090 - val_accuracy: 0.9201\n",
      "Epoch 36/75\n",
      "4392/4392 [==============================] - 8s 2ms/step - loss: 0.1791 - accuracy: 0.9319 - val_loss: 0.2011 - val_accuracy: 0.9153\n",
      "Epoch 37/75\n",
      "4392/4392 [==============================] - 8s 2ms/step - loss: 0.1762 - accuracy: 0.9342 - val_loss: 0.1780 - val_accuracy: 0.9235\n",
      "Epoch 38/75\n",
      "4392/4392 [==============================] - 8s 2ms/step - loss: 0.1754 - accuracy: 0.9337 - val_loss: 0.1785 - val_accuracy: 0.9290\n",
      "Epoch 39/75\n",
      "4392/4392 [==============================] - 8s 2ms/step - loss: 0.1747 - accuracy: 0.9324 - val_loss: 0.1753 - val_accuracy: 0.9249\n",
      "Epoch 40/75\n",
      "4392/4392 [==============================] - 8s 2ms/step - loss: 0.1771 - accuracy: 0.9308 - val_loss: 0.2311 - val_accuracy: 0.9030\n",
      "Epoch 41/75\n",
      "4392/4392 [==============================] - 8s 2ms/step - loss: 0.1747 - accuracy: 0.9312 - val_loss: 0.2091 - val_accuracy: 0.9126\n",
      "Epoch 42/75\n",
      "4392/4392 [==============================] - 8s 2ms/step - loss: 0.1744 - accuracy: 0.9324 - val_loss: 0.1815 - val_accuracy: 0.9242\n",
      "Epoch 43/75\n",
      "4392/4392 [==============================] - 8s 2ms/step - loss: 0.1701 - accuracy: 0.9351 - val_loss: 0.2003 - val_accuracy: 0.9180\n",
      "Epoch 44/75\n",
      "4392/4392 [==============================] - 8s 2ms/step - loss: 0.1713 - accuracy: 0.9335 - val_loss: 0.1712 - val_accuracy: 0.9290\n",
      "Epoch 45/75\n",
      "4392/4392 [==============================] - 8s 2ms/step - loss: 0.1726 - accuracy: 0.9328 - val_loss: 0.1743 - val_accuracy: 0.9262\n",
      "Epoch 46/75\n",
      "4392/4392 [==============================] - 8s 2ms/step - loss: 0.1697 - accuracy: 0.9358 - val_loss: 0.1733 - val_accuracy: 0.9283\n",
      "Epoch 47/75\n",
      "4392/4392 [==============================] - 8s 2ms/step - loss: 0.1686 - accuracy: 0.9358 - val_loss: 0.1684 - val_accuracy: 0.9255\n",
      "Epoch 48/75\n",
      "4392/4392 [==============================] - 8s 2ms/step - loss: 0.1727 - accuracy: 0.9344 - val_loss: 0.1693 - val_accuracy: 0.9310\n",
      "Epoch 49/75\n",
      "4392/4392 [==============================] - 8s 2ms/step - loss: 0.1677 - accuracy: 0.9360 - val_loss: 0.1727 - val_accuracy: 0.9303\n",
      "Epoch 50/75\n",
      "4392/4392 [==============================] - 8s 2ms/step - loss: 0.1683 - accuracy: 0.9342 - val_loss: 0.1874 - val_accuracy: 0.9214\n",
      "Epoch 51/75\n",
      "4392/4392 [==============================] - 8s 2ms/step - loss: 0.1652 - accuracy: 0.9360 - val_loss: 0.1921 - val_accuracy: 0.9201\n",
      "Epoch 52/75\n",
      "4392/4392 [==============================] - 9s 2ms/step - loss: 0.1655 - accuracy: 0.9383 - val_loss: 0.2120 - val_accuracy: 0.9146\n",
      "Epoch 53/75\n",
      "4392/4392 [==============================] - 9s 2ms/step - loss: 0.1700 - accuracy: 0.9353 - val_loss: 0.4642 - val_accuracy: 0.8081\n",
      "Epoch 54/75\n",
      "4392/4392 [==============================] - 8s 2ms/step - loss: 0.1695 - accuracy: 0.9333 - val_loss: 0.1654 - val_accuracy: 0.9276\n",
      "Epoch 55/75\n",
      "4392/4392 [==============================] - 8s 2ms/step - loss: 0.1673 - accuracy: 0.9394 - val_loss: 0.1774 - val_accuracy: 0.9269\n",
      "Epoch 56/75\n",
      "4392/4392 [==============================] - 8s 2ms/step - loss: 0.1648 - accuracy: 0.9369 - val_loss: 0.1712 - val_accuracy: 0.9317\n",
      "Epoch 57/75\n",
      "4392/4392 [==============================] - 8s 2ms/step - loss: 0.1651 - accuracy: 0.9351 - val_loss: 0.1639 - val_accuracy: 0.9249\n",
      "Epoch 58/75\n",
      "4392/4392 [==============================] - 8s 2ms/step - loss: 0.1632 - accuracy: 0.9388 - val_loss: 0.1718 - val_accuracy: 0.9331\n",
      "Epoch 59/75\n",
      "4392/4392 [==============================] - 8s 2ms/step - loss: 0.1636 - accuracy: 0.9385 - val_loss: 0.1660 - val_accuracy: 0.9324\n",
      "Epoch 60/75\n",
      "4392/4392 [==============================] - 8s 2ms/step - loss: 0.1645 - accuracy: 0.9362 - val_loss: 0.1696 - val_accuracy: 0.9324\n",
      "Epoch 61/75\n",
      "4392/4392 [==============================] - 8s 2ms/step - loss: 0.1604 - accuracy: 0.9394 - val_loss: 0.1840 - val_accuracy: 0.9228\n",
      "Epoch 62/75\n",
      "4392/4392 [==============================] - 8s 2ms/step - loss: 0.1621 - accuracy: 0.9362 - val_loss: 0.1624 - val_accuracy: 0.9269\n",
      "Epoch 63/75\n",
      "4392/4392 [==============================] - 8s 2ms/step - loss: 0.1626 - accuracy: 0.9376 - val_loss: 0.3563 - val_accuracy: 0.8566\n",
      "Epoch 64/75\n",
      "4392/4392 [==============================] - 8s 2ms/step - loss: 0.1627 - accuracy: 0.9372 - val_loss: 0.1610 - val_accuracy: 0.9296\n",
      "Epoch 65/75\n",
      "4392/4392 [==============================] - 8s 2ms/step - loss: 0.1612 - accuracy: 0.9372 - val_loss: 0.1635 - val_accuracy: 0.9310\n",
      "Epoch 66/75\n",
      "4392/4392 [==============================] - 8s 2ms/step - loss: 0.1626 - accuracy: 0.9385 - val_loss: 0.1603 - val_accuracy: 0.9290\n",
      "Epoch 67/75\n",
      "4392/4392 [==============================] - 8s 2ms/step - loss: 0.1608 - accuracy: 0.9369 - val_loss: 0.1622 - val_accuracy: 0.9310\n",
      "Epoch 68/75\n",
      "4392/4392 [==============================] - 8s 2ms/step - loss: 0.1573 - accuracy: 0.9410 - val_loss: 0.2307 - val_accuracy: 0.9078\n",
      "Epoch 69/75\n",
      "4392/4392 [==============================] - 8s 2ms/step - loss: 0.1582 - accuracy: 0.9374 - val_loss: 0.1872 - val_accuracy: 0.9201\n",
      "Epoch 70/75\n",
      "4392/4392 [==============================] - 8s 2ms/step - loss: 0.1587 - accuracy: 0.9410 - val_loss: 0.1596 - val_accuracy: 0.9303\n",
      "Epoch 71/75\n",
      "4392/4392 [==============================] - 8s 2ms/step - loss: 0.1556 - accuracy: 0.9397 - val_loss: 0.1614 - val_accuracy: 0.9296\n",
      "Epoch 72/75\n",
      "4392/4392 [==============================] - 8s 2ms/step - loss: 0.1569 - accuracy: 0.9406 - val_loss: 0.1708 - val_accuracy: 0.9337\n",
      "Epoch 73/75\n",
      "4392/4392 [==============================] - 8s 2ms/step - loss: 0.1565 - accuracy: 0.9392 - val_loss: 0.1593 - val_accuracy: 0.9324\n",
      "Epoch 74/75\n",
      "4392/4392 [==============================] - 8s 2ms/step - loss: 0.1556 - accuracy: 0.9406 - val_loss: 0.1587 - val_accuracy: 0.9324\n",
      "Epoch 75/75\n",
      "4392/4392 [==============================] - 8s 2ms/step - loss: 0.1556 - accuracy: 0.9406 - val_loss: 0.1589 - val_accuracy: 0.9324\n"
     ]
    },
    {
     "data": {
      "text/plain": [
       "<keras.callbacks.callbacks.History at 0x24874ea7e08>"
      ]
     },
     "execution_count": 44,
     "metadata": {},
     "output_type": "execute_result"
    }
   ],
   "source": [
    "model.fit(X_train, y_train, validation_data=(X_test, y_test), epochs=50, batch_size=32)\n",
    "score = model.evaluate(X_test, y_test, verbose=0)\n",
    "print('Test loss:', score[0])\n",
    "print('Test accuracy:', score[1])"
   ]
  }
 ],
 "metadata": {
  "kernelspec": {
   "display_name": "Python 3",
   "language": "python",
   "name": "python3"
  },
  "language_info": {
   "codemirror_mode": {
    "name": "ipython",
    "version": 3
   },
   "file_extension": ".py",
   "mimetype": "text/x-python",
   "name": "python",
   "nbconvert_exporter": "python",
   "pygments_lexer": "ipython3",
   "version": "3.7.6"
  }
 },
 "nbformat": 4,
 "nbformat_minor": 4
}
