{
 "cells": [
  {
   "cell_type": "code",
   "execution_count": 2,
   "metadata": {},
   "outputs": [],
   "source": [
    "# Import libraries\n",
    "import numpy as np\n",
    "import pandas as pd\n",
    "import matplotlib.pyplot as plt\n",
    "import cv2\n",
    "import os\n",
    "import requests\n",
    "import time\n",
    "import json\n",
    "import keras\n",
    "import warnings\n",
    "from selenium import webdriver\n",
    "from selenium.webdriver.firefox.options import Options\n",
    "from bs4 import BeautifulSoup\n",
    "\n",
    "# Display preference\n",
    "warnings.filterwarnings('ignore')"
   ]
  },
  {
   "cell_type": "code",
   "execution_count": 15,
   "metadata": {},
   "outputs": [],
   "source": [
    "def scroll(driver, option, timeout):\n",
    "    \n",
    "    if option == 1:\n",
    "    \n",
    "        # Get scroll height\n",
    "        last_height = driver.execute_script(\"return document.body.scrollHeight\")\n",
    "\n",
    "        while True:\n",
    "    \n",
    "            # Scroll down to bottom\n",
    "            driver.execute_script(\"window.scrollTo(0, document.body.scrollHeight);\")\n",
    "\n",
    "            # Wait\n",
    "            time.sleep(timeout)\n",
    "\n",
    "            # Calculate new scroll height and compare with last scroll height\n",
    "            new_height = driver.execute_script(\"return document.body.scrollHeight\")\n",
    "        \n",
    "            if new_height == last_height:\n",
    "            \n",
    "                break\n",
    "        \n",
    "            last_height = new_height\n",
    "    else:\n",
    "        \n",
    "        # Used to scroll webpage and scrape occupation names\n",
    "        for i in range(9):\n",
    "            \n",
    "            # Get element\n",
    "            load_more_button = driver.find_element_by_xpath('/html/body/main/div/div[1]/article/div[5]/div/div/section/div/button/div')\n",
    "            driver.execute_script(\"arguments[0].click();\", load_more_button)\n",
    "            \n",
    "            # Wait\n",
    "            time.sleep(timeout)        "
   ]
  },
  {
   "cell_type": "code",
   "execution_count": 16,
   "metadata": {},
   "outputs": [],
   "source": [
    "# Set options\n",
    "options = Options()\n",
    "options.set_preference('permissions.default.image', 2)\n",
    "options.set_preference('dom.ipc.plugins.enabled.libflashplayer.so', False)\n",
    "\n",
    "def all_links(url, scroll_option=0, action=0):\n",
    "    \n",
    "    # Setup driver\n",
    "    driver = webdriver.Firefox(options=options, executable_path='D:/Users/bengriffith/Desktop/geckodriver.exe')\n",
    "\n",
    "    # Wait before throwing an exception\n",
    "    driver.implicitly_wait(20)\n",
    "\n",
    "    # Open the page\n",
    "    driver.get(url)\n",
    "    \n",
    "    # Start scrolling\n",
    "    scroll(driver, scroll_option, 10)\n",
    "    \n",
    "    # Beautiful Soup parses page_source\n",
    "    soup = BeautifulSoup(driver.page_source, 'lxml')\n",
    "    \n",
    "    # Close the driver\n",
    "    driver.close()\n",
    "\n",
    "    if action == 1:\n",
    "    \n",
    "        # Empty dictionary to store m from page source\n",
    "        get_m = {}\n",
    "    \n",
    "        # Counter for get_m dictionary\n",
    "        get_m_counter = 0\n",
    "\n",
    "        # Looping through all the a elements in the page source\n",
    "        for link in soup.find_all('a', {'class': 'iusc'}):\n",
    "    \n",
    "            # Add values to dictionary\n",
    "            get_m[get_m_counter] = link.get('m')\n",
    "        \n",
    "            # Increment counter\n",
    "            get_m_counter += 1\n",
    "        \n",
    "        # Convert from string to dictionary\n",
    "        for key, value in get_m.items():\n",
    "            get_m[key] = json.loads(value)\n",
    "        \n",
    "        # Empty list to store image links\n",
    "        links = []\n",
    "    \n",
    "        # Loop through get_m dictionary and add image links to links list\n",
    "        for value in get_m.values():\n",
    "            links.append(value['murl'])\n",
    "        \n",
    "        return links\n",
    "    else:\n",
    "        return soup"
   ]
  },
  {
   "cell_type": "code",
   "execution_count": 17,
   "metadata": {},
   "outputs": [],
   "source": [
    "# List of search phrases\n",
    "search_phrases = []"
   ]
  },
  {
   "cell_type": "code",
   "execution_count": 18,
   "metadata": {},
   "outputs": [],
   "source": [
    "# Popular names url\n",
    "name_url = 'https://www.ssa.gov/oact/babynames/decades/century.html'\n",
    "\n",
    "# Beautiful Soup object\n",
    "soup_name = all_links(name_url, 1)\n",
    "\n",
    "# Get td tag\n",
    "td_tag = soup_name.select('.t-stripe > tbody > tr > td')\n",
    "\n",
    "# Add name to search phrases\n",
    "search_phrases += [name.get_text().lower() for name in td_tag if name.get_text().isalpha()]"
   ]
  },
  {
   "cell_type": "code",
   "execution_count": 19,
   "metadata": {},
   "outputs": [],
   "source": [
    "# Best ranked jobs url\n",
    "occupation_url = 'https://money.usnews.com/careers/best-jobs/rankings/the-100-best-jobs'\n",
    "\n",
    "# Beautiful Soup object\n",
    "soup_occupation = all_links(occupation_url)\n",
    "    \n",
    "# Get a tag\n",
    "a_tag = soup_occupation.select('.card-body-container > div > h2 > a')\n",
    "\n",
    "# Add occupation to search phrases\n",
    "search_phrases += [occupation.get_text().lower() for occupation in a_tag]"
   ]
  },
  {
   "cell_type": "code",
   "execution_count": 20,
   "metadata": {},
   "outputs": [
    {
     "ename": "KeyboardInterrupt",
     "evalue": "",
     "output_type": "error",
     "traceback": [
      "\u001b[1;31m---------------------------------------------------------------------------\u001b[0m",
      "\u001b[1;31mKeyboardInterrupt\u001b[0m                         Traceback (most recent call last)",
      "\u001b[1;32m<ipython-input-20-99fc4226fbad>\u001b[0m in \u001b[0;36m<module>\u001b[1;34m\u001b[0m\n\u001b[0;32m      9\u001b[0m \u001b[1;33m\u001b[0m\u001b[0m\n\u001b[0;32m     10\u001b[0m     \u001b[1;31m# Add image links\u001b[0m\u001b[1;33m\u001b[0m\u001b[1;33m\u001b[0m\u001b[1;33m\u001b[0m\u001b[0m\n\u001b[1;32m---> 11\u001b[1;33m     \u001b[0mimage_links\u001b[0m \u001b[1;33m+=\u001b[0m \u001b[0mall_links\u001b[0m\u001b[1;33m(\u001b[0m\u001b[0murl\u001b[0m\u001b[1;33m,\u001b[0m \u001b[1;36m1\u001b[0m\u001b[1;33m,\u001b[0m \u001b[1;36m1\u001b[0m\u001b[1;33m)\u001b[0m\u001b[1;33m\u001b[0m\u001b[1;33m\u001b[0m\u001b[0m\n\u001b[0m",
      "\u001b[1;32m<ipython-input-16-fa23e89e5ad2>\u001b[0m in \u001b[0;36mall_links\u001b[1;34m(url, scroll_option, action)\u001b[0m\n\u001b[0;32m     16\u001b[0m \u001b[1;33m\u001b[0m\u001b[0m\n\u001b[0;32m     17\u001b[0m     \u001b[1;31m# Start scrolling\u001b[0m\u001b[1;33m\u001b[0m\u001b[1;33m\u001b[0m\u001b[1;33m\u001b[0m\u001b[0m\n\u001b[1;32m---> 18\u001b[1;33m     \u001b[0mscroll\u001b[0m\u001b[1;33m(\u001b[0m\u001b[0mdriver\u001b[0m\u001b[1;33m,\u001b[0m \u001b[0mscroll_option\u001b[0m\u001b[1;33m,\u001b[0m \u001b[1;36m10\u001b[0m\u001b[1;33m)\u001b[0m\u001b[1;33m\u001b[0m\u001b[1;33m\u001b[0m\u001b[0m\n\u001b[0m\u001b[0;32m     19\u001b[0m \u001b[1;33m\u001b[0m\u001b[0m\n\u001b[0;32m     20\u001b[0m     \u001b[1;31m# Beautiful Soup parses page_source\u001b[0m\u001b[1;33m\u001b[0m\u001b[1;33m\u001b[0m\u001b[1;33m\u001b[0m\u001b[0m\n",
      "\u001b[1;32m<ipython-input-15-aeec1dc32d18>\u001b[0m in \u001b[0;36mscroll\u001b[1;34m(driver, option, timeout)\u001b[0m\n\u001b[0;32m     12\u001b[0m \u001b[1;33m\u001b[0m\u001b[0m\n\u001b[0;32m     13\u001b[0m             \u001b[1;31m# Wait\u001b[0m\u001b[1;33m\u001b[0m\u001b[1;33m\u001b[0m\u001b[1;33m\u001b[0m\u001b[0m\n\u001b[1;32m---> 14\u001b[1;33m             \u001b[0mtime\u001b[0m\u001b[1;33m.\u001b[0m\u001b[0msleep\u001b[0m\u001b[1;33m(\u001b[0m\u001b[0mtimeout\u001b[0m\u001b[1;33m)\u001b[0m\u001b[1;33m\u001b[0m\u001b[1;33m\u001b[0m\u001b[0m\n\u001b[0m\u001b[0;32m     15\u001b[0m \u001b[1;33m\u001b[0m\u001b[0m\n\u001b[0;32m     16\u001b[0m             \u001b[1;31m# Calculate new scroll height and compare with last scroll height\u001b[0m\u001b[1;33m\u001b[0m\u001b[1;33m\u001b[0m\u001b[1;33m\u001b[0m\u001b[0m\n",
      "\u001b[1;31mKeyboardInterrupt\u001b[0m: "
     ]
    }
   ],
   "source": [
    "# List for image links\n",
    "image_links = []\n",
    "\n",
    "# Get image links for each search phrase\n",
    "for phrase in search_phrases:\n",
    "    \n",
    "    # Update url\n",
    "    url = 'https://www.bing.com/images/search?q=' + phrase + '&qs=n&form=QBIR&qft=%20filterui%3Alicense-L2_L3_L4_L5_L6_L7%20filterui%3Aface-face&sp=-1&pq=' + phrase + '&sc=8-9&sk=&cvid=8C2D8EC9A35A4948980A61669549C180'\n",
    "    \n",
    "    # Add image links\n",
    "    image_links += all_links(url, 1, 1)"
   ]
  },
  {
   "cell_type": "code",
   "execution_count": 20,
   "metadata": {},
   "outputs": [
    {
     "data": {
      "text/plain": [
       "18825"
      ]
     },
     "execution_count": 20,
     "metadata": {},
     "output_type": "execute_result"
    }
   ],
   "source": [
    "len(image_links)"
   ]
  },
  {
   "cell_type": "code",
   "execution_count": 21,
   "metadata": {
    "scrolled": false
   },
   "outputs": [
    {
     "name": "stdout",
     "output_type": "stream",
     "text": [
      "https://upload.wikimedia.org/wikipedia/commons/a/ad/Angelina_Jolie_2_June_2014_%28cropped%29.jpg\n",
      "https://2.bp.blogspot.com/_M9roea07aEo/TRnTECqVsnI/AAAAAAAAAes/Kih6d-dRBvk/s1600/jennifer-lopez.jpg\n",
      "http://1.bp.blogspot.com/-ecLBfr5juf0/TZEvBL43nfI/AAAAAAAABWk/BqzSzkfrpzQ/s640/britney_spears_new_style_face.jpg\n",
      "http://3.bp.blogspot.com/_IA5nokOFh84/TMKV5YVhRhI/AAAAAAAAEe8/QMLzDZ6LRqU/s1600/lindsay-lohan.jpg\n",
      "http://1.bp.blogspot.com/-0Jn4T9wSUx8/TdHrTyyo23I/AAAAAAAAFxs/68tE6_Y7-rY/s1600/bailee-madison-2nd-annual-fashion-with-a-passion-teen-celebrity-fashion-show-to-benefit-camp-ronald-mcdonald-arrivals-qPJr2Z.jpg\n",
      "https://lh5.googleusercontent.com/proxy/KT-yu9mAlCmdmmPPstVB-EtQF8K_8l7weO-XedDcHrt6E2UHmuaQOUqEONaV-F721H5Et9uMLfK2S0yM-_0BS8dcUNvfKELvupuvCKlogPc0LcmJVoygfnhvNfwUxWWlvBZ4saH6tgQ=s0-d\n",
      "http://2.bp.blogspot.com/-Q9qEniziUIQ/TpZWFGLdj-I/AAAAAAAABCA/ghOH9LFiPZc/s640/IMG_2150.JPG\n",
      "http://1.bp.blogspot.com/-0Jn4T9wSUx8/TdHrTyyo23I/AAAAAAAAFxs/68tE6_Y7-rY/s1600/bailee-madison-2nd-annual-fashion-with-a-passion-teen-celebrity-fashion-show-to-benefit-camp-ronald-mcdonald-arrivals-qPJr2Z.jpg\n",
      "http://3.bp.blogspot.com/-hr2fnnbU91s/TePSMJ0zkBI/AAAAAAAALxM/vaNL5O3aAqY/s320/formal_hairstyle_pictures_formal-hairstyles-photos.jpg\n",
      "https://1.bp.blogspot.com/-QEW2rFQEjw4/T5rxKYv37DI/AAAAAAAAAOg/NhdKMFBpav4/s1600/Kristen+Stewart+-+Long+hairstyle11.jpg\n"
     ]
    }
   ],
   "source": [
    "for image_link in image_links[:10]:\n",
    "    print(image_link)"
   ]
  },
  {
   "cell_type": "code",
   "execution_count": 22,
   "metadata": {
    "scrolled": true
   },
   "outputs": [],
   "source": [
    "# Header to accompany get request\n",
    "headers = {'user-agent': 'scraper - school project (bengriffith@outlook.com)'}\n",
    "\n",
    "# Counter to be used in image file name\n",
    "image_counter = 0\n",
    "\n",
    "# Write images to disk\n",
    "for image_link in image_links[:3]:\n",
    "    with open('images/face_' + str(image_counter) + '.png', 'wb') as f:\n",
    "        response = requests.get(image_link, headers=headers)\n",
    "        f.write(response.content)\n",
    "    image_counter += 1"
   ]
  },
  {
   "cell_type": "code",
   "execution_count": 23,
   "metadata": {},
   "outputs": [],
   "source": [
    "image_data = []\n",
    "\n",
    "for filename in os.listdir('images/')[1:2]:\n",
    "    image = cv2.imread('images/' + filename)\n",
    "    image = cv2.resize(image, (250, 250)).flatten()\n",
    "    image_data.append(image)"
   ]
  },
  {
   "cell_type": "code",
   "execution_count": 58,
   "metadata": {},
   "outputs": [],
   "source": [
    "image_data = np.array(image_data, dtype='float') / 255.0"
   ]
  },
  {
   "cell_type": "code",
   "execution_count": 24,
   "metadata": {},
   "outputs": [],
   "source": [
    "prototxt = 'supporting/deploy.prototxt'\n",
    "model = 'supporting/res10_300x300_ssd_iter_140000.caffemodel'"
   ]
  },
  {
   "cell_type": "code",
   "execution_count": 37,
   "metadata": {},
   "outputs": [],
   "source": [
    "net = cv2.dnn.readNetFromCaffe(prototxt, model)\n",
    "\n",
    "image = cv2.imread('images/face_1.png')\n",
    "(h, w) = image.shape[:2]\n",
    "blob = cv2.dnn.blobFromImage(cv2.resize(image, (300, 300)), 1.0, (300, 300), (104.0, 177.0, 123.0))"
   ]
  },
  {
   "cell_type": "code",
   "execution_count": 38,
   "metadata": {},
   "outputs": [],
   "source": [
    "net.setInput(blob)\n",
    "detections = net.forward()"
   ]
  },
  {
   "cell_type": "code",
   "execution_count": 39,
   "metadata": {},
   "outputs": [
    {
     "data": {
      "text/plain": [
       "-1"
      ]
     },
     "execution_count": 39,
     "metadata": {},
     "output_type": "execute_result"
    }
   ],
   "source": [
    "for i in range(detections.shape[2]):\n",
    "    \n",
    "    confidence = detections[0, 0, i, 2]\n",
    "    \n",
    "    if confidence > 0.5:\n",
    "        \n",
    "        box = detections[0, 0, i, 3:7] * np.array([w, h, w, h])\n",
    "        (startX, startY, endX, endY) = box.astype('int')\n",
    "        \n",
    "        text = '{:.2f}%'.format(confidence * 100)\n",
    "        y = startY - 10 if startY - 10 > 10 else startY + 10\n",
    "        cv2.rectangle(image, (startX, startY), (endX, endY), (0, 0, 255), 2)\n",
    "        cv2.putText(image, text, (startX, y), cv2.FONT_HERSHEY_SIMPLEX, 0.45, (0, 0, 255), 2)\n",
    "        \n",
    "        \n",
    "cv2.imshow('Output', image)\n",
    "cv2.waitKey(0)"
   ]
  }
 ],
 "metadata": {
  "kernelspec": {
   "display_name": "Python 3",
   "language": "python",
   "name": "python3"
  },
  "language_info": {
   "codemirror_mode": {
    "name": "ipython",
    "version": 3
   },
   "file_extension": ".py",
   "mimetype": "text/x-python",
   "name": "python",
   "nbconvert_exporter": "python",
   "pygments_lexer": "ipython3",
   "version": "3.7.6"
  }
 },
 "nbformat": 4,
 "nbformat_minor": 4
}
