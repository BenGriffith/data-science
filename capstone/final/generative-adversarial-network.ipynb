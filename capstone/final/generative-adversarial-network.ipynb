{
 "cells": [
  {
   "cell_type": "code",
   "execution_count": 15,
   "metadata": {},
   "outputs": [],
   "source": [
    "import numpy as np\n",
    "import pandas as pd\n",
    "import matplotlib.pyplot as plt\n",
    "import os\n",
    "import requests\n",
    "from bs4 import BeautifulSoup"
   ]
  },
  {
   "cell_type": "code",
   "execution_count": 3,
   "metadata": {},
   "outputs": [],
   "source": [
    "# Webscraper\n",
    "url = 'https://www.bing.com/images/search?sp=-1&ghc=1&pq=male+face&sc=8-9&sk=&cvid=DB6082808D684A4A9104F772BD599D39&q=male+face&qft=+filterui:license-L2_L3_L5_L6&FORM=IRFLTR'\n",
    "\n",
    "# Query\n",
    "headers = {'user-agent': 'scraper - school project (bengriffith@outlook.com)'}\n",
    "response = requests.get(url, headers=headers)\n",
    "\n",
    "if response.ok:\n",
    "    data = response.text\n",
    "    soup = BeautifulSoup(data, 'html.parser')\n",
    "    raw_images = soup.select('.content')"
   ]
  },
  {
   "cell_type": "code",
   "execution_count": 23,
   "metadata": {},
   "outputs": [],
   "source": [
    "img_tag = soup.findAll('img')\n",
    "    \n",
    "images = [img['src']  for img in img_tag]"
   ]
  },
  {
   "cell_type": "code",
   "execution_count": 27,
   "metadata": {},
   "outputs": [],
   "source": [
    "i = 0\n",
    "for image in images[1:15]:\n",
    "    with open('sample' + str(i) + '.png', 'wb') as f:\n",
    "        response = requests.get(image)\n",
    "        f.write(response.content)\n",
    "    i += 1"
   ]
  }
 ],
 "metadata": {
  "kernelspec": {
   "display_name": "Python 3",
   "language": "python",
   "name": "python3"
  },
  "language_info": {
   "codemirror_mode": {
    "name": "ipython",
    "version": 3
   },
   "file_extension": ".py",
   "mimetype": "text/x-python",
   "name": "python",
   "nbconvert_exporter": "python",
   "pygments_lexer": "ipython3",
   "version": "3.7.6"
  }
 },
 "nbformat": 4,
 "nbformat_minor": 4
}
