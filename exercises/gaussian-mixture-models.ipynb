{
 "cells": [
  {
   "cell_type": "code",
   "execution_count": 13,
   "metadata": {},
   "outputs": [],
   "source": [
    "# Import libraries\n",
    "import numpy as np\n",
    "import pandas as pd\n",
    "import matplotlib.pyplot as plt\n",
    "from sqlalchemy import create_engine\n",
    "from sklearn.mixture import GaussianMixture\n",
    "from sklearn.preprocessing import StandardScaler\n",
    "from sklearn.decomposition import PCA\n",
    "from sklearn import metrics"
   ]
  },
  {
   "cell_type": "code",
   "execution_count": 14,
   "metadata": {},
   "outputs": [],
   "source": [
    "# Connection information\n",
    "user = 'dsbc_student'\n",
    "pw = '7*.8G9QH21'\n",
    "host = '142.93.121.174'\n",
    "port = '5432'\n",
    "db = 'heartdisease'"
   ]
  },
  {
   "cell_type": "code",
   "execution_count": 15,
   "metadata": {},
   "outputs": [],
   "source": [
    "# Establish connection\n",
    "connection = create_engine('postgresql://{}:{}@{}:{}/{}'.format(user, pw, host, port, db))\n",
    "\n",
    "# Create dataframe\n",
    "df = pd.read_sql_query('select * from heartdisease', con=connection)\n",
    "\n",
    "# Terminate connection\n",
    "connection.dispose()"
   ]
  },
  {
   "cell_type": "code",
   "execution_count": 16,
   "metadata": {},
   "outputs": [],
   "source": [
    "# Define features and outcome\n",
    "X = df.iloc[:, :13]\n",
    "y = df.iloc[:, 13]\n",
    "\n",
    "# Replace missing values\n",
    "X = X.replace(to_replace='?', value=0)\n",
    "\n",
    "# Binarize\n",
    "y = np.where(y > 0, 0, 1)"
   ]
  },
  {
   "cell_type": "code",
   "execution_count": 17,
   "metadata": {},
   "outputs": [],
   "source": [
    "# Standardize\n",
    "scaler = StandardScaler()\n",
    "X_std = scaler.fit_transform(X)"
   ]
  },
  {
   "cell_type": "markdown",
   "metadata": {},
   "source": [
    "### Gaussian Mixture Models "
   ]
  },
  {
   "cell_type": "code",
   "execution_count": 24,
   "metadata": {},
   "outputs": [],
   "source": [
    "# Initialize GMM cluster\n",
    "gmm_cluster = GaussianMixture(n_components=2)\n",
    "\n",
    "# Fit model\n",
    "clusters = gmm_cluster.fit_predict(X_std)"
   ]
  },
  {
   "cell_type": "code",
   "execution_count": 21,
   "metadata": {},
   "outputs": [
    {
     "name": "stdout",
     "output_type": "stream",
     "text": [
      "Adjusted Rand Index for GMM is 0.4207322145049338\n",
      "Silhouette score for GMM is 0.16118591340148433\n"
     ]
    }
   ],
   "source": [
    "print('Adjusted Rand Index for GMM is {}'.format(metrics.adjusted_rand_score(y, clusters)))\n",
    "print('Silhouette score for GMM is {}'.format(metrics.silhouette_score(X_std, clusters, metric='euclidean')))"
   ]
  },
  {
   "cell_type": "markdown",
   "metadata": {},
   "source": [
    "In comparison to k-means, GMM Adjusted Rand Index (ARI) and Silhouette score is lower. \n",
    "\n",
    "In comparison to hierarchical:\n",
    "- GMM ARI is higher than ward, but the Silhouette score is lower. \n",
    "- GMM ARI is lower than complete, but the Silhouette score is higher. \n",
    "- GMM ARI and Silhouette score is lower than average."
   ]
  },
  {
   "cell_type": "markdown",
   "metadata": {},
   "source": [
    "### Gaussian Mixture Models Covariance Type "
   ]
  },
  {
   "cell_type": "code",
   "execution_count": 32,
   "metadata": {},
   "outputs": [
    {
     "name": "stdout",
     "output_type": "stream",
     "text": [
      "FULL Covariance\n",
      "Adjusted Rand Index for GMM is 0.18389186035089963\n",
      "Silhouette score for GMM is 0.13628813153331445\n",
      "TIED Covariance\n",
      "Adjusted Rand Index for GMM is 0.18389186035089963\n",
      "Silhouette score for GMM is 0.13628813153331445\n",
      "DIAG Covariance\n",
      "Adjusted Rand Index for GMM is 0.18389186035089963\n",
      "Silhouette score for GMM is 0.13628813153331445\n",
      "SPHERICAL Covariance\n",
      "Adjusted Rand Index for GMM is 0.20765243525722465\n",
      "Silhouette score for GMM is 0.12468753110276876\n"
     ]
    }
   ],
   "source": [
    "covariance = ['full', 'tied', 'diag', 'spherical']\n",
    "\n",
    "for covar in covariance:\n",
    "    \n",
    "    # Initialize GMM cluster\n",
    "    gmm_cluster = GaussianMixture(n_components=2, covariance_type=covar, random_state=123)\n",
    "    \n",
    "    # Fit model\n",
    "    clusters = gmm_cluster.fit_predict(X_std)\n",
    "    \n",
    "    print('{} Covariance'.format(covar.upper()))\n",
    "    print('Adjusted Rand Index for GMM is {}'.format(metrics.adjusted_rand_score(y, clusters)))\n",
    "    print('Silhouette score for GMM is {}'.format(metrics.silhouette_score(X_std, clusters, metric='euclidean')))"
   ]
  }
 ],
 "metadata": {
  "kernelspec": {
   "display_name": "Python 3",
   "language": "python",
   "name": "python3"
  },
  "language_info": {
   "codemirror_mode": {
    "name": "ipython",
    "version": 3
   },
   "file_extension": ".py",
   "mimetype": "text/x-python",
   "name": "python",
   "nbconvert_exporter": "python",
   "pygments_lexer": "ipython3",
   "version": "3.7.4"
  }
 },
 "nbformat": 4,
 "nbformat_minor": 2
}
